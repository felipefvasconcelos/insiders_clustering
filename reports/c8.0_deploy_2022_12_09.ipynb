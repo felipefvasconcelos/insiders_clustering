{
 "cells": [
  {
   "cell_type": "markdown",
   "id": "ef8e9756",
   "metadata": {
    "papermill": {
     "duration": 0.01285,
     "end_time": "2022-12-09T23:39:23.811146",
     "exception": false,
     "start_time": "2022-12-09T23:39:23.798296",
     "status": "completed"
    },
    "tags": []
   },
   "source": [
    "# 1.0. FUNCTIONS & LIBS"
   ]
  },
  {
   "cell_type": "markdown",
   "id": "b5cd36bd",
   "metadata": {
    "ExecuteTime": {
     "end_time": "2022-11-26T14:37:10.773420Z",
     "start_time": "2022-11-26T14:37:10.770093Z"
    },
    "papermill": {
     "duration": 0.010871,
     "end_time": "2022-12-09T23:39:23.832304",
     "exception": false,
     "start_time": "2022-12-09T23:39:23.821433",
     "status": "completed"
    },
    "tags": []
   },
   "source": [
    "## 1.1. Imports"
   ]
  },
  {
   "cell_type": "code",
   "execution_count": 1,
   "id": "82cfda53",
   "metadata": {
    "ExecuteTime": {
     "end_time": "2022-12-06T23:20:16.728414Z",
     "start_time": "2022-12-06T23:20:09.771770Z"
    },
    "execution": {
     "iopub.execute_input": "2022-12-09T23:39:23.853467Z",
     "iopub.status.busy": "2022-12-09T23:39:23.853111Z",
     "iopub.status.idle": "2022-12-09T23:39:30.068985Z",
     "shell.execute_reply": "2022-12-09T23:39:30.067977Z"
    },
    "papermill": {
     "duration": 6.229293,
     "end_time": "2022-12-09T23:39:30.071279",
     "exception": false,
     "start_time": "2022-12-09T23:39:23.841986",
     "status": "completed"
    },
    "tags": []
   },
   "outputs": [],
   "source": [
    "import numpy      as np\n",
    "import pandas     as pd\n",
    "import seaborn    as sns\n",
    "import umap.umap_ as umap\n",
    "\n",
    "from datetime   import datetime\n",
    "from datetime   import timedelta\n",
    "\n",
    "from plotly        import express       as px\n",
    "from sklearn       import cluster       as C\n",
    "from sklearn       import metrics       as M\n",
    "from sklearn       import mixture       as mx\n",
    "from sklearn       import manifold      as mn\n",
    "from sklearn       import ensemble      as en\n",
    "from sklearn       import decomposition as dc\n",
    "from sklearn       import preprocessing as pp\n",
    "from matplotlib    import pyplot        as plt\n",
    "from matplotlib    import colormaps     as cm\n",
    "from scipy.cluster import hierarchy     as hc"
   ]
  },
  {
   "cell_type": "markdown",
   "id": "a594e9d3",
   "metadata": {
    "papermill": {
     "duration": 0.009864,
     "end_time": "2022-12-09T23:39:30.095034",
     "exception": false,
     "start_time": "2022-12-09T23:39:30.085170",
     "status": "completed"
    },
    "tags": []
   },
   "source": [
    "# 2.0. Load Data"
   ]
  },
  {
   "cell_type": "code",
   "execution_count": 2,
   "id": "9253fdda",
   "metadata": {
    "ExecuteTime": {
     "end_time": "2022-12-06T23:20:17.382411Z",
     "start_time": "2022-12-06T23:20:16.732422Z"
    },
    "execution": {
     "iopub.execute_input": "2022-12-09T23:39:30.120860Z",
     "iopub.status.busy": "2022-12-09T23:39:30.119596Z",
     "iopub.status.idle": "2022-12-09T23:39:31.556148Z",
     "shell.execute_reply": "2022-12-09T23:39:31.554554Z"
    },
    "papermill": {
     "duration": 1.452722,
     "end_time": "2022-12-09T23:39:31.558553",
     "exception": false,
     "start_time": "2022-12-09T23:39:30.105831",
     "status": "completed"
    },
    "tags": []
   },
   "outputs": [],
   "source": [
    "path = '/home/felipe/repos/insiders_clustering/'\n",
    "\n",
    "df_raw = pd.read_csv(path + 'data/raw/Ecommerce.csv', encoding='iso-8859-1')\n",
    "df_raw = df_raw.drop(columns = 'Unnamed: 8')"
   ]
  },
  {
   "cell_type": "markdown",
   "id": "459f53e8",
   "metadata": {
    "ExecuteTime": {
     "end_time": "2022-11-26T15:36:24.335012Z",
     "start_time": "2022-11-26T15:36:24.325943Z"
    },
    "papermill": {
     "duration": 0.011633,
     "end_time": "2022-12-09T23:39:31.581334",
     "exception": false,
     "start_time": "2022-12-09T23:39:31.569701",
     "status": "completed"
    },
    "tags": []
   },
   "source": [
    "## 2.3. Rename Columns"
   ]
  },
  {
   "cell_type": "code",
   "execution_count": 3,
   "id": "ff3bff2b",
   "metadata": {
    "ExecuteTime": {
     "end_time": "2022-12-06T23:20:17.393706Z",
     "start_time": "2022-12-06T23:20:17.385122Z"
    },
    "execution": {
     "iopub.execute_input": "2022-12-09T23:39:31.606030Z",
     "iopub.status.busy": "2022-12-09T23:39:31.605502Z",
     "iopub.status.idle": "2022-12-09T23:39:31.611270Z",
     "shell.execute_reply": "2022-12-09T23:39:31.610451Z"
    },
    "papermill": {
     "duration": 0.021981,
     "end_time": "2022-12-09T23:39:31.613045",
     "exception": false,
     "start_time": "2022-12-09T23:39:31.591064",
     "status": "completed"
    },
    "tags": []
   },
   "outputs": [],
   "source": [
    "cols_new = ['invoice_no', 'stock_code', 'description', 'quantity', 'invoice_date', 'unit_price', 'customer_id', 'country']\n",
    "df_raw.columns = cols_new"
   ]
  },
  {
   "cell_type": "markdown",
   "id": "806580ff",
   "metadata": {
    "papermill": {
     "duration": 0.063494,
     "end_time": "2022-12-09T23:39:31.689254",
     "exception": false,
     "start_time": "2022-12-09T23:39:31.625760",
     "status": "completed"
    },
    "tags": []
   },
   "source": [
    "### 2.5.1. Replace NA"
   ]
  },
  {
   "cell_type": "code",
   "execution_count": 4,
   "id": "48aff948",
   "metadata": {
    "ExecuteTime": {
     "end_time": "2022-12-06T23:20:17.552991Z",
     "start_time": "2022-12-06T23:20:17.398111Z"
    },
    "execution": {
     "iopub.execute_input": "2022-12-09T23:39:31.760956Z",
     "iopub.status.busy": "2022-12-09T23:39:31.760600Z",
     "iopub.status.idle": "2022-12-09T23:39:31.876211Z",
     "shell.execute_reply": "2022-12-09T23:39:31.875253Z"
    },
    "papermill": {
     "duration": 0.149813,
     "end_time": "2022-12-09T23:39:31.878774",
     "exception": false,
     "start_time": "2022-12-09T23:39:31.728961",
     "status": "completed"
    },
    "tags": []
   },
   "outputs": [],
   "source": [
    "# separate rows with missing costumers\n",
    "df_raw_missing = df_raw.loc[df_raw['customer_id'].isna(), :]"
   ]
  },
  {
   "cell_type": "code",
   "execution_count": 5,
   "id": "68a66e75",
   "metadata": {
    "ExecuteTime": {
     "end_time": "2022-12-06T23:20:17.919273Z",
     "start_time": "2022-12-06T23:20:17.557133Z"
    },
    "execution": {
     "iopub.execute_input": "2022-12-09T23:39:31.902824Z",
     "iopub.status.busy": "2022-12-09T23:39:31.902112Z",
     "iopub.status.idle": "2022-12-09T23:39:32.419581Z",
     "shell.execute_reply": "2022-12-09T23:39:32.418473Z"
    },
    "papermill": {
     "duration": 0.532793,
     "end_time": "2022-12-09T23:39:32.422398",
     "exception": false,
     "start_time": "2022-12-09T23:39:31.889605",
     "status": "completed"
    },
    "tags": []
   },
   "outputs": [],
   "source": [
    "# create reference\n",
    "df_backup = pd.DataFrame(df_raw_missing['invoice_no'].drop_duplicates())\n",
    "df_backup['customer_id'] = np.arange(19000, (19000+len(df_backup)), 1)\n",
    "\n",
    "# merge original with reference data\n",
    "df_raw = pd.merge(df_raw, df_backup, on='invoice_no', how='left')\n",
    "\n",
    "# coalesce\n",
    "df_raw['customer_id'] = df_raw['customer_id_x'].combine_first(df_raw['customer_id_y'])\n",
    "\n",
    "# drop extra columns\n",
    "df_raw = df_raw.drop(columns=['customer_id_x', 'customer_id_y'], axis=1)"
   ]
  },
  {
   "cell_type": "markdown",
   "id": "a711103c",
   "metadata": {
    "ExecuteTime": {
     "end_time": "2022-11-26T15:36:24.335012Z",
     "start_time": "2022-11-26T15:36:24.325943Z"
    },
    "papermill": {
     "duration": 0.010309,
     "end_time": "2022-12-09T23:39:32.444948",
     "exception": false,
     "start_time": "2022-12-09T23:39:32.434639",
     "status": "completed"
    },
    "tags": []
   },
   "source": [
    "## 2.6. Check DTypes"
   ]
  },
  {
   "cell_type": "markdown",
   "id": "e22a145b",
   "metadata": {
    "papermill": {
     "duration": 0.010399,
     "end_time": "2022-12-09T23:39:32.467661",
     "exception": false,
     "start_time": "2022-12-09T23:39:32.457262",
     "status": "completed"
    },
    "tags": []
   },
   "source": [
    "### 2.6.1 Change DTypes"
   ]
  },
  {
   "cell_type": "code",
   "execution_count": 6,
   "id": "23aa6d65",
   "metadata": {
    "ExecuteTime": {
     "end_time": "2022-12-06T23:20:18.017962Z",
     "start_time": "2022-12-06T23:20:17.924749Z"
    },
    "execution": {
     "iopub.execute_input": "2022-12-09T23:39:32.491716Z",
     "iopub.status.busy": "2022-12-09T23:39:32.491381Z",
     "iopub.status.idle": "2022-12-09T23:39:32.603356Z",
     "shell.execute_reply": "2022-12-09T23:39:32.602352Z"
    },
    "papermill": {
     "duration": 0.126758,
     "end_time": "2022-12-09T23:39:32.605632",
     "exception": false,
     "start_time": "2022-12-09T23:39:32.478874",
     "status": "completed"
    },
    "tags": []
   },
   "outputs": [],
   "source": [
    "df_raw = df_raw.astype({'customer_id': 'int64'})\n",
    "df_raw['invoice_date'] = pd.to_datetime(df_raw['invoice_date'], format='%d-%b-%y')"
   ]
  },
  {
   "cell_type": "markdown",
   "id": "6853e542",
   "metadata": {
    "papermill": {
     "duration": 0.010225,
     "end_time": "2022-12-09T23:39:32.629391",
     "exception": false,
     "start_time": "2022-12-09T23:39:32.619166",
     "status": "completed"
    },
    "tags": []
   },
   "source": [
    "# 3.0. DATA FILTERING"
   ]
  },
  {
   "cell_type": "code",
   "execution_count": 7,
   "id": "c8d58aeb",
   "metadata": {
    "ExecuteTime": {
     "end_time": "2022-12-06T23:20:18.130160Z",
     "start_time": "2022-12-06T23:20:18.021536Z"
    },
    "execution": {
     "iopub.execute_input": "2022-12-09T23:39:32.654969Z",
     "iopub.status.busy": "2022-12-09T23:39:32.654500Z",
     "iopub.status.idle": "2022-12-09T23:39:32.723637Z",
     "shell.execute_reply": "2022-12-09T23:39:32.722595Z"
    },
    "papermill": {
     "duration": 0.085944,
     "end_time": "2022-12-09T23:39:32.726357",
     "exception": false,
     "start_time": "2022-12-09T23:39:32.640413",
     "status": "completed"
    },
    "tags": []
   },
   "outputs": [],
   "source": [
    "df_raw_3 = df_raw.copy()"
   ]
  },
  {
   "cell_type": "code",
   "execution_count": 8,
   "id": "29a33848",
   "metadata": {
    "ExecuteTime": {
     "end_time": "2022-12-06T23:20:18.170293Z",
     "start_time": "2022-12-06T23:20:18.132990Z"
    },
    "execution": {
     "iopub.execute_input": "2022-12-09T23:39:32.751250Z",
     "iopub.status.busy": "2022-12-09T23:39:32.750757Z",
     "iopub.status.idle": "2022-12-09T23:39:32.800154Z",
     "shell.execute_reply": "2022-12-09T23:39:32.798871Z"
    },
    "papermill": {
     "duration": 0.066369,
     "end_time": "2022-12-09T23:39:32.802837",
     "exception": false,
     "start_time": "2022-12-09T23:39:32.736468",
     "status": "completed"
    },
    "tags": []
   },
   "outputs": [],
   "source": [
    "# list created using libreoffice calc\n",
    "exclude_stock_codes = [\n",
    "'AMAZONFEE',\n",
    "'B',\n",
    "'BANK CHARGES',\n",
    "'C2',\n",
    "'CRUK',\n",
    "'D',\n",
    "'DCGS0003',\n",
    "'DCGS0004',\n",
    "'DCGS0055',\n",
    "'DCGS0057',\n",
    "'DCGS0066P',\n",
    "'DCGS0067',\n",
    "'DCGS0068',\n",
    "'DCGS0069',\n",
    "'DCGS0070',\n",
    "'DCGS0071',\n",
    "'DCGS0072',\n",
    "'DCGS0073',\n",
    "'DCGS0074',\n",
    "'DCGS0076',\n",
    "'DCGSSBOY',\n",
    "'DCGSSGIRL',\n",
    "'DOT',\n",
    "'gift_0001_10',\n",
    "'gift_0001_20',\n",
    "'gift_0001_30',\n",
    "'gift_0001_40',\n",
    "'gift_0001_50',\n",
    "'M',\n",
    "'m',\n",
    "'PADS',\n",
    "'POST',\n",
    "'S']"
   ]
  },
  {
   "cell_type": "markdown",
   "id": "92287680",
   "metadata": {
    "papermill": {
     "duration": 0.038848,
     "end_time": "2022-12-09T23:39:32.851982",
     "exception": false,
     "start_time": "2022-12-09T23:39:32.813134",
     "status": "completed"
    },
    "tags": []
   },
   "source": [
    "## 3.2. Data Filtering"
   ]
  },
  {
   "cell_type": "code",
   "execution_count": 9,
   "id": "65ba6124",
   "metadata": {
    "ExecuteTime": {
     "end_time": "2022-12-06T23:20:18.424464Z",
     "start_time": "2022-12-06T23:20:18.173478Z"
    },
    "execution": {
     "iopub.execute_input": "2022-12-09T23:39:32.898908Z",
     "iopub.status.busy": "2022-12-09T23:39:32.898519Z",
     "iopub.status.idle": "2022-12-09T23:39:33.228738Z",
     "shell.execute_reply": "2022-12-09T23:39:33.227647Z"
    },
    "papermill": {
     "duration": 0.354573,
     "end_time": "2022-12-09T23:39:33.231235",
     "exception": false,
     "start_time": "2022-12-09T23:39:32.876662",
     "status": "completed"
    },
    "tags": []
   },
   "outputs": [],
   "source": [
    "# unit price\n",
    "df_raw_3 = df_raw_3.loc[df_raw_3['unit_price']>0.01,:]\n",
    "\n",
    "# stock code\n",
    "df_raw_3 = df_raw_3[~df_raw_3['stock_code'].isin(exclude_stock_codes)]\n",
    "\n",
    "# quantity\n",
    "df_raw_returns = df_raw_3.loc[df_raw_3['quantity']<0, :]\n",
    "df_raw_purchases = df_raw_3.loc[df_raw_3['quantity']>=0, :]"
   ]
  },
  {
   "cell_type": "markdown",
   "id": "245b1ff6",
   "metadata": {
    "papermill": {
     "duration": 0.013385,
     "end_time": "2022-12-09T23:39:33.256014",
     "exception": false,
     "start_time": "2022-12-09T23:39:33.242629",
     "status": "completed"
    },
    "tags": []
   },
   "source": [
    "# 4.0. FEATURE ENGINEERING"
   ]
  },
  {
   "cell_type": "code",
   "execution_count": 10,
   "id": "99d16673",
   "metadata": {
    "ExecuteTime": {
     "end_time": "2022-12-06T23:20:18.458221Z",
     "start_time": "2022-12-06T23:20:18.432846Z"
    },
    "execution": {
     "iopub.execute_input": "2022-12-09T23:39:33.286915Z",
     "iopub.status.busy": "2022-12-09T23:39:33.285827Z",
     "iopub.status.idle": "2022-12-09T23:39:33.313569Z",
     "shell.execute_reply": "2022-12-09T23:39:33.312346Z"
    },
    "papermill": {
     "duration": 0.047396,
     "end_time": "2022-12-09T23:39:33.316319",
     "exception": false,
     "start_time": "2022-12-09T23:39:33.268923",
     "status": "completed"
    },
    "tags": []
   },
   "outputs": [],
   "source": [
    "df_raw_4 = df_raw_3.copy()"
   ]
  },
  {
   "cell_type": "markdown",
   "id": "c58a84d9",
   "metadata": {
    "ExecuteTime": {
     "end_time": "2022-11-27T13:07:34.086030Z",
     "start_time": "2022-11-27T13:07:34.083374Z"
    },
    "papermill": {
     "duration": 0.117193,
     "end_time": "2022-12-09T23:39:33.445368",
     "exception": false,
     "start_time": "2022-12-09T23:39:33.328175",
     "status": "completed"
    },
    "tags": []
   },
   "source": [
    "## 4.1. Features Creation"
   ]
  },
  {
   "cell_type": "code",
   "execution_count": 11,
   "id": "7f10b0c0",
   "metadata": {
    "ExecuteTime": {
     "end_time": "2022-12-06T23:20:18.592174Z",
     "start_time": "2022-12-06T23:20:18.461467Z"
    },
    "execution": {
     "iopub.execute_input": "2022-12-09T23:39:33.511023Z",
     "iopub.status.busy": "2022-12-09T23:39:33.510686Z",
     "iopub.status.idle": "2022-12-09T23:39:33.612343Z",
     "shell.execute_reply": "2022-12-09T23:39:33.611024Z"
    },
    "papermill": {
     "duration": 0.13496,
     "end_time": "2022-12-09T23:39:33.614522",
     "exception": false,
     "start_time": "2022-12-09T23:39:33.479562",
     "status": "completed"
    },
    "tags": []
   },
   "outputs": [],
   "source": [
    "# separate unique customers\n",
    "df_ref = df_raw_4.drop(['invoice_no', 'stock_code', 'description', 'quantity', 'invoice_date',\n",
    "       'unit_price', 'country'], axis=1).drop_duplicates(ignore_index=True)"
   ]
  },
  {
   "cell_type": "markdown",
   "id": "8244fe9d",
   "metadata": {
    "papermill": {
     "duration": 0.01462,
     "end_time": "2022-12-09T23:39:33.642303",
     "exception": false,
     "start_time": "2022-12-09T23:39:33.627683",
     "status": "completed"
    },
    "tags": []
   },
   "source": [
    "### 4.1.1. Gross Revenue - total money spent by customer"
   ]
  },
  {
   "cell_type": "code",
   "execution_count": 12,
   "id": "c6aa99ac",
   "metadata": {
    "ExecuteTime": {
     "end_time": "2022-12-06T23:20:18.727654Z",
     "start_time": "2022-12-06T23:20:18.595340Z"
    },
    "execution": {
     "iopub.execute_input": "2022-12-09T23:39:33.710991Z",
     "iopub.status.busy": "2022-12-09T23:39:33.710486Z",
     "iopub.status.idle": "2022-12-09T23:39:33.904197Z",
     "shell.execute_reply": "2022-12-09T23:39:33.903247Z"
    },
    "papermill": {
     "duration": 0.237037,
     "end_time": "2022-12-09T23:39:33.907432",
     "exception": false,
     "start_time": "2022-12-09T23:39:33.670395",
     "status": "completed"
    },
    "tags": []
   },
   "outputs": [],
   "source": [
    "# calculated from total invoices (returns are subtracted from gross revenue)\n",
    "df_raw_4['gross_revenue'] = df_raw_4['quantity']*df_raw_4['unit_price']\n",
    "df_gross_revenue = df_raw_4[['customer_id', 'gross_revenue']].groupby('customer_id').sum().reset_index()\n",
    "df_ref = pd.merge(df_ref, df_gross_revenue, on='customer_id', how='left')"
   ]
  },
  {
   "cell_type": "markdown",
   "id": "454d1227",
   "metadata": {
    "papermill": {
     "duration": 0.01095,
     "end_time": "2022-12-09T23:39:33.930395",
     "exception": false,
     "start_time": "2022-12-09T23:39:33.919445",
     "status": "completed"
    },
    "tags": []
   },
   "source": [
    "### 4.1.3. Recency - number of days since last purchase"
   ]
  },
  {
   "cell_type": "code",
   "execution_count": 13,
   "id": "bffb0241",
   "metadata": {
    "ExecuteTime": {
     "end_time": "2022-12-06T23:20:18.807245Z",
     "start_time": "2022-12-06T23:20:18.731131Z"
    },
    "execution": {
     "iopub.execute_input": "2022-12-09T23:39:33.956265Z",
     "iopub.status.busy": "2022-12-09T23:39:33.955437Z",
     "iopub.status.idle": "2022-12-09T23:39:34.098744Z",
     "shell.execute_reply": "2022-12-09T23:39:34.097820Z"
    },
    "papermill": {
     "duration": 0.161115,
     "end_time": "2022-12-09T23:39:34.101630",
     "exception": false,
     "start_time": "2022-12-09T23:39:33.940515",
     "status": "completed"
    },
    "tags": []
   },
   "outputs": [],
   "source": [
    "# recency - last day of purchase\n",
    "# calculated from dataframe with only purchases\n",
    "df_recency = df_raw_purchases.loc[:, ['customer_id', 'invoice_date']].groupby( 'customer_id' ).max().reset_index()\n",
    "df_recency['recency'] = (df_raw_4['invoice_date'].max()-df_recency['invoice_date']).dt.days+1\n",
    "df_recency = df_recency[['customer_id', 'recency']]\n",
    "df_ref = pd.merge(df_ref, df_recency, on='customer_id', how='left')"
   ]
  },
  {
   "cell_type": "markdown",
   "id": "1788cbea",
   "metadata": {
    "papermill": {
     "duration": 0.015485,
     "end_time": "2022-12-09T23:39:34.128381",
     "exception": false,
     "start_time": "2022-12-09T23:39:34.112896",
     "status": "completed"
    },
    "tags": []
   },
   "source": [
    "### 4.1.4. Frequency - number of purchases in last 365 days"
   ]
  },
  {
   "cell_type": "code",
   "execution_count": 14,
   "id": "879f0af1",
   "metadata": {
    "ExecuteTime": {
     "end_time": "2022-12-06T23:20:19.047151Z",
     "start_time": "2022-12-06T23:20:18.809758Z"
    },
    "execution": {
     "iopub.execute_input": "2022-12-09T23:39:34.155899Z",
     "iopub.status.busy": "2022-12-09T23:39:34.155144Z",
     "iopub.status.idle": "2022-12-09T23:39:34.304514Z",
     "shell.execute_reply": "2022-12-09T23:39:34.303029Z"
    },
    "papermill": {
     "duration": 0.166357,
     "end_time": "2022-12-09T23:39:34.307696",
     "exception": false,
     "start_time": "2022-12-09T23:39:34.141339",
     "status": "completed"
    },
    "tags": []
   },
   "outputs": [],
   "source": [
    "# frequency - number of purchases in last 365 days\n",
    "dd = timedelta(days=365)\n",
    "df_frequency = df_raw_purchases[df_raw_purchases['invoice_date']>=(df_raw_purchases['invoice_date'].max() - dd)][['invoice_no', 'customer_id']].drop_duplicates().groupby('customer_id').count().reset_index().rename(columns={'invoice_no':'frequency'})\n",
    "df_ref = pd.merge(df_ref, df_frequency, on='customer_id', how='left')"
   ]
  },
  {
   "cell_type": "markdown",
   "id": "936eee75",
   "metadata": {
    "papermill": {
     "duration": 0.016823,
     "end_time": "2022-12-09T23:39:34.336669",
     "exception": false,
     "start_time": "2022-12-09T23:39:34.319846",
     "status": "completed"
    },
    "tags": []
   },
   "source": [
    "### 4.1.5. Quantity of Returns - number of invoices with negative quantity"
   ]
  },
  {
   "cell_type": "code",
   "execution_count": 15,
   "id": "ddbf14ef",
   "metadata": {
    "ExecuteTime": {
     "end_time": "2022-12-06T23:20:19.069485Z",
     "start_time": "2022-12-06T23:20:19.050734Z"
    },
    "execution": {
     "iopub.execute_input": "2022-12-09T23:39:34.370924Z",
     "iopub.status.busy": "2022-12-09T23:39:34.370553Z",
     "iopub.status.idle": "2022-12-09T23:39:34.385118Z",
     "shell.execute_reply": "2022-12-09T23:39:34.384182Z"
    },
    "papermill": {
     "duration": 0.029501,
     "end_time": "2022-12-09T23:39:34.387271",
     "exception": false,
     "start_time": "2022-12-09T23:39:34.357770",
     "status": "completed"
    },
    "tags": []
   },
   "outputs": [],
   "source": [
    "df_returns = (df_raw_returns[['customer_id', 'invoice_no']].drop_duplicates()\n",
    "                                                           .groupby('customer_id')\n",
    "                                                           .count()\n",
    "                                                           .reset_index()\n",
    "                                                           .rename(columns={'invoice_no':'qty_returns'}))\n",
    "df_ref = pd.merge(df_ref, df_returns, on='customer_id', how='left')"
   ]
  },
  {
   "cell_type": "markdown",
   "id": "4530b7ce",
   "metadata": {
    "papermill": {
     "duration": 0.025926,
     "end_time": "2022-12-09T23:39:34.424784",
     "exception": false,
     "start_time": "2022-12-09T23:39:34.398858",
     "status": "completed"
    },
    "tags": []
   },
   "source": [
    "### 4.1.7. Quantity of Products"
   ]
  },
  {
   "cell_type": "code",
   "execution_count": 16,
   "id": "e1df96a5",
   "metadata": {
    "ExecuteTime": {
     "end_time": "2022-12-06T23:20:19.161501Z",
     "start_time": "2022-12-06T23:20:19.073179Z"
    },
    "execution": {
     "iopub.execute_input": "2022-12-09T23:39:34.484921Z",
     "iopub.status.busy": "2022-12-09T23:39:34.484474Z",
     "iopub.status.idle": "2022-12-09T23:39:34.576094Z",
     "shell.execute_reply": "2022-12-09T23:39:34.574696Z"
    },
    "papermill": {
     "duration": 0.110379,
     "end_time": "2022-12-09T23:39:34.579683",
     "exception": false,
     "start_time": "2022-12-09T23:39:34.469304",
     "status": "completed"
    },
    "tags": []
   },
   "outputs": [],
   "source": [
    "df_quantity = (df_raw_4[['customer_id','quantity']].groupby('customer_id')\n",
    "                                                           .sum()\n",
    "                                                           .reset_index()\n",
    "                                                           .rename(columns={'quantity': 'qty_items'}))\n",
    "df_ref = pd.merge(df_ref, df_quantity, on='customer_id', how='left')"
   ]
  },
  {
   "cell_type": "markdown",
   "id": "ceffd10a",
   "metadata": {
    "papermill": {
     "duration": 0.023369,
     "end_time": "2022-12-09T23:39:34.616149",
     "exception": false,
     "start_time": "2022-12-09T23:39:34.592780",
     "status": "completed"
    },
    "tags": []
   },
   "source": [
    "### 4.1.9. Assortment- quantity of distinct items purchased"
   ]
  },
  {
   "cell_type": "code",
   "execution_count": 17,
   "id": "bd0c8fde",
   "metadata": {
    "ExecuteTime": {
     "end_time": "2022-12-06T23:20:19.367787Z",
     "start_time": "2022-12-06T23:20:19.164772Z"
    },
    "execution": {
     "iopub.execute_input": "2022-12-09T23:39:34.674184Z",
     "iopub.status.busy": "2022-12-09T23:39:34.673737Z",
     "iopub.status.idle": "2022-12-09T23:39:34.912442Z",
     "shell.execute_reply": "2022-12-09T23:39:34.911296Z"
    },
    "papermill": {
     "duration": 0.271495,
     "end_time": "2022-12-09T23:39:34.915360",
     "exception": false,
     "start_time": "2022-12-09T23:39:34.643865",
     "status": "completed"
    },
    "tags": []
   },
   "outputs": [],
   "source": [
    "df_assortment = (df_raw_purchases[['customer_id', 'stock_code']].drop_duplicates()\n",
    "                                                                .groupby('customer_id')\n",
    "                                                                .count()\n",
    "                                                                .reset_index()\n",
    "                                                                .rename(columns={'stock_code': 'assortment'}))\n",
    "df_ref = pd.merge(df_ref, df_assortment, on='customer_id', how='left')"
   ]
  },
  {
   "cell_type": "markdown",
   "id": "6b068725",
   "metadata": {
    "ExecuteTime": {
     "end_time": "2022-11-27T14:20:44.464040Z",
     "start_time": "2022-11-27T14:20:44.452536Z"
    },
    "papermill": {
     "duration": 0.014627,
     "end_time": "2022-12-09T23:39:34.942304",
     "exception": false,
     "start_time": "2022-12-09T23:39:34.927677",
     "status": "completed"
    },
    "tags": []
   },
   "source": [
    "## 4.2. Check NA and DTypes after Feature Creation"
   ]
  },
  {
   "cell_type": "markdown",
   "id": "7f4b851e",
   "metadata": {
    "papermill": {
     "duration": 0.014583,
     "end_time": "2022-12-09T23:39:34.967812",
     "exception": false,
     "start_time": "2022-12-09T23:39:34.953229",
     "status": "completed"
    },
    "tags": []
   },
   "source": [
    "### 4.2.1. Replace NA in df_ref"
   ]
  },
  {
   "cell_type": "code",
   "execution_count": 18,
   "id": "ce8dd618",
   "metadata": {
    "ExecuteTime": {
     "end_time": "2022-12-06T23:20:19.379657Z",
     "start_time": "2022-12-06T23:20:19.371211Z"
    },
    "execution": {
     "iopub.execute_input": "2022-12-09T23:39:34.995704Z",
     "iopub.status.busy": "2022-12-09T23:39:34.994957Z",
     "iopub.status.idle": "2022-12-09T23:39:35.003556Z",
     "shell.execute_reply": "2022-12-09T23:39:35.002543Z"
    },
    "papermill": {
     "duration": 0.02585,
     "end_time": "2022-12-09T23:39:35.006284",
     "exception": false,
     "start_time": "2022-12-09T23:39:34.980434",
     "status": "completed"
    },
    "tags": []
   },
   "outputs": [],
   "source": [
    "# nan values were assigned to customers with 0 purchases in the last 365 days\n",
    "df_ref['frequency'] = df_ref['frequency'].fillna(0)\n",
    "\n",
    "# nan values were assigned to customers wih 0 returns\n",
    "df_ref['qty_returns'] = df_ref['qty_returns'].fillna(0)\n",
    "\n",
    "# drop NA for remaining attributes\n",
    "df_ref = df_ref.dropna()"
   ]
  },
  {
   "cell_type": "code",
   "execution_count": 19,
   "id": "faccfc76",
   "metadata": {
    "ExecuteTime": {
     "end_time": "2022-12-06T23:20:19.507144Z",
     "start_time": "2022-12-06T23:20:19.383170Z"
    },
    "execution": {
     "iopub.execute_input": "2022-12-09T23:39:35.040336Z",
     "iopub.status.busy": "2022-12-09T23:39:35.039956Z",
     "iopub.status.idle": "2022-12-09T23:39:35.201939Z",
     "shell.execute_reply": "2022-12-09T23:39:35.201035Z"
    },
    "papermill": {
     "duration": 0.186663,
     "end_time": "2022-12-09T23:39:35.205495",
     "exception": false,
     "start_time": "2022-12-09T23:39:35.018832",
     "status": "completed"
    },
    "tags": []
   },
   "outputs": [],
   "source": [
    "# change dtypes\n",
    "df_ref = df_ref.astype({'recency':'int64', \n",
    "                        'frequency': 'int64', \n",
    "                        'qty_returns':'int64',\n",
    "                        'qty_items': 'int64',\n",
    "                        'assortment':'int64'})"
   ]
  },
  {
   "cell_type": "markdown",
   "id": "6c77ad8a",
   "metadata": {
    "papermill": {
     "duration": 0.013878,
     "end_time": "2022-12-09T23:39:35.229894",
     "exception": false,
     "start_time": "2022-12-09T23:39:35.216016",
     "status": "completed"
    },
    "tags": []
   },
   "source": [
    "# 5.0. EDA (EXPLORATORY DATA ANALYSIS)"
   ]
  },
  {
   "cell_type": "code",
   "execution_count": 20,
   "id": "c3ad4089",
   "metadata": {
    "ExecuteTime": {
     "end_time": "2022-12-06T23:20:19.599362Z",
     "start_time": "2022-12-06T23:20:19.511168Z"
    },
    "execution": {
     "iopub.execute_input": "2022-12-09T23:39:35.296304Z",
     "iopub.status.busy": "2022-12-09T23:39:35.295976Z",
     "iopub.status.idle": "2022-12-09T23:39:35.393175Z",
     "shell.execute_reply": "2022-12-09T23:39:35.392195Z"
    },
    "papermill": {
     "duration": 0.133829,
     "end_time": "2022-12-09T23:39:35.395615",
     "exception": false,
     "start_time": "2022-12-09T23:39:35.261786",
     "status": "completed"
    },
    "tags": []
   },
   "outputs": [],
   "source": [
    "df_ref_5 = df_ref.copy()"
   ]
  },
  {
   "cell_type": "markdown",
   "id": "5849f861",
   "metadata": {
    "ExecuteTime": {
     "end_time": "2022-11-30T13:27:53.819741Z",
     "start_time": "2022-11-30T13:27:53.815839Z"
    },
    "papermill": {
     "duration": 0.019678,
     "end_time": "2022-12-09T23:39:35.425889",
     "exception": false,
     "start_time": "2022-12-09T23:39:35.406211",
     "status": "completed"
    },
    "tags": []
   },
   "source": [
    "## 5.3. Space Analysis"
   ]
  },
  {
   "cell_type": "code",
   "execution_count": 21,
   "id": "0fa5a1f5",
   "metadata": {
    "ExecuteTime": {
     "end_time": "2022-12-06T23:20:19.701982Z",
     "start_time": "2022-12-06T23:20:19.602884Z"
    },
    "execution": {
     "iopub.execute_input": "2022-12-09T23:39:35.495044Z",
     "iopub.status.busy": "2022-12-09T23:39:35.494669Z",
     "iopub.status.idle": "2022-12-09T23:39:35.595199Z",
     "shell.execute_reply": "2022-12-09T23:39:35.593761Z"
    },
    "papermill": {
     "duration": 0.135235,
     "end_time": "2022-12-09T23:39:35.598057",
     "exception": false,
     "start_time": "2022-12-09T23:39:35.462822",
     "status": "completed"
    },
    "tags": []
   },
   "outputs": [],
   "source": [
    "# selected features for analysis\n",
    "cols_selected = ['gross_revenue', 'recency', 'frequency', 'qty_returns', 'qty_items', 'assortment']\n",
    "df_ref_53 = df_ref_5[cols_selected]"
   ]
  },
  {
   "cell_type": "code",
   "execution_count": 22,
   "id": "5f2c7743",
   "metadata": {
    "ExecuteTime": {
     "end_time": "2022-12-06T23:20:19.836294Z",
     "start_time": "2022-12-06T23:20:19.705658Z"
    },
    "execution": {
     "iopub.execute_input": "2022-12-09T23:39:35.624477Z",
     "iopub.status.busy": "2022-12-09T23:39:35.623743Z",
     "iopub.status.idle": "2022-12-09T23:39:35.756811Z",
     "shell.execute_reply": "2022-12-09T23:39:35.755854Z"
    },
    "papermill": {
     "duration": 0.149442,
     "end_time": "2022-12-09T23:39:35.759656",
     "exception": false,
     "start_time": "2022-12-09T23:39:35.610214",
     "status": "completed"
    },
    "tags": []
   },
   "outputs": [
    {
     "name": "stderr",
     "output_type": "stream",
     "text": [
      "/tmp/ipykernel_9988/3838092104.py:3: SettingWithCopyWarning: \n",
      "A value is trying to be set on a copy of a slice from a DataFrame.\n",
      "Try using .loc[row_indexer,col_indexer] = value instead\n",
      "\n",
      "See the caveats in the documentation: https://pandas.pydata.org/pandas-docs/stable/user_guide/indexing.html#returning-a-view-versus-a-copy\n",
      "  df_ref_53['gross_revenue']   = mm.fit_transform(df_ref_53[['gross_revenue']])\n",
      "/tmp/ipykernel_9988/3838092104.py:4: SettingWithCopyWarning: \n",
      "A value is trying to be set on a copy of a slice from a DataFrame.\n",
      "Try using .loc[row_indexer,col_indexer] = value instead\n",
      "\n",
      "See the caveats in the documentation: https://pandas.pydata.org/pandas-docs/stable/user_guide/indexing.html#returning-a-view-versus-a-copy\n",
      "  df_ref_53['recency']         = mm.fit_transform(df_ref_53[['recency']])\n",
      "/tmp/ipykernel_9988/3838092104.py:5: SettingWithCopyWarning: \n",
      "A value is trying to be set on a copy of a slice from a DataFrame.\n",
      "Try using .loc[row_indexer,col_indexer] = value instead\n",
      "\n",
      "See the caveats in the documentation: https://pandas.pydata.org/pandas-docs/stable/user_guide/indexing.html#returning-a-view-versus-a-copy\n",
      "  df_ref_53['frequency']       = mm.fit_transform(df_ref_53[['frequency']])\n",
      "/tmp/ipykernel_9988/3838092104.py:6: SettingWithCopyWarning: \n",
      "A value is trying to be set on a copy of a slice from a DataFrame.\n",
      "Try using .loc[row_indexer,col_indexer] = value instead\n",
      "\n",
      "See the caveats in the documentation: https://pandas.pydata.org/pandas-docs/stable/user_guide/indexing.html#returning-a-view-versus-a-copy\n",
      "  df_ref_53['qty_returns']     = mm.fit_transform(df_ref_53[['qty_returns']])\n",
      "/tmp/ipykernel_9988/3838092104.py:7: SettingWithCopyWarning: \n",
      "A value is trying to be set on a copy of a slice from a DataFrame.\n",
      "Try using .loc[row_indexer,col_indexer] = value instead\n",
      "\n",
      "See the caveats in the documentation: https://pandas.pydata.org/pandas-docs/stable/user_guide/indexing.html#returning-a-view-versus-a-copy\n",
      "  df_ref_53['qty_items']       = mm.fit_transform(df_ref_53[['qty_items']])\n",
      "/tmp/ipykernel_9988/3838092104.py:8: SettingWithCopyWarning: \n",
      "A value is trying to be set on a copy of a slice from a DataFrame.\n",
      "Try using .loc[row_indexer,col_indexer] = value instead\n",
      "\n",
      "See the caveats in the documentation: https://pandas.pydata.org/pandas-docs/stable/user_guide/indexing.html#returning-a-view-versus-a-copy\n",
      "  df_ref_53['assortment']      = mm.fit_transform(df_ref_53[['assortment']])\n"
     ]
    }
   ],
   "source": [
    "mm = pp.MinMaxScaler()\n",
    "\n",
    "df_ref_53['gross_revenue']   = mm.fit_transform(df_ref_53[['gross_revenue']])\n",
    "df_ref_53['recency']         = mm.fit_transform(df_ref_53[['recency']])\n",
    "df_ref_53['frequency']       = mm.fit_transform(df_ref_53[['frequency']])\n",
    "df_ref_53['qty_returns']     = mm.fit_transform(df_ref_53[['qty_returns']])\n",
    "df_ref_53['qty_items']       = mm.fit_transform(df_ref_53[['qty_items']])\n",
    "df_ref_53['assortment']      = mm.fit_transform(df_ref_53[['assortment']])"
   ]
  },
  {
   "cell_type": "markdown",
   "id": "554d7ea3",
   "metadata": {
    "papermill": {
     "duration": 0.014361,
     "end_time": "2022-12-09T23:39:35.788527",
     "exception": false,
     "start_time": "2022-12-09T23:39:35.774166",
     "status": "completed"
    },
    "tags": []
   },
   "source": [
    "### 5.3.4. Tree-Based Embedding"
   ]
  },
  {
   "cell_type": "code",
   "execution_count": 23,
   "id": "9585c338",
   "metadata": {
    "ExecuteTime": {
     "end_time": "2022-12-06T23:20:21.721501Z",
     "start_time": "2022-12-06T23:20:19.839236Z"
    },
    "execution": {
     "iopub.execute_input": "2022-12-09T23:39:35.857332Z",
     "iopub.status.busy": "2022-12-09T23:39:35.856963Z",
     "iopub.status.idle": "2022-12-09T23:39:37.778973Z",
     "shell.execute_reply": "2022-12-09T23:39:37.777846Z"
    },
    "papermill": {
     "duration": 1.965459,
     "end_time": "2022-12-09T23:39:37.782213",
     "exception": false,
     "start_time": "2022-12-09T23:39:35.816754",
     "status": "completed"
    },
    "tags": []
   },
   "outputs": [],
   "source": [
    "# training dataset\n",
    "X = df_ref_5[['recency', 'frequency', 'qty_returns', 'qty_items', 'assortment']]\n",
    "y = df_ref_5['gross_revenue']\n",
    "\n",
    "# model definition\n",
    "rf_model = en.RandomForestRegressor(n_estimators=100, random_state=42)\n",
    "\n",
    "# model training\n",
    "rf_model.fit(X, y)\n",
    "\n",
    "# dataframe leafs\n",
    "df_leaf = pd.DataFrame(rf_model.apply(X))"
   ]
  },
  {
   "cell_type": "code",
   "execution_count": 24,
   "id": "4c3f6f2b",
   "metadata": {
    "ExecuteTime": {
     "end_time": "2022-12-06T23:20:53.910165Z",
     "start_time": "2022-12-06T23:20:21.725369Z"
    },
    "execution": {
     "iopub.execute_input": "2022-12-09T23:39:37.807862Z",
     "iopub.status.busy": "2022-12-09T23:39:37.807319Z",
     "iopub.status.idle": "2022-12-09T23:40:13.850087Z",
     "shell.execute_reply": "2022-12-09T23:40:13.848925Z"
    },
    "papermill": {
     "duration": 36.058895,
     "end_time": "2022-12-09T23:40:13.852897",
     "exception": false,
     "start_time": "2022-12-09T23:39:37.794002",
     "status": "completed"
    },
    "tags": []
   },
   "outputs": [],
   "source": [
    "# reducer of dimensionality\n",
    "reducer = umap.UMAP(random_state=42)\n",
    "embedding = reducer.fit_transform(df_leaf)\n",
    "\n",
    "# embedding\n",
    "df_tree = pd.DataFrame()\n",
    "df_tree['embedding_x'] = embedding[:, 0]\n",
    "df_tree['embedding_y'] = embedding[:, 1]"
   ]
  },
  {
   "cell_type": "markdown",
   "id": "4263e249",
   "metadata": {
    "papermill": {
     "duration": 0.013371,
     "end_time": "2022-12-09T23:40:13.880268",
     "exception": false,
     "start_time": "2022-12-09T23:40:13.866897",
     "status": "completed"
    },
    "tags": []
   },
   "source": [
    "# 8.0. HYPER-PARAMETER FINE TUNING"
   ]
  },
  {
   "cell_type": "code",
   "execution_count": 25,
   "id": "73e9fb14",
   "metadata": {
    "ExecuteTime": {
     "end_time": "2022-12-06T23:20:53.919755Z",
     "start_time": "2022-12-06T23:20:53.915965Z"
    },
    "execution": {
     "iopub.execute_input": "2022-12-09T23:40:13.907144Z",
     "iopub.status.busy": "2022-12-09T23:40:13.906837Z",
     "iopub.status.idle": "2022-12-09T23:40:13.977532Z",
     "shell.execute_reply": "2022-12-09T23:40:13.976396Z"
    },
    "papermill": {
     "duration": 0.087603,
     "end_time": "2022-12-09T23:40:13.980363",
     "exception": false,
     "start_time": "2022-12-09T23:40:13.892760",
     "status": "completed"
    },
    "tags": []
   },
   "outputs": [],
   "source": [
    "X = df_tree.copy()\n",
    "X.to_csv(path + 'src/data/tree_based_embedding.csv', index=False)"
   ]
  },
  {
   "cell_type": "markdown",
   "id": "1e3b4b5f",
   "metadata": {
    "papermill": {
     "duration": 0.031712,
     "end_time": "2022-12-09T23:40:14.025030",
     "exception": false,
     "start_time": "2022-12-09T23:40:13.993318",
     "status": "completed"
    },
    "tags": []
   },
   "source": [
    "# 9.0. MODEL TRAINING"
   ]
  },
  {
   "cell_type": "markdown",
   "id": "d29237d1",
   "metadata": {
    "papermill": {
     "duration": 0.022723,
     "end_time": "2022-12-09T23:40:14.088048",
     "exception": false,
     "start_time": "2022-12-09T23:40:14.065325",
     "status": "completed"
    },
    "tags": []
   },
   "source": [
    "## 9.1. K-Means"
   ]
  },
  {
   "cell_type": "code",
   "execution_count": 26,
   "id": "56fd1a67",
   "metadata": {
    "ExecuteTime": {
     "end_time": "2022-12-06T23:20:54.869317Z",
     "start_time": "2022-12-06T23:20:53.922045Z"
    },
    "execution": {
     "iopub.execute_input": "2022-12-09T23:40:14.157741Z",
     "iopub.status.busy": "2022-12-09T23:40:14.157228Z",
     "iopub.status.idle": "2022-12-09T23:40:15.126902Z",
     "shell.execute_reply": "2022-12-09T23:40:15.125852Z"
    },
    "papermill": {
     "duration": 1.0046,
     "end_time": "2022-12-09T23:40:15.129484",
     "exception": false,
     "start_time": "2022-12-09T23:40:14.124884",
     "status": "completed"
    },
    "tags": []
   },
   "outputs": [],
   "source": [
    "# model definition\n",
    "k = 8\n",
    "kmeans = C.KMeans(init='random', n_clusters=k, n_init=100, max_iter=300, random_state=42)\n",
    "\n",
    "# model training\n",
    "kmeans.fit(X)\n",
    "\n",
    "# clustering\n",
    "labels = kmeans.labels_"
   ]
  },
  {
   "cell_type": "markdown",
   "id": "1877f878",
   "metadata": {
    "papermill": {
     "duration": 0.012349,
     "end_time": "2022-12-09T23:40:15.154612",
     "exception": false,
     "start_time": "2022-12-09T23:40:15.142263",
     "status": "completed"
    },
    "tags": []
   },
   "source": [
    "### 9.1.2. K-Means cluster validation"
   ]
  },
  {
   "cell_type": "code",
   "execution_count": 27,
   "id": "1d65f978",
   "metadata": {
    "ExecuteTime": {
     "end_time": "2022-12-06T23:20:55.468439Z",
     "start_time": "2022-12-06T23:20:54.872190Z"
    },
    "execution": {
     "iopub.execute_input": "2022-12-09T23:40:15.184028Z",
     "iopub.status.busy": "2022-12-09T23:40:15.183158Z",
     "iopub.status.idle": "2022-12-09T23:40:15.854746Z",
     "shell.execute_reply": "2022-12-09T23:40:15.853939Z"
    },
    "papermill": {
     "duration": 0.690183,
     "end_time": "2022-12-09T23:40:15.857029",
     "exception": false,
     "start_time": "2022-12-09T23:40:15.166846",
     "status": "completed"
    },
    "tags": []
   },
   "outputs": [
    {
     "name": "stdout",
     "output_type": "stream",
     "text": [
      "WSS value: 88500.6328125\n"
     ]
    },
    {
     "name": "stdout",
     "output_type": "stream",
     "text": [
      "SS value: 0.49807924032211304\n"
     ]
    }
   ],
   "source": [
    "# WSS (Within-Cluster Sum of Square)\n",
    "print('WSS value: {}'.format(kmeans.inertia_))\n",
    "\n",
    "# SS (Silhouette Score)\n",
    "print('SS value: {}'.format(M.silhouette_score(X, labels, metric='euclidean')))"
   ]
  },
  {
   "cell_type": "markdown",
   "id": "ec346df9",
   "metadata": {
    "papermill": {
     "duration": 0.013197,
     "end_time": "2022-12-09T23:40:15.884671",
     "exception": false,
     "start_time": "2022-12-09T23:40:15.871474",
     "status": "completed"
    },
    "tags": []
   },
   "source": [
    "## 10.2. Clusters Profile"
   ]
  },
  {
   "cell_type": "code",
   "execution_count": 28,
   "id": "890f09f9",
   "metadata": {
    "ExecuteTime": {
     "end_time": "2022-12-06T23:20:55.485121Z",
     "start_time": "2022-12-06T23:20:55.474859Z"
    },
    "execution": {
     "iopub.execute_input": "2022-12-09T23:40:15.918084Z",
     "iopub.status.busy": "2022-12-09T23:40:15.917771Z",
     "iopub.status.idle": "2022-12-09T23:40:15.926327Z",
     "shell.execute_reply": "2022-12-09T23:40:15.925243Z"
    },
    "papermill": {
     "duration": 0.028788,
     "end_time": "2022-12-09T23:40:15.928626",
     "exception": false,
     "start_time": "2022-12-09T23:40:15.899838",
     "status": "completed"
    },
    "tags": []
   },
   "outputs": [],
   "source": [
    "df_ref_10 = df_ref_5[['customer_id',\n",
    "                      'gross_revenue',\n",
    "                      'recency',\n",
    "                      'frequency',\n",
    "                      'qty_returns',\n",
    "                      'qty_items',\n",
    "                      'assortment']].copy()\n",
    "df_ref_10['cluster'] = labels\n",
    "df_ref_10['last_training_timestamp'] = datetime.now().strftime('%Y-%m-%d %H:%M:%S')"
   ]
  },
  {
   "cell_type": "code",
   "execution_count": 29,
   "id": "da654fe1",
   "metadata": {
    "ExecuteTime": {
     "end_time": "2022-12-06T23:20:55.645000Z",
     "start_time": "2022-12-06T23:20:55.490027Z"
    },
    "execution": {
     "iopub.execute_input": "2022-12-09T23:40:15.969741Z",
     "iopub.status.busy": "2022-12-09T23:40:15.968792Z",
     "iopub.status.idle": "2022-12-09T23:40:16.239128Z",
     "shell.execute_reply": "2022-12-09T23:40:16.237954Z"
    },
    "papermill": {
     "duration": 0.301445,
     "end_time": "2022-12-09T23:40:16.242158",
     "exception": false,
     "start_time": "2022-12-09T23:40:15.940713",
     "status": "completed"
    },
    "tags": []
   },
   "outputs": [],
   "source": [
    "# number of customer\n",
    "df_cluster = df_ref_10[['customer_id', 'cluster']].groupby('cluster').count().reset_index().rename(columns={'customer_id':'qty_customers'})\n",
    "df_cluster['perc_customer'] = 100*(df_cluster['qty_customers']/df_cluster['qty_customers'].sum())\n",
    "\n",
    "# avg gross revenue\n",
    "df_avg_gr = df_ref_10[['gross_revenue', 'cluster']].groupby('cluster').mean().reset_index().rename(columns={'gross_revenue':'avg_gross_revenue'})\n",
    "df_cluster = pd.merge(df_cluster, df_avg_gr, on='cluster', how='left')\n",
    "\n",
    "# avg recency days\n",
    "df_avg_rd = df_ref_10[['recency', 'cluster']].groupby('cluster').mean().reset_index().rename(columns={'recency':'avg_recency'})\n",
    "df_cluster = pd.merge(df_cluster, df_avg_rd, on='cluster', how='left')\n",
    "\n",
    "# avg frequency\n",
    "df_avg_fr = df_ref_10[['frequency', 'cluster']].groupby('cluster').mean().reset_index().rename(columns={'frequency':'avg_frequency'})\n",
    "df_cluster = pd.merge(df_cluster, df_avg_fr, on='cluster', how='left')\n",
    "\n",
    "# avg_qty_returns\n",
    "df_avg_qr = df_ref_10[['qty_returns', 'cluster']].groupby('cluster').mean().reset_index().rename(columns={'qty_returns':'avg_qty_returns'})\n",
    "df_cluster = pd.merge(df_cluster, df_avg_qr, on='cluster', how='left')\n",
    "\n",
    "# avg_qty_items\n",
    "df_avg_qi = df_ref_10[['qty_items', 'cluster']].groupby('cluster').mean().reset_index().rename(columns={'qty_items':'avg_qty_items'})\n",
    "df_cluster = pd.merge(df_cluster, df_avg_qi, on='cluster', how='left')\n",
    "\n",
    "# avg_assortment\n",
    "df_avg_as = df_ref_10[['assortment', 'cluster']].groupby('cluster').mean().reset_index().rename(columns={'assortment':'avg_assortment'})\n",
    "df_cluster = pd.merge(df_cluster, df_avg_as, on='cluster', how='left')\n"
   ]
  },
  {
   "cell_type": "code",
   "execution_count": 30,
   "id": "c5aa4900",
   "metadata": {
    "ExecuteTime": {
     "end_time": "2022-12-06T23:20:55.800340Z",
     "start_time": "2022-12-06T23:20:55.648152Z"
    },
    "execution": {
     "iopub.execute_input": "2022-12-09T23:40:16.314509Z",
     "iopub.status.busy": "2022-12-09T23:40:16.313912Z",
     "iopub.status.idle": "2022-12-09T23:40:16.412482Z",
     "shell.execute_reply": "2022-12-09T23:40:16.411250Z"
    },
    "papermill": {
     "duration": 0.157199,
     "end_time": "2022-12-09T23:40:16.414475",
     "exception": false,
     "start_time": "2022-12-09T23:40:16.257276",
     "status": "completed"
    },
    "tags": []
   },
   "outputs": [
    {
     "data": {
      "text/html": [
       "<div>\n",
       "<style scoped>\n",
       "    .dataframe tbody tr th:only-of-type {\n",
       "        vertical-align: middle;\n",
       "    }\n",
       "\n",
       "    .dataframe tbody tr th {\n",
       "        vertical-align: top;\n",
       "    }\n",
       "\n",
       "    .dataframe thead th {\n",
       "        text-align: right;\n",
       "    }\n",
       "</style>\n",
       "<table border=\"1\" class=\"dataframe\">\n",
       "  <thead>\n",
       "    <tr style=\"text-align: right;\">\n",
       "      <th></th>\n",
       "      <th>cluster</th>\n",
       "      <th>qty_customers</th>\n",
       "      <th>perc_customer</th>\n",
       "      <th>avg_gross_revenue</th>\n",
       "      <th>avg_recency</th>\n",
       "      <th>avg_frequency</th>\n",
       "      <th>avg_qty_returns</th>\n",
       "      <th>avg_qty_items</th>\n",
       "      <th>avg_assortment</th>\n",
       "    </tr>\n",
       "  </thead>\n",
       "  <tbody>\n",
       "    <tr>\n",
       "      <th>0</th>\n",
       "      <td>0</td>\n",
       "      <td>448</td>\n",
       "      <td>7.852761</td>\n",
       "      <td>6298.593482</td>\n",
       "      <td>32.872768</td>\n",
       "      <td>11.799107</td>\n",
       "      <td>2.636161</td>\n",
       "      <td>3779.437500</td>\n",
       "      <td>167.772321</td>\n",
       "    </tr>\n",
       "    <tr>\n",
       "      <th>1</th>\n",
       "      <td>1</td>\n",
       "      <td>926</td>\n",
       "      <td>16.231376</td>\n",
       "      <td>978.147808</td>\n",
       "      <td>106.653348</td>\n",
       "      <td>2.230022</td>\n",
       "      <td>0.382289</td>\n",
       "      <td>447.879050</td>\n",
       "      <td>66.853132</td>\n",
       "    </tr>\n",
       "    <tr>\n",
       "      <th>2</th>\n",
       "      <td>2</td>\n",
       "      <td>1100</td>\n",
       "      <td>19.281332</td>\n",
       "      <td>293.810791</td>\n",
       "      <td>166.717273</td>\n",
       "      <td>1.137273</td>\n",
       "      <td>0.136364</td>\n",
       "      <td>118.072727</td>\n",
       "      <td>24.537273</td>\n",
       "    </tr>\n",
       "    <tr>\n",
       "      <th>3</th>\n",
       "      <td>3</td>\n",
       "      <td>554</td>\n",
       "      <td>9.710780</td>\n",
       "      <td>4402.583935</td>\n",
       "      <td>180.252708</td>\n",
       "      <td>4.001805</td>\n",
       "      <td>0.586643</td>\n",
       "      <td>2515.128159</td>\n",
       "      <td>35.978339</td>\n",
       "    </tr>\n",
       "    <tr>\n",
       "      <th>4</th>\n",
       "      <td>4</td>\n",
       "      <td>484</td>\n",
       "      <td>8.483786</td>\n",
       "      <td>2786.180950</td>\n",
       "      <td>56.933884</td>\n",
       "      <td>5.533058</td>\n",
       "      <td>1.074380</td>\n",
       "      <td>1525.828512</td>\n",
       "      <td>160.276860</td>\n",
       "    </tr>\n",
       "  </tbody>\n",
       "</table>\n",
       "</div>"
      ],
      "text/plain": [
       "   cluster  qty_customers  perc_customer  avg_gross_revenue  avg_recency  \\\n",
       "0        0            448       7.852761        6298.593482    32.872768   \n",
       "1        1            926      16.231376         978.147808   106.653348   \n",
       "2        2           1100      19.281332         293.810791   166.717273   \n",
       "3        3            554       9.710780        4402.583935   180.252708   \n",
       "4        4            484       8.483786        2786.180950    56.933884   \n",
       "\n",
       "   avg_frequency  avg_qty_returns  avg_qty_items  avg_assortment  \n",
       "0      11.799107         2.636161    3779.437500      167.772321  \n",
       "1       2.230022         0.382289     447.879050       66.853132  \n",
       "2       1.137273         0.136364     118.072727       24.537273  \n",
       "3       4.001805         0.586643    2515.128159       35.978339  \n",
       "4       5.533058         1.074380    1525.828512      160.276860  "
      ]
     },
     "execution_count": 30,
     "metadata": {},
     "output_type": "execute_result"
    }
   ],
   "source": [
    "df_cluster.head()"
   ]
  },
  {
   "cell_type": "markdown",
   "id": "d67a6f79",
   "metadata": {
    "ExecuteTime": {
     "end_time": "2022-11-28T14:10:03.942906Z",
     "start_time": "2022-11-28T14:10:03.930661Z"
    },
    "papermill": {
     "duration": 0.016785,
     "end_time": "2022-12-09T23:40:16.446122",
     "exception": false,
     "start_time": "2022-12-09T23:40:16.429337",
     "status": "completed"
    },
    "tags": []
   },
   "source": [
    "### 10.2.1. Cluster Insiders"
   ]
  },
  {
   "cell_type": "markdown",
   "id": "fa136577",
   "metadata": {
    "papermill": {
     "duration": 0.013425,
     "end_time": "2022-12-09T23:40:16.477005",
     "exception": false,
     "start_time": "2022-12-09T23:40:16.463580",
     "status": "completed"
    },
    "tags": []
   },
   "source": [
    "- Cluster: 0\n",
    "- Number of customers: 448 (7.85% of customer base)\n",
    "- Average recency (days since last purchase): 33 days\n",
    "- Average frequency (purchases in last 365 days): 12 purchases\n",
    "- Average gross revenue: $ 6,299.00\n",
    "- Average quantity of returns: 2.6\n",
    "- Average quantity of items purchased: 3779\n",
    "- Average assortment: 168"
   ]
  },
  {
   "cell_type": "markdown",
   "id": "17d3658e",
   "metadata": {
    "papermill": {
     "duration": 0.012817,
     "end_time": "2022-12-09T23:40:16.522078",
     "exception": false,
     "start_time": "2022-12-09T23:40:16.509261",
     "status": "completed"
    },
    "tags": []
   },
   "source": [
    "# 12.0. DEPLOY"
   ]
  },
  {
   "cell_type": "code",
   "execution_count": 31,
   "id": "d3bf435c",
   "metadata": {
    "ExecuteTime": {
     "end_time": "2022-12-06T23:20:55.894602Z",
     "start_time": "2022-12-06T23:20:55.805923Z"
    },
    "execution": {
     "iopub.execute_input": "2022-12-09T23:40:16.554474Z",
     "iopub.status.busy": "2022-12-09T23:40:16.553547Z",
     "iopub.status.idle": "2022-12-09T23:40:16.564197Z",
     "shell.execute_reply": "2022-12-09T23:40:16.563121Z"
    },
    "papermill": {
     "duration": 0.02845,
     "end_time": "2022-12-09T23:40:16.566501",
     "exception": false,
     "start_time": "2022-12-09T23:40:16.538051",
     "status": "completed"
    },
    "tags": []
   },
   "outputs": [
    {
     "data": {
      "text/plain": [
       "customer_id                  int64\n",
       "gross_revenue              float64\n",
       "recency                      int64\n",
       "frequency                    int64\n",
       "qty_returns                  int64\n",
       "qty_items                    int64\n",
       "assortment                   int64\n",
       "cluster                      int32\n",
       "last_training_timestamp     object\n",
       "dtype: object"
      ]
     },
     "execution_count": 31,
     "metadata": {},
     "output_type": "execute_result"
    }
   ],
   "source": [
    "df_ref_10.dtypes"
   ]
  },
  {
   "cell_type": "code",
   "execution_count": 32,
   "id": "97e8eb67",
   "metadata": {
    "ExecuteTime": {
     "end_time": "2022-12-06T23:20:56.027265Z",
     "start_time": "2022-12-06T23:20:55.902587Z"
    },
    "execution": {
     "iopub.execute_input": "2022-12-09T23:40:16.606499Z",
     "iopub.status.busy": "2022-12-09T23:40:16.605679Z",
     "iopub.status.idle": "2022-12-09T23:40:16.842637Z",
     "shell.execute_reply": "2022-12-09T23:40:16.841519Z"
    },
    "papermill": {
     "duration": 0.26528,
     "end_time": "2022-12-09T23:40:16.845186",
     "exception": false,
     "start_time": "2022-12-09T23:40:16.579906",
     "status": "completed"
    },
    "tags": []
   },
   "outputs": [
    {
     "data": {
      "text/html": [
       "<div>\n",
       "<style scoped>\n",
       "    .dataframe tbody tr th:only-of-type {\n",
       "        vertical-align: middle;\n",
       "    }\n",
       "\n",
       "    .dataframe tbody tr th {\n",
       "        vertical-align: top;\n",
       "    }\n",
       "\n",
       "    .dataframe thead th {\n",
       "        text-align: right;\n",
       "    }\n",
       "</style>\n",
       "<table border=\"1\" class=\"dataframe\">\n",
       "  <thead>\n",
       "    <tr style=\"text-align: right;\">\n",
       "      <th></th>\n",
       "      <th>customer_id</th>\n",
       "      <th>gross_revenue</th>\n",
       "      <th>recency</th>\n",
       "      <th>frequency</th>\n",
       "      <th>qty_returns</th>\n",
       "      <th>qty_items</th>\n",
       "      <th>assortment</th>\n",
       "      <th>cluster</th>\n",
       "      <th>last_training_timestamp</th>\n",
       "    </tr>\n",
       "  </thead>\n",
       "  <tbody>\n",
       "    <tr>\n",
       "      <th>0</th>\n",
       "      <td>17850</td>\n",
       "      <td>5288.63</td>\n",
       "      <td>373</td>\n",
       "      <td>0</td>\n",
       "      <td>1</td>\n",
       "      <td>1693</td>\n",
       "      <td>21</td>\n",
       "      <td>4</td>\n",
       "      <td>2022-12-09 20:40:15</td>\n",
       "    </tr>\n",
       "    <tr>\n",
       "      <th>1</th>\n",
       "      <td>13047</td>\n",
       "      <td>3089.10</td>\n",
       "      <td>57</td>\n",
       "      <td>6</td>\n",
       "      <td>7</td>\n",
       "      <td>1355</td>\n",
       "      <td>105</td>\n",
       "      <td>4</td>\n",
       "      <td>2022-12-09 20:40:15</td>\n",
       "    </tr>\n",
       "    <tr>\n",
       "      <th>2</th>\n",
       "      <td>12583</td>\n",
       "      <td>6629.34</td>\n",
       "      <td>3</td>\n",
       "      <td>14</td>\n",
       "      <td>2</td>\n",
       "      <td>4978</td>\n",
       "      <td>114</td>\n",
       "      <td>0</td>\n",
       "      <td>2022-12-09 20:40:15</td>\n",
       "    </tr>\n",
       "    <tr>\n",
       "      <th>3</th>\n",
       "      <td>13748</td>\n",
       "      <td>948.25</td>\n",
       "      <td>96</td>\n",
       "      <td>4</td>\n",
       "      <td>0</td>\n",
       "      <td>439</td>\n",
       "      <td>24</td>\n",
       "      <td>1</td>\n",
       "      <td>2022-12-09 20:40:15</td>\n",
       "    </tr>\n",
       "    <tr>\n",
       "      <th>4</th>\n",
       "      <td>15100</td>\n",
       "      <td>635.10</td>\n",
       "      <td>334</td>\n",
       "      <td>1</td>\n",
       "      <td>3</td>\n",
       "      <td>58</td>\n",
       "      <td>1</td>\n",
       "      <td>3</td>\n",
       "      <td>2022-12-09 20:40:15</td>\n",
       "    </tr>\n",
       "  </tbody>\n",
       "</table>\n",
       "</div>"
      ],
      "text/plain": [
       "   customer_id  gross_revenue  recency  frequency  qty_returns  qty_items  \\\n",
       "0        17850        5288.63      373          0            1       1693   \n",
       "1        13047        3089.10       57          6            7       1355   \n",
       "2        12583        6629.34        3         14            2       4978   \n",
       "3        13748         948.25       96          4            0        439   \n",
       "4        15100         635.10      334          1            3         58   \n",
       "\n",
       "   assortment  cluster last_training_timestamp  \n",
       "0          21        4     2022-12-09 20:40:15  \n",
       "1         105        4     2022-12-09 20:40:15  \n",
       "2         114        0     2022-12-09 20:40:15  \n",
       "3          24        1     2022-12-09 20:40:15  \n",
       "4           1        3     2022-12-09 20:40:15  "
      ]
     },
     "execution_count": 32,
     "metadata": {},
     "output_type": "execute_result"
    }
   ],
   "source": [
    "df_ref_10.head()"
   ]
  },
  {
   "cell_type": "markdown",
   "id": "fd8bb322",
   "metadata": {
    "papermill": {
     "duration": 0.012045,
     "end_time": "2022-12-09T23:40:16.871394",
     "exception": false,
     "start_time": "2022-12-09T23:40:16.859349",
     "status": "completed"
    },
    "tags": []
   },
   "source": [
    "## 12.1. Insert Data Into SQLite"
   ]
  },
  {
   "cell_type": "code",
   "execution_count": 33,
   "id": "34523a80",
   "metadata": {
    "ExecuteTime": {
     "end_time": "2022-12-06T23:29:00.164150Z",
     "start_time": "2022-12-06T23:28:59.887782Z"
    },
    "execution": {
     "iopub.execute_input": "2022-12-09T23:40:16.930459Z",
     "iopub.status.busy": "2022-12-09T23:40:16.929305Z",
     "iopub.status.idle": "2022-12-09T23:40:17.001122Z",
     "shell.execute_reply": "2022-12-09T23:40:17.000358Z"
    },
    "papermill": {
     "duration": 0.103785,
     "end_time": "2022-12-09T23:40:17.003975",
     "exception": false,
     "start_time": "2022-12-09T23:40:16.900190",
     "status": "completed"
    },
    "tags": []
   },
   "outputs": [],
   "source": [
    "# # create table\n",
    "# query_create_table = \"\"\"\n",
    "#     CREATE TABLE insiders (\n",
    "#         customer_id             INTEGER,\n",
    "#         gross_revenue           REAL,\n",
    "#         recency                 INTEGER,\n",
    "#         frequency               INTEGER,\n",
    "#         qty_returns             INTEGER,\n",
    "#         qty_items               INTEGER,\n",
    "#         assortment              INTEGER,\n",
    "#         cluster                 INTEGER,\n",
    "#         last_training_timestamp TEXT\n",
    "#     )\n",
    "# \"\"\"\n",
    "\n",
    "# conn = sqlite3.connect('insiders_db.sqlite')\n",
    "# conn.execute(query_create_table)\n",
    "# conn.commit()\n",
    "# conn.close()"
   ]
  },
  {
   "cell_type": "code",
   "execution_count": 34,
   "id": "11cea9e5",
   "metadata": {
    "ExecuteTime": {
     "end_time": "2022-12-06T23:23:25.105370Z",
     "start_time": "2022-12-06T23:23:24.887397Z"
    },
    "execution": {
     "iopub.execute_input": "2022-12-09T23:40:17.032700Z",
     "iopub.status.busy": "2022-12-09T23:40:17.032359Z",
     "iopub.status.idle": "2022-12-09T23:40:17.141604Z",
     "shell.execute_reply": "2022-12-09T23:40:17.140335Z"
    },
    "papermill": {
     "duration": 0.126679,
     "end_time": "2022-12-09T23:40:17.144437",
     "exception": false,
     "start_time": "2022-12-09T23:40:17.017758",
     "status": "completed"
    },
    "tags": []
   },
   "outputs": [],
   "source": [
    "# # drop table\n",
    "# query_drop_table = \"\"\"\n",
    "#     DROP TABLE insiders\n",
    "# \"\"\"\n",
    "\n",
    "# conn = sqlite3.connect('insiders_db.sqlite')\n",
    "# conn.execute(query_drop_table)\n",
    "# conn.commit()\n",
    "# conn.close()"
   ]
  },
  {
   "cell_type": "code",
   "execution_count": 35,
   "id": "c497a9fd",
   "metadata": {
    "ExecuteTime": {
     "end_time": "2022-12-06T23:29:09.611226Z",
     "start_time": "2022-12-06T23:29:09.281516Z"
    },
    "execution": {
     "iopub.execute_input": "2022-12-09T23:40:17.172857Z",
     "iopub.status.busy": "2022-12-09T23:40:17.172404Z",
     "iopub.status.idle": "2022-12-09T23:40:17.256224Z",
     "shell.execute_reply": "2022-12-09T23:40:17.254759Z"
    },
    "papermill": {
     "duration": 0.100551,
     "end_time": "2022-12-09T23:40:17.258560",
     "exception": false,
     "start_time": "2022-12-09T23:40:17.158009",
     "status": "completed"
    },
    "tags": []
   },
   "outputs": [],
   "source": [
    "# # insert data\n",
    "# conn = create_engine('sqlite:///insiders_db.sqlite')\n",
    "# df_ref_10.to_sql('insiders', con=conn, if_exists='append', index=False)"
   ]
  },
  {
   "cell_type": "code",
   "execution_count": 36,
   "id": "fe350024",
   "metadata": {
    "ExecuteTime": {
     "end_time": "2022-12-06T23:20:56.377877Z",
     "start_time": "2022-12-06T23:20:56.273531Z"
    },
    "execution": {
     "iopub.execute_input": "2022-12-09T23:40:17.297108Z",
     "iopub.status.busy": "2022-12-09T23:40:17.296733Z",
     "iopub.status.idle": "2022-12-09T23:40:17.421974Z",
     "shell.execute_reply": "2022-12-09T23:40:17.420749Z"
    },
    "papermill": {
     "duration": 0.152725,
     "end_time": "2022-12-09T23:40:17.425008",
     "exception": false,
     "start_time": "2022-12-09T23:40:17.272283",
     "status": "completed"
    },
    "tags": []
   },
   "outputs": [],
   "source": [
    "# # consulting database\n",
    "# query = \"\"\"\n",
    "#     SELECT * FROM insiders\n",
    "# \"\"\"\n",
    "\n",
    "# df = pd.read_sql(query, conn)"
   ]
  }
 ],
 "metadata": {
  "kernelspec": {
   "display_name": "insiders_env",
   "language": "python",
   "name": "insiders_env"
  },
  "language_info": {
   "codemirror_mode": {
    "name": "ipython",
    "version": 3
   },
   "file_extension": ".py",
   "mimetype": "text/x-python",
   "name": "python",
   "nbconvert_exporter": "python",
   "pygments_lexer": "ipython3",
   "version": "3.9.12"
  },
  "papermill": {
   "default_parameters": {},
   "duration": 55.903957,
   "end_time": "2022-12-09T23:40:18.563350",
   "environment_variables": {},
   "exception": null,
   "input_path": "src/models/c8.0_deploy.ipynb",
   "output_path": "reports/c8.0_deploy_2022_12_09.ipynb",
   "parameters": {},
   "start_time": "2022-12-09T23:39:22.659393",
   "version": "2.4.0"
  }
 },
 "nbformat": 4,
 "nbformat_minor": 5
}