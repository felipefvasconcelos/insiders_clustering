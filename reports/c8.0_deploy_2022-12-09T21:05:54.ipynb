{
 "cells": [
  {
   "cell_type": "markdown",
   "id": "ef8e9756",
   "metadata": {
    "papermill": {
     "duration": 0.013012,
     "end_time": "2022-12-10T00:05:55.838542",
     "exception": false,
     "start_time": "2022-12-10T00:05:55.825530",
     "status": "completed"
    },
    "tags": []
   },
   "source": [
    "# 1.0. FUNCTIONS & LIBS"
   ]
  },
  {
   "cell_type": "markdown",
   "id": "b5cd36bd",
   "metadata": {
    "ExecuteTime": {
     "end_time": "2022-11-26T14:37:10.773420Z",
     "start_time": "2022-11-26T14:37:10.770093Z"
    },
    "papermill": {
     "duration": 0.01061,
     "end_time": "2022-12-10T00:05:55.858943",
     "exception": false,
     "start_time": "2022-12-10T00:05:55.848333",
     "status": "completed"
    },
    "tags": []
   },
   "source": [
    "## 1.1. Imports"
   ]
  },
  {
   "cell_type": "code",
   "execution_count": 1,
   "id": "82cfda53",
   "metadata": {
    "ExecuteTime": {
     "end_time": "2022-12-06T23:20:16.728414Z",
     "start_time": "2022-12-06T23:20:09.771770Z"
    },
    "execution": {
     "iopub.execute_input": "2022-12-10T00:05:55.879399Z",
     "iopub.status.busy": "2022-12-10T00:05:55.879057Z",
     "iopub.status.idle": "2022-12-10T00:06:01.739165Z",
     "shell.execute_reply": "2022-12-10T00:06:01.738046Z"
    },
    "papermill": {
     "duration": 5.873146,
     "end_time": "2022-12-10T00:06:01.741818",
     "exception": false,
     "start_time": "2022-12-10T00:05:55.868672",
     "status": "completed"
    },
    "tags": []
   },
   "outputs": [],
   "source": [
    "import numpy      as np\n",
    "import pandas     as pd\n",
    "import seaborn    as sns\n",
    "import umap.umap_ as umap\n",
    "\n",
    "from datetime   import datetime\n",
    "from datetime   import timedelta\n",
    "\n",
    "from plotly        import express       as px\n",
    "from sklearn       import cluster       as C\n",
    "from sklearn       import metrics       as M\n",
    "from sklearn       import mixture       as mx\n",
    "from sklearn       import manifold      as mn\n",
    "from sklearn       import ensemble      as en\n",
    "from sklearn       import decomposition as dc\n",
    "from sklearn       import preprocessing as pp\n",
    "from matplotlib    import pyplot        as plt\n",
    "from matplotlib    import colormaps     as cm\n",
    "from scipy.cluster import hierarchy     as hc"
   ]
  },
  {
   "cell_type": "markdown",
   "id": "a594e9d3",
   "metadata": {
    "papermill": {
     "duration": 0.009132,
     "end_time": "2022-12-10T00:06:01.760501",
     "exception": false,
     "start_time": "2022-12-10T00:06:01.751369",
     "status": "completed"
    },
    "tags": []
   },
   "source": [
    "# 2.0. Load Data"
   ]
  },
  {
   "cell_type": "code",
   "execution_count": 2,
   "id": "9253fdda",
   "metadata": {
    "ExecuteTime": {
     "end_time": "2022-12-06T23:20:17.382411Z",
     "start_time": "2022-12-06T23:20:16.732422Z"
    },
    "execution": {
     "iopub.execute_input": "2022-12-10T00:06:01.780918Z",
     "iopub.status.busy": "2022-12-10T00:06:01.780511Z",
     "iopub.status.idle": "2022-12-10T00:06:02.381164Z",
     "shell.execute_reply": "2022-12-10T00:06:02.379992Z"
    },
    "papermill": {
     "duration": 0.614133,
     "end_time": "2022-12-10T00:06:02.383845",
     "exception": false,
     "start_time": "2022-12-10T00:06:01.769712",
     "status": "completed"
    },
    "tags": []
   },
   "outputs": [],
   "source": [
    "path = '/home/felipe/repos/insiders_clustering/'\n",
    "\n",
    "df_raw = pd.read_csv(path + 'data/raw/Ecommerce.csv', encoding='iso-8859-1')\n",
    "df_raw = df_raw.drop(columns = 'Unnamed: 8')"
   ]
  },
  {
   "cell_type": "markdown",
   "id": "459f53e8",
   "metadata": {
    "ExecuteTime": {
     "end_time": "2022-11-26T15:36:24.335012Z",
     "start_time": "2022-11-26T15:36:24.325943Z"
    },
    "papermill": {
     "duration": 0.009406,
     "end_time": "2022-12-10T00:06:02.403733",
     "exception": false,
     "start_time": "2022-12-10T00:06:02.394327",
     "status": "completed"
    },
    "tags": []
   },
   "source": [
    "## 2.3. Rename Columns"
   ]
  },
  {
   "cell_type": "code",
   "execution_count": 3,
   "id": "ff3bff2b",
   "metadata": {
    "ExecuteTime": {
     "end_time": "2022-12-06T23:20:17.393706Z",
     "start_time": "2022-12-06T23:20:17.385122Z"
    },
    "execution": {
     "iopub.execute_input": "2022-12-10T00:06:02.424902Z",
     "iopub.status.busy": "2022-12-10T00:06:02.424588Z",
     "iopub.status.idle": "2022-12-10T00:06:02.429957Z",
     "shell.execute_reply": "2022-12-10T00:06:02.429157Z"
    },
    "papermill": {
     "duration": 0.018893,
     "end_time": "2022-12-10T00:06:02.431949",
     "exception": false,
     "start_time": "2022-12-10T00:06:02.413056",
     "status": "completed"
    },
    "tags": []
   },
   "outputs": [],
   "source": [
    "cols_new = ['invoice_no', 'stock_code', 'description', 'quantity', 'invoice_date', 'unit_price', 'customer_id', 'country']\n",
    "df_raw.columns = cols_new"
   ]
  },
  {
   "cell_type": "markdown",
   "id": "806580ff",
   "metadata": {
    "papermill": {
     "duration": 0.025512,
     "end_time": "2022-12-10T00:06:02.467030",
     "exception": false,
     "start_time": "2022-12-10T00:06:02.441518",
     "status": "completed"
    },
    "tags": []
   },
   "source": [
    "### 2.5.1. Replace NA"
   ]
  },
  {
   "cell_type": "code",
   "execution_count": 4,
   "id": "48aff948",
   "metadata": {
    "ExecuteTime": {
     "end_time": "2022-12-06T23:20:17.552991Z",
     "start_time": "2022-12-06T23:20:17.398111Z"
    },
    "execution": {
     "iopub.execute_input": "2022-12-10T00:06:02.516757Z",
     "iopub.status.busy": "2022-12-10T00:06:02.516459Z",
     "iopub.status.idle": "2022-12-10T00:06:02.639718Z",
     "shell.execute_reply": "2022-12-10T00:06:02.638515Z"
    },
    "papermill": {
     "duration": 0.149441,
     "end_time": "2022-12-10T00:06:02.641849",
     "exception": false,
     "start_time": "2022-12-10T00:06:02.492408",
     "status": "completed"
    },
    "tags": []
   },
   "outputs": [],
   "source": [
    "# separate rows with missing costumers\n",
    "df_raw_missing = df_raw.loc[df_raw['customer_id'].isna(), :]"
   ]
  },
  {
   "cell_type": "code",
   "execution_count": 5,
   "id": "68a66e75",
   "metadata": {
    "ExecuteTime": {
     "end_time": "2022-12-06T23:20:17.919273Z",
     "start_time": "2022-12-06T23:20:17.557133Z"
    },
    "execution": {
     "iopub.execute_input": "2022-12-10T00:06:02.670143Z",
     "iopub.status.busy": "2022-12-10T00:06:02.669578Z",
     "iopub.status.idle": "2022-12-10T00:06:02.967684Z",
     "shell.execute_reply": "2022-12-10T00:06:02.966590Z"
    },
    "papermill": {
     "duration": 0.317829,
     "end_time": "2022-12-10T00:06:02.970089",
     "exception": false,
     "start_time": "2022-12-10T00:06:02.652260",
     "status": "completed"
    },
    "tags": []
   },
   "outputs": [],
   "source": [
    "# create reference\n",
    "df_backup = pd.DataFrame(df_raw_missing['invoice_no'].drop_duplicates())\n",
    "df_backup['customer_id'] = np.arange(19000, (19000+len(df_backup)), 1)\n",
    "\n",
    "# merge original with reference data\n",
    "df_raw = pd.merge(df_raw, df_backup, on='invoice_no', how='left')\n",
    "\n",
    "# coalesce\n",
    "df_raw['customer_id'] = df_raw['customer_id_x'].combine_first(df_raw['customer_id_y'])\n",
    "\n",
    "# drop extra columns\n",
    "df_raw = df_raw.drop(columns=['customer_id_x', 'customer_id_y'], axis=1)"
   ]
  },
  {
   "cell_type": "markdown",
   "id": "a711103c",
   "metadata": {
    "ExecuteTime": {
     "end_time": "2022-11-26T15:36:24.335012Z",
     "start_time": "2022-11-26T15:36:24.325943Z"
    },
    "papermill": {
     "duration": 0.009097,
     "end_time": "2022-12-10T00:06:02.988971",
     "exception": false,
     "start_time": "2022-12-10T00:06:02.979874",
     "status": "completed"
    },
    "tags": []
   },
   "source": [
    "## 2.6. Check DTypes"
   ]
  },
  {
   "cell_type": "markdown",
   "id": "e22a145b",
   "metadata": {
    "papermill": {
     "duration": 0.009846,
     "end_time": "2022-12-10T00:06:03.008333",
     "exception": false,
     "start_time": "2022-12-10T00:06:02.998487",
     "status": "completed"
    },
    "tags": []
   },
   "source": [
    "### 2.6.1 Change DTypes"
   ]
  },
  {
   "cell_type": "code",
   "execution_count": 6,
   "id": "23aa6d65",
   "metadata": {
    "ExecuteTime": {
     "end_time": "2022-12-06T23:20:18.017962Z",
     "start_time": "2022-12-06T23:20:17.924749Z"
    },
    "execution": {
     "iopub.execute_input": "2022-12-10T00:06:03.028727Z",
     "iopub.status.busy": "2022-12-10T00:06:03.028391Z",
     "iopub.status.idle": "2022-12-10T00:06:03.114769Z",
     "shell.execute_reply": "2022-12-10T00:06:03.113731Z"
    },
    "papermill": {
     "duration": 0.099916,
     "end_time": "2022-12-10T00:06:03.117930",
     "exception": false,
     "start_time": "2022-12-10T00:06:03.018014",
     "status": "completed"
    },
    "tags": []
   },
   "outputs": [],
   "source": [
    "df_raw = df_raw.astype({'customer_id': 'int64'})\n",
    "df_raw['invoice_date'] = pd.to_datetime(df_raw['invoice_date'], format='%d-%b-%y')"
   ]
  },
  {
   "cell_type": "markdown",
   "id": "6853e542",
   "metadata": {
    "papermill": {
     "duration": 0.022979,
     "end_time": "2022-12-10T00:06:03.151411",
     "exception": false,
     "start_time": "2022-12-10T00:06:03.128432",
     "status": "completed"
    },
    "tags": []
   },
   "source": [
    "# 3.0. DATA FILTERING"
   ]
  },
  {
   "cell_type": "code",
   "execution_count": 7,
   "id": "c8d58aeb",
   "metadata": {
    "ExecuteTime": {
     "end_time": "2022-12-06T23:20:18.130160Z",
     "start_time": "2022-12-06T23:20:18.021536Z"
    },
    "execution": {
     "iopub.execute_input": "2022-12-10T00:06:03.173245Z",
     "iopub.status.busy": "2022-12-10T00:06:03.172946Z",
     "iopub.status.idle": "2022-12-10T00:06:03.243904Z",
     "shell.execute_reply": "2022-12-10T00:06:03.243066Z"
    },
    "papermill": {
     "duration": 0.084154,
     "end_time": "2022-12-10T00:06:03.246454",
     "exception": false,
     "start_time": "2022-12-10T00:06:03.162300",
     "status": "completed"
    },
    "tags": []
   },
   "outputs": [],
   "source": [
    "df_raw_3 = df_raw.copy()"
   ]
  },
  {
   "cell_type": "code",
   "execution_count": 8,
   "id": "29a33848",
   "metadata": {
    "ExecuteTime": {
     "end_time": "2022-12-06T23:20:18.170293Z",
     "start_time": "2022-12-06T23:20:18.132990Z"
    },
    "execution": {
     "iopub.execute_input": "2022-12-10T00:06:03.273992Z",
     "iopub.status.busy": "2022-12-10T00:06:03.273453Z",
     "iopub.status.idle": "2022-12-10T00:06:03.285762Z",
     "shell.execute_reply": "2022-12-10T00:06:03.284408Z"
    },
    "papermill": {
     "duration": 0.031015,
     "end_time": "2022-12-10T00:06:03.289162",
     "exception": false,
     "start_time": "2022-12-10T00:06:03.258147",
     "status": "completed"
    },
    "tags": []
   },
   "outputs": [],
   "source": [
    "# list created using libreoffice calc\n",
    "exclude_stock_codes = [\n",
    "'AMAZONFEE',\n",
    "'B',\n",
    "'BANK CHARGES',\n",
    "'C2',\n",
    "'CRUK',\n",
    "'D',\n",
    "'DCGS0003',\n",
    "'DCGS0004',\n",
    "'DCGS0055',\n",
    "'DCGS0057',\n",
    "'DCGS0066P',\n",
    "'DCGS0067',\n",
    "'DCGS0068',\n",
    "'DCGS0069',\n",
    "'DCGS0070',\n",
    "'DCGS0071',\n",
    "'DCGS0072',\n",
    "'DCGS0073',\n",
    "'DCGS0074',\n",
    "'DCGS0076',\n",
    "'DCGSSBOY',\n",
    "'DCGSSGIRL',\n",
    "'DOT',\n",
    "'gift_0001_10',\n",
    "'gift_0001_20',\n",
    "'gift_0001_30',\n",
    "'gift_0001_40',\n",
    "'gift_0001_50',\n",
    "'M',\n",
    "'m',\n",
    "'PADS',\n",
    "'POST',\n",
    "'S']"
   ]
  },
  {
   "cell_type": "markdown",
   "id": "92287680",
   "metadata": {
    "papermill": {
     "duration": 0.018052,
     "end_time": "2022-12-10T00:06:03.330309",
     "exception": false,
     "start_time": "2022-12-10T00:06:03.312257",
     "status": "completed"
    },
    "tags": []
   },
   "source": [
    "## 3.2. Data Filtering"
   ]
  },
  {
   "cell_type": "code",
   "execution_count": 9,
   "id": "65ba6124",
   "metadata": {
    "ExecuteTime": {
     "end_time": "2022-12-06T23:20:18.424464Z",
     "start_time": "2022-12-06T23:20:18.173478Z"
    },
    "execution": {
     "iopub.execute_input": "2022-12-10T00:06:03.385005Z",
     "iopub.status.busy": "2022-12-10T00:06:03.384095Z",
     "iopub.status.idle": "2022-12-10T00:06:03.610426Z",
     "shell.execute_reply": "2022-12-10T00:06:03.608966Z"
    },
    "papermill": {
     "duration": 0.253363,
     "end_time": "2022-12-10T00:06:03.612840",
     "exception": false,
     "start_time": "2022-12-10T00:06:03.359477",
     "status": "completed"
    },
    "tags": []
   },
   "outputs": [],
   "source": [
    "# unit price\n",
    "df_raw_3 = df_raw_3.loc[df_raw_3['unit_price']>0.01,:]\n",
    "\n",
    "# stock code\n",
    "df_raw_3 = df_raw_3[~df_raw_3['stock_code'].isin(exclude_stock_codes)]\n",
    "\n",
    "# quantity\n",
    "df_raw_returns = df_raw_3.loc[df_raw_3['quantity']<0, :]\n",
    "df_raw_purchases = df_raw_3.loc[df_raw_3['quantity']>=0, :]"
   ]
  },
  {
   "cell_type": "markdown",
   "id": "245b1ff6",
   "metadata": {
    "papermill": {
     "duration": 0.00984,
     "end_time": "2022-12-10T00:06:03.633404",
     "exception": false,
     "start_time": "2022-12-10T00:06:03.623564",
     "status": "completed"
    },
    "tags": []
   },
   "source": [
    "# 4.0. FEATURE ENGINEERING"
   ]
  },
  {
   "cell_type": "code",
   "execution_count": 10,
   "id": "99d16673",
   "metadata": {
    "ExecuteTime": {
     "end_time": "2022-12-06T23:20:18.458221Z",
     "start_time": "2022-12-06T23:20:18.432846Z"
    },
    "execution": {
     "iopub.execute_input": "2022-12-10T00:06:03.656243Z",
     "iopub.status.busy": "2022-12-10T00:06:03.655807Z",
     "iopub.status.idle": "2022-12-10T00:06:03.680818Z",
     "shell.execute_reply": "2022-12-10T00:06:03.679466Z"
    },
    "papermill": {
     "duration": 0.039418,
     "end_time": "2022-12-10T00:06:03.683265",
     "exception": false,
     "start_time": "2022-12-10T00:06:03.643847",
     "status": "completed"
    },
    "tags": []
   },
   "outputs": [],
   "source": [
    "df_raw_4 = df_raw_3.copy()"
   ]
  },
  {
   "cell_type": "markdown",
   "id": "c58a84d9",
   "metadata": {
    "ExecuteTime": {
     "end_time": "2022-11-27T13:07:34.086030Z",
     "start_time": "2022-11-27T13:07:34.083374Z"
    },
    "papermill": {
     "duration": 0.009572,
     "end_time": "2022-12-10T00:06:03.702686",
     "exception": false,
     "start_time": "2022-12-10T00:06:03.693114",
     "status": "completed"
    },
    "tags": []
   },
   "source": [
    "## 4.1. Features Creation"
   ]
  },
  {
   "cell_type": "code",
   "execution_count": 11,
   "id": "7f10b0c0",
   "metadata": {
    "ExecuteTime": {
     "end_time": "2022-12-06T23:20:18.592174Z",
     "start_time": "2022-12-06T23:20:18.461467Z"
    },
    "execution": {
     "iopub.execute_input": "2022-12-10T00:06:03.753500Z",
     "iopub.status.busy": "2022-12-10T00:06:03.753064Z",
     "iopub.status.idle": "2022-12-10T00:06:03.842631Z",
     "shell.execute_reply": "2022-12-10T00:06:03.840902Z"
    },
    "papermill": {
     "duration": 0.12244,
     "end_time": "2022-12-10T00:06:03.845296",
     "exception": false,
     "start_time": "2022-12-10T00:06:03.722856",
     "status": "completed"
    },
    "tags": []
   },
   "outputs": [],
   "source": [
    "# separate unique customers\n",
    "df_ref = df_raw_4.drop(['invoice_no', 'stock_code', 'description', 'quantity', 'invoice_date',\n",
    "       'unit_price', 'country'], axis=1).drop_duplicates(ignore_index=True)"
   ]
  },
  {
   "cell_type": "markdown",
   "id": "8244fe9d",
   "metadata": {
    "papermill": {
     "duration": 0.009464,
     "end_time": "2022-12-10T00:06:03.864774",
     "exception": false,
     "start_time": "2022-12-10T00:06:03.855310",
     "status": "completed"
    },
    "tags": []
   },
   "source": [
    "### 4.1.1. Gross Revenue - total money spent by customer"
   ]
  },
  {
   "cell_type": "code",
   "execution_count": 12,
   "id": "c6aa99ac",
   "metadata": {
    "ExecuteTime": {
     "end_time": "2022-12-06T23:20:18.727654Z",
     "start_time": "2022-12-06T23:20:18.595340Z"
    },
    "execution": {
     "iopub.execute_input": "2022-12-10T00:06:03.920781Z",
     "iopub.status.busy": "2022-12-10T00:06:03.920441Z",
     "iopub.status.idle": "2022-12-10T00:06:04.024878Z",
     "shell.execute_reply": "2022-12-10T00:06:04.023866Z"
    },
    "papermill": {
     "duration": 0.136238,
     "end_time": "2022-12-10T00:06:04.027200",
     "exception": false,
     "start_time": "2022-12-10T00:06:03.890962",
     "status": "completed"
    },
    "tags": []
   },
   "outputs": [],
   "source": [
    "# calculated from total invoices (returns are subtracted from gross revenue)\n",
    "df_raw_4['gross_revenue'] = df_raw_4['quantity']*df_raw_4['unit_price']\n",
    "df_gross_revenue = df_raw_4[['customer_id', 'gross_revenue']].groupby('customer_id').sum().reset_index()\n",
    "df_ref = pd.merge(df_ref, df_gross_revenue, on='customer_id', how='left')"
   ]
  },
  {
   "cell_type": "markdown",
   "id": "454d1227",
   "metadata": {
    "papermill": {
     "duration": 0.009482,
     "end_time": "2022-12-10T00:06:04.046484",
     "exception": false,
     "start_time": "2022-12-10T00:06:04.037002",
     "status": "completed"
    },
    "tags": []
   },
   "source": [
    "### 4.1.3. Recency - number of days since last purchase"
   ]
  },
  {
   "cell_type": "code",
   "execution_count": 13,
   "id": "bffb0241",
   "metadata": {
    "ExecuteTime": {
     "end_time": "2022-12-06T23:20:18.807245Z",
     "start_time": "2022-12-06T23:20:18.731131Z"
    },
    "execution": {
     "iopub.execute_input": "2022-12-10T00:06:04.123928Z",
     "iopub.status.busy": "2022-12-10T00:06:04.123375Z",
     "iopub.status.idle": "2022-12-10T00:06:04.266879Z",
     "shell.execute_reply": "2022-12-10T00:06:04.265068Z"
    },
    "papermill": {
     "duration": 0.184996,
     "end_time": "2022-12-10T00:06:04.270793",
     "exception": false,
     "start_time": "2022-12-10T00:06:04.085797",
     "status": "completed"
    },
    "tags": []
   },
   "outputs": [],
   "source": [
    "# recency - last day of purchase\n",
    "# calculated from dataframe with only purchases\n",
    "df_recency = df_raw_purchases.loc[:, ['customer_id', 'invoice_date']].groupby( 'customer_id' ).max().reset_index()\n",
    "df_recency['recency'] = (df_raw_4['invoice_date'].max()-df_recency['invoice_date']).dt.days+1\n",
    "df_recency = df_recency[['customer_id', 'recency']]\n",
    "df_ref = pd.merge(df_ref, df_recency, on='customer_id', how='left')"
   ]
  },
  {
   "cell_type": "markdown",
   "id": "1788cbea",
   "metadata": {
    "papermill": {
     "duration": 0.020152,
     "end_time": "2022-12-10T00:06:04.302896",
     "exception": false,
     "start_time": "2022-12-10T00:06:04.282744",
     "status": "completed"
    },
    "tags": []
   },
   "source": [
    "### 4.1.4. Frequency - number of purchases in last 365 days"
   ]
  },
  {
   "cell_type": "code",
   "execution_count": 14,
   "id": "879f0af1",
   "metadata": {
    "ExecuteTime": {
     "end_time": "2022-12-06T23:20:19.047151Z",
     "start_time": "2022-12-06T23:20:18.809758Z"
    },
    "execution": {
     "iopub.execute_input": "2022-12-10T00:06:04.331437Z",
     "iopub.status.busy": "2022-12-10T00:06:04.330884Z",
     "iopub.status.idle": "2022-12-10T00:06:04.426407Z",
     "shell.execute_reply": "2022-12-10T00:06:04.425266Z"
    },
    "papermill": {
     "duration": 0.109317,
     "end_time": "2022-12-10T00:06:04.429422",
     "exception": false,
     "start_time": "2022-12-10T00:06:04.320105",
     "status": "completed"
    },
    "tags": []
   },
   "outputs": [],
   "source": [
    "# frequency - number of purchases in last 365 days\n",
    "dd = timedelta(days=365)\n",
    "df_frequency = df_raw_purchases[df_raw_purchases['invoice_date']>=(df_raw_purchases['invoice_date'].max() - dd)][['invoice_no', 'customer_id']].drop_duplicates().groupby('customer_id').count().reset_index().rename(columns={'invoice_no':'frequency'})\n",
    "df_ref = pd.merge(df_ref, df_frequency, on='customer_id', how='left')"
   ]
  },
  {
   "cell_type": "markdown",
   "id": "936eee75",
   "metadata": {
    "papermill": {
     "duration": 0.019869,
     "end_time": "2022-12-10T00:06:04.459427",
     "exception": false,
     "start_time": "2022-12-10T00:06:04.439558",
     "status": "completed"
    },
    "tags": []
   },
   "source": [
    "### 4.1.5. Quantity of Returns - number of invoices with negative quantity"
   ]
  },
  {
   "cell_type": "code",
   "execution_count": 15,
   "id": "ddbf14ef",
   "metadata": {
    "ExecuteTime": {
     "end_time": "2022-12-06T23:20:19.069485Z",
     "start_time": "2022-12-06T23:20:19.050734Z"
    },
    "execution": {
     "iopub.execute_input": "2022-12-10T00:06:04.489017Z",
     "iopub.status.busy": "2022-12-10T00:06:04.488383Z",
     "iopub.status.idle": "2022-12-10T00:06:04.512001Z",
     "shell.execute_reply": "2022-12-10T00:06:04.510979Z"
    },
    "papermill": {
     "duration": 0.043306,
     "end_time": "2022-12-10T00:06:04.514229",
     "exception": false,
     "start_time": "2022-12-10T00:06:04.470923",
     "status": "completed"
    },
    "tags": []
   },
   "outputs": [],
   "source": [
    "df_returns = (df_raw_returns[['customer_id', 'invoice_no']].drop_duplicates()\n",
    "                                                           .groupby('customer_id')\n",
    "                                                           .count()\n",
    "                                                           .reset_index()\n",
    "                                                           .rename(columns={'invoice_no':'qty_returns'}))\n",
    "df_ref = pd.merge(df_ref, df_returns, on='customer_id', how='left')"
   ]
  },
  {
   "cell_type": "markdown",
   "id": "4530b7ce",
   "metadata": {
    "papermill": {
     "duration": 0.020672,
     "end_time": "2022-12-10T00:06:04.546547",
     "exception": false,
     "start_time": "2022-12-10T00:06:04.525875",
     "status": "completed"
    },
    "tags": []
   },
   "source": [
    "### 4.1.7. Quantity of Products"
   ]
  },
  {
   "cell_type": "code",
   "execution_count": 16,
   "id": "e1df96a5",
   "metadata": {
    "ExecuteTime": {
     "end_time": "2022-12-06T23:20:19.161501Z",
     "start_time": "2022-12-06T23:20:19.073179Z"
    },
    "execution": {
     "iopub.execute_input": "2022-12-10T00:06:04.606626Z",
     "iopub.status.busy": "2022-12-10T00:06:04.605837Z",
     "iopub.status.idle": "2022-12-10T00:06:04.702262Z",
     "shell.execute_reply": "2022-12-10T00:06:04.700751Z"
    },
    "papermill": {
     "duration": 0.11191,
     "end_time": "2022-12-10T00:06:04.704314",
     "exception": false,
     "start_time": "2022-12-10T00:06:04.592404",
     "status": "completed"
    },
    "tags": []
   },
   "outputs": [],
   "source": [
    "df_quantity = (df_raw_4[['customer_id','quantity']].groupby('customer_id')\n",
    "                                                           .sum()\n",
    "                                                           .reset_index()\n",
    "                                                           .rename(columns={'quantity': 'qty_items'}))\n",
    "df_ref = pd.merge(df_ref, df_quantity, on='customer_id', how='left')"
   ]
  },
  {
   "cell_type": "markdown",
   "id": "ceffd10a",
   "metadata": {
    "papermill": {
     "duration": 0.012114,
     "end_time": "2022-12-10T00:06:04.726605",
     "exception": false,
     "start_time": "2022-12-10T00:06:04.714491",
     "status": "completed"
    },
    "tags": []
   },
   "source": [
    "### 4.1.9. Assortment- quantity of distinct items purchased"
   ]
  },
  {
   "cell_type": "code",
   "execution_count": 17,
   "id": "bd0c8fde",
   "metadata": {
    "ExecuteTime": {
     "end_time": "2022-12-06T23:20:19.367787Z",
     "start_time": "2022-12-06T23:20:19.164772Z"
    },
    "execution": {
     "iopub.execute_input": "2022-12-10T00:06:04.769265Z",
     "iopub.status.busy": "2022-12-10T00:06:04.768688Z",
     "iopub.status.idle": "2022-12-10T00:06:05.019926Z",
     "shell.execute_reply": "2022-12-10T00:06:05.018895Z"
    },
    "papermill": {
     "duration": 0.277106,
     "end_time": "2022-12-10T00:06:05.022007",
     "exception": false,
     "start_time": "2022-12-10T00:06:04.744901",
     "status": "completed"
    },
    "tags": []
   },
   "outputs": [],
   "source": [
    "df_assortment = (df_raw_purchases[['customer_id', 'stock_code']].drop_duplicates()\n",
    "                                                                .groupby('customer_id')\n",
    "                                                                .count()\n",
    "                                                                .reset_index()\n",
    "                                                                .rename(columns={'stock_code': 'assortment'}))\n",
    "df_ref = pd.merge(df_ref, df_assortment, on='customer_id', how='left')"
   ]
  },
  {
   "cell_type": "markdown",
   "id": "6b068725",
   "metadata": {
    "ExecuteTime": {
     "end_time": "2022-11-27T14:20:44.464040Z",
     "start_time": "2022-11-27T14:20:44.452536Z"
    },
    "papermill": {
     "duration": 0.009575,
     "end_time": "2022-12-10T00:06:05.041355",
     "exception": false,
     "start_time": "2022-12-10T00:06:05.031780",
     "status": "completed"
    },
    "tags": []
   },
   "source": [
    "## 4.2. Check NA and DTypes after Feature Creation"
   ]
  },
  {
   "cell_type": "markdown",
   "id": "7f4b851e",
   "metadata": {
    "papermill": {
     "duration": 0.009699,
     "end_time": "2022-12-10T00:06:05.060873",
     "exception": false,
     "start_time": "2022-12-10T00:06:05.051174",
     "status": "completed"
    },
    "tags": []
   },
   "source": [
    "### 4.2.1. Replace NA in df_ref"
   ]
  },
  {
   "cell_type": "code",
   "execution_count": 18,
   "id": "ce8dd618",
   "metadata": {
    "ExecuteTime": {
     "end_time": "2022-12-06T23:20:19.379657Z",
     "start_time": "2022-12-06T23:20:19.371211Z"
    },
    "execution": {
     "iopub.execute_input": "2022-12-10T00:06:05.094490Z",
     "iopub.status.busy": "2022-12-10T00:06:05.094092Z",
     "iopub.status.idle": "2022-12-10T00:06:05.111516Z",
     "shell.execute_reply": "2022-12-10T00:06:05.109102Z"
    },
    "papermill": {
     "duration": 0.04439,
     "end_time": "2022-12-10T00:06:05.115834",
     "exception": false,
     "start_time": "2022-12-10T00:06:05.071444",
     "status": "completed"
    },
    "tags": []
   },
   "outputs": [],
   "source": [
    "# nan values were assigned to customers with 0 purchases in the last 365 days\n",
    "df_ref['frequency'] = df_ref['frequency'].fillna(0)\n",
    "\n",
    "# nan values were assigned to customers wih 0 returns\n",
    "df_ref['qty_returns'] = df_ref['qty_returns'].fillna(0)\n",
    "\n",
    "# drop NA for remaining attributes\n",
    "df_ref = df_ref.dropna()"
   ]
  },
  {
   "cell_type": "code",
   "execution_count": 19,
   "id": "faccfc76",
   "metadata": {
    "ExecuteTime": {
     "end_time": "2022-12-06T23:20:19.507144Z",
     "start_time": "2022-12-06T23:20:19.383170Z"
    },
    "execution": {
     "iopub.execute_input": "2022-12-10T00:06:05.145197Z",
     "iopub.status.busy": "2022-12-10T00:06:05.144449Z",
     "iopub.status.idle": "2022-12-10T00:06:05.259882Z",
     "shell.execute_reply": "2022-12-10T00:06:05.258906Z"
    },
    "papermill": {
     "duration": 0.131929,
     "end_time": "2022-12-10T00:06:05.262095",
     "exception": false,
     "start_time": "2022-12-10T00:06:05.130166",
     "status": "completed"
    },
    "tags": []
   },
   "outputs": [],
   "source": [
    "# change dtypes\n",
    "df_ref = df_ref.astype({'recency':'int64', \n",
    "                        'frequency': 'int64', \n",
    "                        'qty_returns':'int64',\n",
    "                        'qty_items': 'int64',\n",
    "                        'assortment':'int64'})"
   ]
  },
  {
   "cell_type": "markdown",
   "id": "6c77ad8a",
   "metadata": {
    "papermill": {
     "duration": 0.017394,
     "end_time": "2022-12-10T00:06:05.290891",
     "exception": false,
     "start_time": "2022-12-10T00:06:05.273497",
     "status": "completed"
    },
    "tags": []
   },
   "source": [
    "# 5.0. EDA (EXPLORATORY DATA ANALYSIS)"
   ]
  },
  {
   "cell_type": "code",
   "execution_count": 20,
   "id": "c3ad4089",
   "metadata": {
    "ExecuteTime": {
     "end_time": "2022-12-06T23:20:19.599362Z",
     "start_time": "2022-12-06T23:20:19.511168Z"
    },
    "execution": {
     "iopub.execute_input": "2022-12-10T00:06:05.348980Z",
     "iopub.status.busy": "2022-12-10T00:06:05.348574Z",
     "iopub.status.idle": "2022-12-10T00:06:05.424299Z",
     "shell.execute_reply": "2022-12-10T00:06:05.422889Z"
    },
    "papermill": {
     "duration": 0.11062,
     "end_time": "2022-12-10T00:06:05.427039",
     "exception": false,
     "start_time": "2022-12-10T00:06:05.316419",
     "status": "completed"
    },
    "tags": []
   },
   "outputs": [],
   "source": [
    "df_ref_5 = df_ref.copy()"
   ]
  },
  {
   "cell_type": "markdown",
   "id": "5849f861",
   "metadata": {
    "ExecuteTime": {
     "end_time": "2022-11-30T13:27:53.819741Z",
     "start_time": "2022-11-30T13:27:53.815839Z"
    },
    "papermill": {
     "duration": 0.013232,
     "end_time": "2022-12-10T00:06:05.458058",
     "exception": false,
     "start_time": "2022-12-10T00:06:05.444826",
     "status": "completed"
    },
    "tags": []
   },
   "source": [
    "## 5.3. Space Analysis"
   ]
  },
  {
   "cell_type": "code",
   "execution_count": 21,
   "id": "0fa5a1f5",
   "metadata": {
    "ExecuteTime": {
     "end_time": "2022-12-06T23:20:19.701982Z",
     "start_time": "2022-12-06T23:20:19.602884Z"
    },
    "execution": {
     "iopub.execute_input": "2022-12-10T00:06:05.516664Z",
     "iopub.status.busy": "2022-12-10T00:06:05.515923Z",
     "iopub.status.idle": "2022-12-10T00:06:05.602768Z",
     "shell.execute_reply": "2022-12-10T00:06:05.601652Z"
    },
    "papermill": {
     "duration": 0.122143,
     "end_time": "2022-12-10T00:06:05.605354",
     "exception": false,
     "start_time": "2022-12-10T00:06:05.483211",
     "status": "completed"
    },
    "tags": []
   },
   "outputs": [],
   "source": [
    "# selected features for analysis\n",
    "cols_selected = ['gross_revenue', 'recency', 'frequency', 'qty_returns', 'qty_items', 'assortment']\n",
    "df_ref_53 = df_ref_5[cols_selected]"
   ]
  },
  {
   "cell_type": "code",
   "execution_count": 22,
   "id": "5f2c7743",
   "metadata": {
    "ExecuteTime": {
     "end_time": "2022-12-06T23:20:19.836294Z",
     "start_time": "2022-12-06T23:20:19.705658Z"
    },
    "execution": {
     "iopub.execute_input": "2022-12-10T00:06:05.649444Z",
     "iopub.status.busy": "2022-12-10T00:06:05.648871Z",
     "iopub.status.idle": "2022-12-10T00:06:05.855748Z",
     "shell.execute_reply": "2022-12-10T00:06:05.854303Z"
    },
    "papermill": {
     "duration": 0.24333,
     "end_time": "2022-12-10T00:06:05.859573",
     "exception": false,
     "start_time": "2022-12-10T00:06:05.616243",
     "status": "completed"
    },
    "tags": []
   },
   "outputs": [
    {
     "name": "stderr",
     "output_type": "stream",
     "text": [
      "/tmp/ipykernel_11607/3838092104.py:3: SettingWithCopyWarning: \n",
      "A value is trying to be set on a copy of a slice from a DataFrame.\n",
      "Try using .loc[row_indexer,col_indexer] = value instead\n",
      "\n",
      "See the caveats in the documentation: https://pandas.pydata.org/pandas-docs/stable/user_guide/indexing.html#returning-a-view-versus-a-copy\n",
      "  df_ref_53['gross_revenue']   = mm.fit_transform(df_ref_53[['gross_revenue']])\n",
      "/tmp/ipykernel_11607/3838092104.py:4: SettingWithCopyWarning: \n",
      "A value is trying to be set on a copy of a slice from a DataFrame.\n",
      "Try using .loc[row_indexer,col_indexer] = value instead\n",
      "\n",
      "See the caveats in the documentation: https://pandas.pydata.org/pandas-docs/stable/user_guide/indexing.html#returning-a-view-versus-a-copy\n",
      "  df_ref_53['recency']         = mm.fit_transform(df_ref_53[['recency']])\n",
      "/tmp/ipykernel_11607/3838092104.py:5: SettingWithCopyWarning: \n",
      "A value is trying to be set on a copy of a slice from a DataFrame.\n",
      "Try using .loc[row_indexer,col_indexer] = value instead\n",
      "\n",
      "See the caveats in the documentation: https://pandas.pydata.org/pandas-docs/stable/user_guide/indexing.html#returning-a-view-versus-a-copy\n",
      "  df_ref_53['frequency']       = mm.fit_transform(df_ref_53[['frequency']])\n",
      "/tmp/ipykernel_11607/3838092104.py:6: SettingWithCopyWarning: \n",
      "A value is trying to be set on a copy of a slice from a DataFrame.\n",
      "Try using .loc[row_indexer,col_indexer] = value instead\n",
      "\n",
      "See the caveats in the documentation: https://pandas.pydata.org/pandas-docs/stable/user_guide/indexing.html#returning-a-view-versus-a-copy\n",
      "  df_ref_53['qty_returns']     = mm.fit_transform(df_ref_53[['qty_returns']])\n",
      "/tmp/ipykernel_11607/3838092104.py:7: SettingWithCopyWarning: \n",
      "A value is trying to be set on a copy of a slice from a DataFrame.\n",
      "Try using .loc[row_indexer,col_indexer] = value instead\n",
      "\n",
      "See the caveats in the documentation: https://pandas.pydata.org/pandas-docs/stable/user_guide/indexing.html#returning-a-view-versus-a-copy\n",
      "  df_ref_53['qty_items']       = mm.fit_transform(df_ref_53[['qty_items']])\n",
      "/tmp/ipykernel_11607/3838092104.py:8: SettingWithCopyWarning: \n",
      "A value is trying to be set on a copy of a slice from a DataFrame.\n",
      "Try using .loc[row_indexer,col_indexer] = value instead\n",
      "\n",
      "See the caveats in the documentation: https://pandas.pydata.org/pandas-docs/stable/user_guide/indexing.html#returning-a-view-versus-a-copy\n",
      "  df_ref_53['assortment']      = mm.fit_transform(df_ref_53[['assortment']])\n"
     ]
    }
   ],
   "source": [
    "mm = pp.MinMaxScaler()\n",
    "\n",
    "df_ref_53['gross_revenue']   = mm.fit_transform(df_ref_53[['gross_revenue']])\n",
    "df_ref_53['recency']         = mm.fit_transform(df_ref_53[['recency']])\n",
    "df_ref_53['frequency']       = mm.fit_transform(df_ref_53[['frequency']])\n",
    "df_ref_53['qty_returns']     = mm.fit_transform(df_ref_53[['qty_returns']])\n",
    "df_ref_53['qty_items']       = mm.fit_transform(df_ref_53[['qty_items']])\n",
    "df_ref_53['assortment']      = mm.fit_transform(df_ref_53[['assortment']])"
   ]
  },
  {
   "cell_type": "markdown",
   "id": "554d7ea3",
   "metadata": {
    "papermill": {
     "duration": 0.026182,
     "end_time": "2022-12-10T00:06:05.913720",
     "exception": false,
     "start_time": "2022-12-10T00:06:05.887538",
     "status": "completed"
    },
    "tags": []
   },
   "source": [
    "### 5.3.4. Tree-Based Embedding"
   ]
  },
  {
   "cell_type": "code",
   "execution_count": 23,
   "id": "9585c338",
   "metadata": {
    "ExecuteTime": {
     "end_time": "2022-12-06T23:20:21.721501Z",
     "start_time": "2022-12-06T23:20:19.839236Z"
    },
    "execution": {
     "iopub.execute_input": "2022-12-10T00:06:05.940190Z",
     "iopub.status.busy": "2022-12-10T00:06:05.939803Z",
     "iopub.status.idle": "2022-12-10T00:06:07.882722Z",
     "shell.execute_reply": "2022-12-10T00:06:07.881219Z"
    },
    "papermill": {
     "duration": 1.959415,
     "end_time": "2022-12-10T00:06:07.886038",
     "exception": false,
     "start_time": "2022-12-10T00:06:05.926623",
     "status": "completed"
    },
    "tags": []
   },
   "outputs": [],
   "source": [
    "# training dataset\n",
    "X = df_ref_5[['recency', 'frequency', 'qty_returns', 'qty_items', 'assortment']]\n",
    "y = df_ref_5['gross_revenue']\n",
    "\n",
    "# model definition\n",
    "rf_model = en.RandomForestRegressor(n_estimators=100, random_state=42)\n",
    "\n",
    "# model training\n",
    "rf_model.fit(X, y)\n",
    "\n",
    "# dataframe leafs\n",
    "df_leaf = pd.DataFrame(rf_model.apply(X))"
   ]
  },
  {
   "cell_type": "code",
   "execution_count": 24,
   "id": "4c3f6f2b",
   "metadata": {
    "ExecuteTime": {
     "end_time": "2022-12-06T23:20:53.910165Z",
     "start_time": "2022-12-06T23:20:21.725369Z"
    },
    "execution": {
     "iopub.execute_input": "2022-12-10T00:06:07.914756Z",
     "iopub.status.busy": "2022-12-10T00:06:07.914190Z",
     "iopub.status.idle": "2022-12-10T00:06:46.596072Z",
     "shell.execute_reply": "2022-12-10T00:06:46.594900Z"
    },
    "papermill": {
     "duration": 38.696461,
     "end_time": "2022-12-10T00:06:46.598811",
     "exception": false,
     "start_time": "2022-12-10T00:06:07.902350",
     "status": "completed"
    },
    "tags": []
   },
   "outputs": [],
   "source": [
    "# reducer of dimensionality\n",
    "reducer = umap.UMAP(random_state=42)\n",
    "embedding = reducer.fit_transform(df_leaf)\n",
    "\n",
    "# embedding\n",
    "df_tree = pd.DataFrame()\n",
    "df_tree['embedding_x'] = embedding[:, 0]\n",
    "df_tree['embedding_y'] = embedding[:, 1]"
   ]
  },
  {
   "cell_type": "markdown",
   "id": "4263e249",
   "metadata": {
    "papermill": {
     "duration": 0.011982,
     "end_time": "2022-12-10T00:06:46.626269",
     "exception": false,
     "start_time": "2022-12-10T00:06:46.614287",
     "status": "completed"
    },
    "tags": []
   },
   "source": [
    "# 8.0. HYPER-PARAMETER FINE TUNING"
   ]
  },
  {
   "cell_type": "code",
   "execution_count": 25,
   "id": "73e9fb14",
   "metadata": {
    "ExecuteTime": {
     "end_time": "2022-12-06T23:20:53.919755Z",
     "start_time": "2022-12-06T23:20:53.915965Z"
    },
    "execution": {
     "iopub.execute_input": "2022-12-10T00:06:46.653663Z",
     "iopub.status.busy": "2022-12-10T00:06:46.653304Z",
     "iopub.status.idle": "2022-12-10T00:06:46.680020Z",
     "shell.execute_reply": "2022-12-10T00:06:46.678878Z"
    },
    "papermill": {
     "duration": 0.042878,
     "end_time": "2022-12-10T00:06:46.682357",
     "exception": false,
     "start_time": "2022-12-10T00:06:46.639479",
     "status": "completed"
    },
    "tags": []
   },
   "outputs": [],
   "source": [
    "X = df_tree.copy()\n",
    "X.to_csv(path + 'src/data/tree_based_embedding.csv', index=False)"
   ]
  },
  {
   "cell_type": "markdown",
   "id": "1e3b4b5f",
   "metadata": {
    "papermill": {
     "duration": 0.027879,
     "end_time": "2022-12-10T00:06:46.723225",
     "exception": false,
     "start_time": "2022-12-10T00:06:46.695346",
     "status": "completed"
    },
    "tags": []
   },
   "source": [
    "# 9.0. MODEL TRAINING"
   ]
  },
  {
   "cell_type": "markdown",
   "id": "d29237d1",
   "metadata": {
    "papermill": {
     "duration": 0.019264,
     "end_time": "2022-12-10T00:06:46.773272",
     "exception": false,
     "start_time": "2022-12-10T00:06:46.754008",
     "status": "completed"
    },
    "tags": []
   },
   "source": [
    "## 9.1. K-Means"
   ]
  },
  {
   "cell_type": "code",
   "execution_count": 26,
   "id": "56fd1a67",
   "metadata": {
    "ExecuteTime": {
     "end_time": "2022-12-06T23:20:54.869317Z",
     "start_time": "2022-12-06T23:20:53.922045Z"
    },
    "execution": {
     "iopub.execute_input": "2022-12-10T00:06:46.813482Z",
     "iopub.status.busy": "2022-12-10T00:06:46.812532Z",
     "iopub.status.idle": "2022-12-10T00:06:47.508204Z",
     "shell.execute_reply": "2022-12-10T00:06:47.506418Z"
    },
    "papermill": {
     "duration": 0.712335,
     "end_time": "2022-12-10T00:06:47.511313",
     "exception": false,
     "start_time": "2022-12-10T00:06:46.798978",
     "status": "completed"
    },
    "tags": []
   },
   "outputs": [],
   "source": [
    "# model definition\n",
    "k = 8\n",
    "kmeans = C.KMeans(init='random', n_clusters=k, n_init=100, max_iter=300, random_state=42)\n",
    "\n",
    "# model training\n",
    "kmeans.fit(X)\n",
    "\n",
    "# clustering\n",
    "labels = kmeans.labels_"
   ]
  },
  {
   "cell_type": "markdown",
   "id": "1877f878",
   "metadata": {
    "papermill": {
     "duration": 0.011292,
     "end_time": "2022-12-10T00:06:47.535882",
     "exception": false,
     "start_time": "2022-12-10T00:06:47.524590",
     "status": "completed"
    },
    "tags": []
   },
   "source": [
    "### 9.1.2. K-Means cluster validation"
   ]
  },
  {
   "cell_type": "code",
   "execution_count": 27,
   "id": "1d65f978",
   "metadata": {
    "ExecuteTime": {
     "end_time": "2022-12-06T23:20:55.468439Z",
     "start_time": "2022-12-06T23:20:54.872190Z"
    },
    "execution": {
     "iopub.execute_input": "2022-12-10T00:06:47.563707Z",
     "iopub.status.busy": "2022-12-10T00:06:47.562748Z",
     "iopub.status.idle": "2022-12-10T00:06:48.476291Z",
     "shell.execute_reply": "2022-12-10T00:06:48.475195Z"
    },
    "papermill": {
     "duration": 0.930651,
     "end_time": "2022-12-10T00:06:48.478493",
     "exception": false,
     "start_time": "2022-12-10T00:06:47.547842",
     "status": "completed"
    },
    "tags": []
   },
   "outputs": [
    {
     "name": "stdout",
     "output_type": "stream",
     "text": [
      "WSS value: 88500.6328125\n"
     ]
    },
    {
     "name": "stdout",
     "output_type": "stream",
     "text": [
      "SS value: 0.49807924032211304\n"
     ]
    }
   ],
   "source": [
    "# WSS (Within-Cluster Sum of Square)\n",
    "print('WSS value: {}'.format(kmeans.inertia_))\n",
    "\n",
    "# SS (Silhouette Score)\n",
    "print('SS value: {}'.format(M.silhouette_score(X, labels, metric='euclidean')))"
   ]
  },
  {
   "cell_type": "markdown",
   "id": "ec346df9",
   "metadata": {
    "papermill": {
     "duration": 0.011304,
     "end_time": "2022-12-10T00:06:48.502124",
     "exception": false,
     "start_time": "2022-12-10T00:06:48.490820",
     "status": "completed"
    },
    "tags": []
   },
   "source": [
    "## 10.2. Clusters Profile"
   ]
  },
  {
   "cell_type": "code",
   "execution_count": 28,
   "id": "890f09f9",
   "metadata": {
    "ExecuteTime": {
     "end_time": "2022-12-06T23:20:55.485121Z",
     "start_time": "2022-12-06T23:20:55.474859Z"
    },
    "execution": {
     "iopub.execute_input": "2022-12-10T00:06:48.527603Z",
     "iopub.status.busy": "2022-12-10T00:06:48.527262Z",
     "iopub.status.idle": "2022-12-10T00:06:48.540398Z",
     "shell.execute_reply": "2022-12-10T00:06:48.539227Z"
    },
    "papermill": {
     "duration": 0.028387,
     "end_time": "2022-12-10T00:06:48.542948",
     "exception": false,
     "start_time": "2022-12-10T00:06:48.514561",
     "status": "completed"
    },
    "tags": []
   },
   "outputs": [],
   "source": [
    "df_ref_10 = df_ref_5[['customer_id',\n",
    "                      'gross_revenue',\n",
    "                      'recency',\n",
    "                      'frequency',\n",
    "                      'qty_returns',\n",
    "                      'qty_items',\n",
    "                      'assortment']].copy()\n",
    "df_ref_10['cluster'] = labels\n",
    "df_ref_10['last_training_timestamp'] = datetime.now().strftime('%Y-%m-%d %H:%M:%S')"
   ]
  },
  {
   "cell_type": "code",
   "execution_count": 29,
   "id": "da654fe1",
   "metadata": {
    "ExecuteTime": {
     "end_time": "2022-12-06T23:20:55.645000Z",
     "start_time": "2022-12-06T23:20:55.490027Z"
    },
    "execution": {
     "iopub.execute_input": "2022-12-10T00:06:48.568700Z",
     "iopub.status.busy": "2022-12-10T00:06:48.567862Z",
     "iopub.status.idle": "2022-12-10T00:06:48.729656Z",
     "shell.execute_reply": "2022-12-10T00:06:48.728738Z"
    },
    "papermill": {
     "duration": 0.178243,
     "end_time": "2022-12-10T00:06:48.732431",
     "exception": false,
     "start_time": "2022-12-10T00:06:48.554188",
     "status": "completed"
    },
    "tags": []
   },
   "outputs": [],
   "source": [
    "# number of customer\n",
    "df_cluster = df_ref_10[['customer_id', 'cluster']].groupby('cluster').count().reset_index().rename(columns={'customer_id':'qty_customers'})\n",
    "df_cluster['perc_customer'] = 100*(df_cluster['qty_customers']/df_cluster['qty_customers'].sum())\n",
    "\n",
    "# avg gross revenue\n",
    "df_avg_gr = df_ref_10[['gross_revenue', 'cluster']].groupby('cluster').mean().reset_index().rename(columns={'gross_revenue':'avg_gross_revenue'})\n",
    "df_cluster = pd.merge(df_cluster, df_avg_gr, on='cluster', how='left')\n",
    "\n",
    "# avg recency days\n",
    "df_avg_rd = df_ref_10[['recency', 'cluster']].groupby('cluster').mean().reset_index().rename(columns={'recency':'avg_recency'})\n",
    "df_cluster = pd.merge(df_cluster, df_avg_rd, on='cluster', how='left')\n",
    "\n",
    "# avg frequency\n",
    "df_avg_fr = df_ref_10[['frequency', 'cluster']].groupby('cluster').mean().reset_index().rename(columns={'frequency':'avg_frequency'})\n",
    "df_cluster = pd.merge(df_cluster, df_avg_fr, on='cluster', how='left')\n",
    "\n",
    "# avg_qty_returns\n",
    "df_avg_qr = df_ref_10[['qty_returns', 'cluster']].groupby('cluster').mean().reset_index().rename(columns={'qty_returns':'avg_qty_returns'})\n",
    "df_cluster = pd.merge(df_cluster, df_avg_qr, on='cluster', how='left')\n",
    "\n",
    "# avg_qty_items\n",
    "df_avg_qi = df_ref_10[['qty_items', 'cluster']].groupby('cluster').mean().reset_index().rename(columns={'qty_items':'avg_qty_items'})\n",
    "df_cluster = pd.merge(df_cluster, df_avg_qi, on='cluster', how='left')\n",
    "\n",
    "# avg_assortment\n",
    "df_avg_as = df_ref_10[['assortment', 'cluster']].groupby('cluster').mean().reset_index().rename(columns={'assortment':'avg_assortment'})\n",
    "df_cluster = pd.merge(df_cluster, df_avg_as, on='cluster', how='left')\n"
   ]
  },
  {
   "cell_type": "code",
   "execution_count": 30,
   "id": "c5aa4900",
   "metadata": {
    "ExecuteTime": {
     "end_time": "2022-12-06T23:20:55.800340Z",
     "start_time": "2022-12-06T23:20:55.648152Z"
    },
    "execution": {
     "iopub.execute_input": "2022-12-10T00:06:48.759413Z",
     "iopub.status.busy": "2022-12-10T00:06:48.759010Z",
     "iopub.status.idle": "2022-12-10T00:06:48.908457Z",
     "shell.execute_reply": "2022-12-10T00:06:48.907525Z"
    },
    "papermill": {
     "duration": 0.165518,
     "end_time": "2022-12-10T00:06:48.910641",
     "exception": false,
     "start_time": "2022-12-10T00:06:48.745123",
     "status": "completed"
    },
    "tags": []
   },
   "outputs": [
    {
     "data": {
      "text/html": [
       "<div>\n",
       "<style scoped>\n",
       "    .dataframe tbody tr th:only-of-type {\n",
       "        vertical-align: middle;\n",
       "    }\n",
       "\n",
       "    .dataframe tbody tr th {\n",
       "        vertical-align: top;\n",
       "    }\n",
       "\n",
       "    .dataframe thead th {\n",
       "        text-align: right;\n",
       "    }\n",
       "</style>\n",
       "<table border=\"1\" class=\"dataframe\">\n",
       "  <thead>\n",
       "    <tr style=\"text-align: right;\">\n",
       "      <th></th>\n",
       "      <th>cluster</th>\n",
       "      <th>qty_customers</th>\n",
       "      <th>perc_customer</th>\n",
       "      <th>avg_gross_revenue</th>\n",
       "      <th>avg_recency</th>\n",
       "      <th>avg_frequency</th>\n",
       "      <th>avg_qty_returns</th>\n",
       "      <th>avg_qty_items</th>\n",
       "      <th>avg_assortment</th>\n",
       "    </tr>\n",
       "  </thead>\n",
       "  <tbody>\n",
       "    <tr>\n",
       "      <th>0</th>\n",
       "      <td>0</td>\n",
       "      <td>448</td>\n",
       "      <td>7.852761</td>\n",
       "      <td>6298.593482</td>\n",
       "      <td>32.872768</td>\n",
       "      <td>11.799107</td>\n",
       "      <td>2.636161</td>\n",
       "      <td>3779.437500</td>\n",
       "      <td>167.772321</td>\n",
       "    </tr>\n",
       "    <tr>\n",
       "      <th>1</th>\n",
       "      <td>1</td>\n",
       "      <td>926</td>\n",
       "      <td>16.231376</td>\n",
       "      <td>978.147808</td>\n",
       "      <td>106.653348</td>\n",
       "      <td>2.230022</td>\n",
       "      <td>0.382289</td>\n",
       "      <td>447.879050</td>\n",
       "      <td>66.853132</td>\n",
       "    </tr>\n",
       "    <tr>\n",
       "      <th>2</th>\n",
       "      <td>2</td>\n",
       "      <td>1100</td>\n",
       "      <td>19.281332</td>\n",
       "      <td>293.810791</td>\n",
       "      <td>166.717273</td>\n",
       "      <td>1.137273</td>\n",
       "      <td>0.136364</td>\n",
       "      <td>118.072727</td>\n",
       "      <td>24.537273</td>\n",
       "    </tr>\n",
       "    <tr>\n",
       "      <th>3</th>\n",
       "      <td>3</td>\n",
       "      <td>554</td>\n",
       "      <td>9.710780</td>\n",
       "      <td>4402.583935</td>\n",
       "      <td>180.252708</td>\n",
       "      <td>4.001805</td>\n",
       "      <td>0.586643</td>\n",
       "      <td>2515.128159</td>\n",
       "      <td>35.978339</td>\n",
       "    </tr>\n",
       "    <tr>\n",
       "      <th>4</th>\n",
       "      <td>4</td>\n",
       "      <td>484</td>\n",
       "      <td>8.483786</td>\n",
       "      <td>2786.180950</td>\n",
       "      <td>56.933884</td>\n",
       "      <td>5.533058</td>\n",
       "      <td>1.074380</td>\n",
       "      <td>1525.828512</td>\n",
       "      <td>160.276860</td>\n",
       "    </tr>\n",
       "  </tbody>\n",
       "</table>\n",
       "</div>"
      ],
      "text/plain": [
       "   cluster  qty_customers  perc_customer  avg_gross_revenue  avg_recency  \\\n",
       "0        0            448       7.852761        6298.593482    32.872768   \n",
       "1        1            926      16.231376         978.147808   106.653348   \n",
       "2        2           1100      19.281332         293.810791   166.717273   \n",
       "3        3            554       9.710780        4402.583935   180.252708   \n",
       "4        4            484       8.483786        2786.180950    56.933884   \n",
       "\n",
       "   avg_frequency  avg_qty_returns  avg_qty_items  avg_assortment  \n",
       "0      11.799107         2.636161    3779.437500      167.772321  \n",
       "1       2.230022         0.382289     447.879050       66.853132  \n",
       "2       1.137273         0.136364     118.072727       24.537273  \n",
       "3       4.001805         0.586643    2515.128159       35.978339  \n",
       "4       5.533058         1.074380    1525.828512      160.276860  "
      ]
     },
     "execution_count": 30,
     "metadata": {},
     "output_type": "execute_result"
    }
   ],
   "source": [
    "df_cluster.head()"
   ]
  },
  {
   "cell_type": "markdown",
   "id": "d67a6f79",
   "metadata": {
    "ExecuteTime": {
     "end_time": "2022-11-28T14:10:03.942906Z",
     "start_time": "2022-11-28T14:10:03.930661Z"
    },
    "papermill": {
     "duration": 0.013944,
     "end_time": "2022-12-10T00:06:48.936813",
     "exception": false,
     "start_time": "2022-12-10T00:06:48.922869",
     "status": "completed"
    },
    "tags": []
   },
   "source": [
    "### 10.2.1. Cluster Insiders"
   ]
  },
  {
   "cell_type": "markdown",
   "id": "fa136577",
   "metadata": {
    "papermill": {
     "duration": 0.030191,
     "end_time": "2022-12-10T00:06:48.998850",
     "exception": false,
     "start_time": "2022-12-10T00:06:48.968659",
     "status": "completed"
    },
    "tags": []
   },
   "source": [
    "- Cluster: 0\n",
    "- Number of customers: 448 (7.85% of customer base)\n",
    "- Average recency (days since last purchase): 33 days\n",
    "- Average frequency (purchases in last 365 days): 12 purchases\n",
    "- Average gross revenue: $ 6,299.00\n",
    "- Average quantity of returns: 2.6\n",
    "- Average quantity of items purchased: 3779\n",
    "- Average assortment: 168"
   ]
  },
  {
   "cell_type": "markdown",
   "id": "17d3658e",
   "metadata": {
    "papermill": {
     "duration": 0.028673,
     "end_time": "2022-12-10T00:06:49.053211",
     "exception": false,
     "start_time": "2022-12-10T00:06:49.024538",
     "status": "completed"
    },
    "tags": []
   },
   "source": [
    "# 12.0. DEPLOY"
   ]
  },
  {
   "cell_type": "code",
   "execution_count": 31,
   "id": "d3bf435c",
   "metadata": {
    "ExecuteTime": {
     "end_time": "2022-12-06T23:20:55.894602Z",
     "start_time": "2022-12-06T23:20:55.805923Z"
    },
    "execution": {
     "iopub.execute_input": "2022-12-10T00:06:49.131138Z",
     "iopub.status.busy": "2022-12-10T00:06:49.130459Z",
     "iopub.status.idle": "2022-12-10T00:06:49.137749Z",
     "shell.execute_reply": "2022-12-10T00:06:49.136642Z"
    },
    "papermill": {
     "duration": 0.073328,
     "end_time": "2022-12-10T00:06:49.139722",
     "exception": false,
     "start_time": "2022-12-10T00:06:49.066394",
     "status": "completed"
    },
    "tags": []
   },
   "outputs": [
    {
     "data": {
      "text/plain": [
       "customer_id                  int64\n",
       "gross_revenue              float64\n",
       "recency                      int64\n",
       "frequency                    int64\n",
       "qty_returns                  int64\n",
       "qty_items                    int64\n",
       "assortment                   int64\n",
       "cluster                      int32\n",
       "last_training_timestamp     object\n",
       "dtype: object"
      ]
     },
     "execution_count": 31,
     "metadata": {},
     "output_type": "execute_result"
    }
   ],
   "source": [
    "df_ref_10.dtypes"
   ]
  },
  {
   "cell_type": "code",
   "execution_count": 32,
   "id": "97e8eb67",
   "metadata": {
    "ExecuteTime": {
     "end_time": "2022-12-06T23:20:56.027265Z",
     "start_time": "2022-12-06T23:20:55.902587Z"
    },
    "execution": {
     "iopub.execute_input": "2022-12-10T00:06:49.202659Z",
     "iopub.status.busy": "2022-12-10T00:06:49.202297Z",
     "iopub.status.idle": "2022-12-10T00:06:49.356694Z",
     "shell.execute_reply": "2022-12-10T00:06:49.355516Z"
    },
    "papermill": {
     "duration": 0.205104,
     "end_time": "2022-12-10T00:06:49.358827",
     "exception": false,
     "start_time": "2022-12-10T00:06:49.153723",
     "status": "completed"
    },
    "tags": []
   },
   "outputs": [
    {
     "data": {
      "text/html": [
       "<div>\n",
       "<style scoped>\n",
       "    .dataframe tbody tr th:only-of-type {\n",
       "        vertical-align: middle;\n",
       "    }\n",
       "\n",
       "    .dataframe tbody tr th {\n",
       "        vertical-align: top;\n",
       "    }\n",
       "\n",
       "    .dataframe thead th {\n",
       "        text-align: right;\n",
       "    }\n",
       "</style>\n",
       "<table border=\"1\" class=\"dataframe\">\n",
       "  <thead>\n",
       "    <tr style=\"text-align: right;\">\n",
       "      <th></th>\n",
       "      <th>customer_id</th>\n",
       "      <th>gross_revenue</th>\n",
       "      <th>recency</th>\n",
       "      <th>frequency</th>\n",
       "      <th>qty_returns</th>\n",
       "      <th>qty_items</th>\n",
       "      <th>assortment</th>\n",
       "      <th>cluster</th>\n",
       "      <th>last_training_timestamp</th>\n",
       "    </tr>\n",
       "  </thead>\n",
       "  <tbody>\n",
       "    <tr>\n",
       "      <th>0</th>\n",
       "      <td>17850</td>\n",
       "      <td>5288.63</td>\n",
       "      <td>373</td>\n",
       "      <td>0</td>\n",
       "      <td>1</td>\n",
       "      <td>1693</td>\n",
       "      <td>21</td>\n",
       "      <td>4</td>\n",
       "      <td>2022-12-09 21:06:48</td>\n",
       "    </tr>\n",
       "    <tr>\n",
       "      <th>1</th>\n",
       "      <td>13047</td>\n",
       "      <td>3089.10</td>\n",
       "      <td>57</td>\n",
       "      <td>6</td>\n",
       "      <td>7</td>\n",
       "      <td>1355</td>\n",
       "      <td>105</td>\n",
       "      <td>4</td>\n",
       "      <td>2022-12-09 21:06:48</td>\n",
       "    </tr>\n",
       "    <tr>\n",
       "      <th>2</th>\n",
       "      <td>12583</td>\n",
       "      <td>6629.34</td>\n",
       "      <td>3</td>\n",
       "      <td>14</td>\n",
       "      <td>2</td>\n",
       "      <td>4978</td>\n",
       "      <td>114</td>\n",
       "      <td>0</td>\n",
       "      <td>2022-12-09 21:06:48</td>\n",
       "    </tr>\n",
       "    <tr>\n",
       "      <th>3</th>\n",
       "      <td>13748</td>\n",
       "      <td>948.25</td>\n",
       "      <td>96</td>\n",
       "      <td>4</td>\n",
       "      <td>0</td>\n",
       "      <td>439</td>\n",
       "      <td>24</td>\n",
       "      <td>1</td>\n",
       "      <td>2022-12-09 21:06:48</td>\n",
       "    </tr>\n",
       "    <tr>\n",
       "      <th>4</th>\n",
       "      <td>15100</td>\n",
       "      <td>635.10</td>\n",
       "      <td>334</td>\n",
       "      <td>1</td>\n",
       "      <td>3</td>\n",
       "      <td>58</td>\n",
       "      <td>1</td>\n",
       "      <td>3</td>\n",
       "      <td>2022-12-09 21:06:48</td>\n",
       "    </tr>\n",
       "  </tbody>\n",
       "</table>\n",
       "</div>"
      ],
      "text/plain": [
       "   customer_id  gross_revenue  recency  frequency  qty_returns  qty_items  \\\n",
       "0        17850        5288.63      373          0            1       1693   \n",
       "1        13047        3089.10       57          6            7       1355   \n",
       "2        12583        6629.34        3         14            2       4978   \n",
       "3        13748         948.25       96          4            0        439   \n",
       "4        15100         635.10      334          1            3         58   \n",
       "\n",
       "   assortment  cluster last_training_timestamp  \n",
       "0          21        4     2022-12-09 21:06:48  \n",
       "1         105        4     2022-12-09 21:06:48  \n",
       "2         114        0     2022-12-09 21:06:48  \n",
       "3          24        1     2022-12-09 21:06:48  \n",
       "4           1        3     2022-12-09 21:06:48  "
      ]
     },
     "execution_count": 32,
     "metadata": {},
     "output_type": "execute_result"
    }
   ],
   "source": [
    "df_ref_10.head()"
   ]
  },
  {
   "cell_type": "markdown",
   "id": "fd8bb322",
   "metadata": {
    "papermill": {
     "duration": 0.015146,
     "end_time": "2022-12-10T00:06:49.391440",
     "exception": false,
     "start_time": "2022-12-10T00:06:49.376294",
     "status": "completed"
    },
    "tags": []
   },
   "source": [
    "## 12.1. Insert Data Into SQLite"
   ]
  },
  {
   "cell_type": "code",
   "execution_count": 33,
   "id": "34523a80",
   "metadata": {
    "ExecuteTime": {
     "end_time": "2022-12-06T23:29:00.164150Z",
     "start_time": "2022-12-06T23:28:59.887782Z"
    },
    "execution": {
     "iopub.execute_input": "2022-12-10T00:06:49.461013Z",
     "iopub.status.busy": "2022-12-10T00:06:49.460546Z",
     "iopub.status.idle": "2022-12-10T00:06:49.561102Z",
     "shell.execute_reply": "2022-12-10T00:06:49.560002Z"
    },
    "papermill": {
     "duration": 0.143841,
     "end_time": "2022-12-10T00:06:49.563680",
     "exception": false,
     "start_time": "2022-12-10T00:06:49.419839",
     "status": "completed"
    },
    "tags": []
   },
   "outputs": [],
   "source": [
    "# # create table\n",
    "# query_create_table = \"\"\"\n",
    "#     CREATE TABLE insiders (\n",
    "#         customer_id             INTEGER,\n",
    "#         gross_revenue           REAL,\n",
    "#         recency                 INTEGER,\n",
    "#         frequency               INTEGER,\n",
    "#         qty_returns             INTEGER,\n",
    "#         qty_items               INTEGER,\n",
    "#         assortment              INTEGER,\n",
    "#         cluster                 INTEGER,\n",
    "#         last_training_timestamp TEXT\n",
    "#     )\n",
    "# \"\"\"\n",
    "\n",
    "# conn = sqlite3.connect('insiders_db.sqlite')\n",
    "# conn.execute(query_create_table)\n",
    "# conn.commit()\n",
    "# conn.close()"
   ]
  },
  {
   "cell_type": "code",
   "execution_count": 34,
   "id": "11cea9e5",
   "metadata": {
    "ExecuteTime": {
     "end_time": "2022-12-06T23:23:25.105370Z",
     "start_time": "2022-12-06T23:23:24.887397Z"
    },
    "execution": {
     "iopub.execute_input": "2022-12-10T00:06:49.591062Z",
     "iopub.status.busy": "2022-12-10T00:06:49.590732Z",
     "iopub.status.idle": "2022-12-10T00:06:49.729649Z",
     "shell.execute_reply": "2022-12-10T00:06:49.728148Z"
    },
    "papermill": {
     "duration": 0.154621,
     "end_time": "2022-12-10T00:06:49.732312",
     "exception": false,
     "start_time": "2022-12-10T00:06:49.577691",
     "status": "completed"
    },
    "tags": []
   },
   "outputs": [],
   "source": [
    "# # drop table\n",
    "# query_drop_table = \"\"\"\n",
    "#     DROP TABLE insiders\n",
    "# \"\"\"\n",
    "\n",
    "# conn = sqlite3.connect('insiders_db.sqlite')\n",
    "# conn.execute(query_drop_table)\n",
    "# conn.commit()\n",
    "# conn.close()"
   ]
  },
  {
   "cell_type": "code",
   "execution_count": 35,
   "id": "c497a9fd",
   "metadata": {
    "ExecuteTime": {
     "end_time": "2022-12-06T23:29:09.611226Z",
     "start_time": "2022-12-06T23:29:09.281516Z"
    },
    "execution": {
     "iopub.execute_input": "2022-12-10T00:06:49.765864Z",
     "iopub.status.busy": "2022-12-10T00:06:49.765241Z",
     "iopub.status.idle": "2022-12-10T00:06:49.871875Z",
     "shell.execute_reply": "2022-12-10T00:06:49.870231Z"
    },
    "papermill": {
     "duration": 0.123716,
     "end_time": "2022-12-10T00:06:49.874709",
     "exception": false,
     "start_time": "2022-12-10T00:06:49.750993",
     "status": "completed"
    },
    "tags": []
   },
   "outputs": [],
   "source": [
    "# # insert data\n",
    "# conn = create_engine('sqlite:///insiders_db.sqlite')\n",
    "# df_ref_10.to_sql('insiders', con=conn, if_exists='append', index=False)"
   ]
  },
  {
   "cell_type": "code",
   "execution_count": 36,
   "id": "fe350024",
   "metadata": {
    "ExecuteTime": {
     "end_time": "2022-12-06T23:20:56.377877Z",
     "start_time": "2022-12-06T23:20:56.273531Z"
    },
    "execution": {
     "iopub.execute_input": "2022-12-10T00:06:49.903086Z",
     "iopub.status.busy": "2022-12-10T00:06:49.902785Z",
     "iopub.status.idle": "2022-12-10T00:06:50.038480Z",
     "shell.execute_reply": "2022-12-10T00:06:50.036894Z"
    },
    "papermill": {
     "duration": 0.15353,
     "end_time": "2022-12-10T00:06:50.040843",
     "exception": false,
     "start_time": "2022-12-10T00:06:49.887313",
     "status": "completed"
    },
    "tags": []
   },
   "outputs": [],
   "source": [
    "# # consulting database\n",
    "# query = \"\"\"\n",
    "#     SELECT * FROM insiders\n",
    "# \"\"\"\n",
    "\n",
    "# df = pd.read_sql(query, conn)"
   ]
  }
 ],
 "metadata": {
  "kernelspec": {
   "display_name": "insiders_env",
   "language": "python",
   "name": "insiders_env"
  },
  "language_info": {
   "codemirror_mode": {
    "name": "ipython",
    "version": 3
   },
   "file_extension": ".py",
   "mimetype": "text/x-python",
   "name": "python",
   "nbconvert_exporter": "python",
   "pygments_lexer": "ipython3",
   "version": "3.9.12"
  },
  "papermill": {
   "default_parameters": {},
   "duration": 56.476309,
   "end_time": "2022-12-10T00:06:51.177828",
   "environment_variables": {},
   "exception": null,
   "input_path": "/home/felipe/repos/insiders_clustering/src/models/c8.0_deploy.ipynb",
   "output_path": "/home/felipe/repos/insiders_clustering/reports/c8.0_deploy_2022-12-09T21:05:54.ipynb",
   "parameters": {},
   "start_time": "2022-12-10T00:05:54.701519",
   "version": "2.4.0"
  }
 },
 "nbformat": 4,
 "nbformat_minor": 5
}