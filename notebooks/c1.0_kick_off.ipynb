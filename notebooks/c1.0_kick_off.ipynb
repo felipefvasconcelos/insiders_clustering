{
 "cells": [
  {
   "cell_type": "markdown",
   "id": "9654caec",
   "metadata": {
    "heading_collapsed": true
   },
   "source": [
    "# 0.0. BUSINESS PROBLEM"
   ]
  },
  {
   "cell_type": "markdown",
   "id": "df13cdca",
   "metadata": {
    "heading_collapsed": true,
    "hidden": true
   },
   "source": [
    "## 0.1. Challenge"
   ]
  },
  {
   "cell_type": "markdown",
   "id": "4b888b4d",
   "metadata": {
    "hidden": true
   },
   "source": [
    "Find who are most valuable customers to be part of \"Insiders\" group program. "
   ]
  },
  {
   "cell_type": "markdown",
   "id": "5bbe2f4d",
   "metadata": {
    "heading_collapsed": true,
    "hidden": true
   },
   "source": [
    "## 0.2. Business Questions"
   ]
  },
  {
   "cell_type": "markdown",
   "id": "bc111ac7",
   "metadata": {
    "hidden": true
   },
   "source": [
    "1. Who are the customers elegible to participate of Insiders group?\n",
    "2. How many customers will be part of the group?\n",
    "3. What are main characteristics of these customers?\n",
    "4. What is the revenue participation percentaga from Insiders group?\n",
    "5. What is the expected revenue for the next few months from Insiders group?\n",
    "6. What conditions a customer must meet to be an Insider?\n",
    "7. What condisions a customer must meet to be excluded from Insiders group?\n",
    "8. How to ensure that Insiders group is better than the rest of the customer base?\n",
    "9. What can Marketing do to increase revenue?"
   ]
  },
  {
   "cell_type": "markdown",
   "id": "ef8e9756",
   "metadata": {},
   "source": [
    "# 1.0. FUNCTIONS & LIBS"
   ]
  },
  {
   "cell_type": "markdown",
   "id": "b5cd36bd",
   "metadata": {
    "ExecuteTime": {
     "end_time": "2022-11-26T14:37:10.773420Z",
     "start_time": "2022-11-26T14:37:10.770093Z"
    },
    "heading_collapsed": true
   },
   "source": [
    "## 1.1. Imports"
   ]
  },
  {
   "cell_type": "code",
   "execution_count": 98,
   "id": "82cfda53",
   "metadata": {
    "ExecuteTime": {
     "end_time": "2022-11-27T14:05:06.887956Z",
     "start_time": "2022-11-27T14:05:06.880964Z"
    },
    "hidden": true
   },
   "outputs": [],
   "source": [
    "import datetime\n",
    "import numpy  as np\n",
    "import pandas as pd"
   ]
  },
  {
   "cell_type": "markdown",
   "id": "469effbe",
   "metadata": {
    "ExecuteTime": {
     "end_time": "2022-11-26T14:37:31.621642Z",
     "start_time": "2022-11-26T14:37:31.609190Z"
    },
    "heading_collapsed": true
   },
   "source": [
    "## 1.2. Helper Functions"
   ]
  },
  {
   "cell_type": "code",
   "execution_count": null,
   "id": "a02b7219",
   "metadata": {
    "hidden": true
   },
   "outputs": [],
   "source": []
  },
  {
   "cell_type": "markdown",
   "id": "baeda693",
   "metadata": {},
   "source": [
    "# 2.0. DATA DESCRIPTION"
   ]
  },
  {
   "cell_type": "markdown",
   "id": "28b7298c",
   "metadata": {
    "ExecuteTime": {
     "end_time": "2022-11-26T15:20:23.702196Z",
     "start_time": "2022-11-26T15:20:23.699200Z"
    },
    "heading_collapsed": true
   },
   "source": [
    "## 2.1. Variables"
   ]
  },
  {
   "cell_type": "markdown",
   "id": "761673c8",
   "metadata": {
    "hidden": true
   },
   "source": [
    "**Invoice Number** - unique identifier of each transaction\n",
    "\n",
    "**Stock Code Product** - item code\n",
    "\n",
    "**Description Product** - item name\n",
    "\n",
    "**Quantity** - quantity of each item from a transaction\n",
    "\n",
    "**Invoice Date** - transaction day\n",
    "\n",
    "**Unit Price** - item price\n",
    "\n",
    "**Customer ID** - unque customer identifier\n",
    "\n",
    "**Country** - country where customer lives"
   ]
  },
  {
   "cell_type": "markdown",
   "id": "a594e9d3",
   "metadata": {
    "heading_collapsed": true
   },
   "source": [
    "## 2.2. Load Data"
   ]
  },
  {
   "cell_type": "code",
   "execution_count": 2,
   "id": "9253fdda",
   "metadata": {
    "ExecuteTime": {
     "end_time": "2022-11-27T12:52:43.693822Z",
     "start_time": "2022-11-27T12:52:43.033823Z"
    },
    "hidden": true
   },
   "outputs": [],
   "source": [
    "df_raw = pd.read_csv('../data/raw/Ecommerce.csv', encoding='iso-8859-1')\n",
    "df_raw = df_raw.drop(columns = 'Unnamed: 8')"
   ]
  },
  {
   "cell_type": "markdown",
   "id": "459f53e8",
   "metadata": {
    "ExecuteTime": {
     "end_time": "2022-11-26T15:36:24.335012Z",
     "start_time": "2022-11-26T15:36:24.325943Z"
    },
    "heading_collapsed": true
   },
   "source": [
    "## 2.3. Rename Columns"
   ]
  },
  {
   "cell_type": "code",
   "execution_count": 3,
   "id": "ff3bff2b",
   "metadata": {
    "ExecuteTime": {
     "end_time": "2022-11-27T12:52:43.700941Z",
     "start_time": "2022-11-27T12:52:43.696653Z"
    },
    "hidden": true
   },
   "outputs": [],
   "source": [
    "cols_new = ['invoice_no', 'stock_code', 'description', 'quantity', 'invoice_date', 'unit_price', 'customer_id', 'country']\n",
    "df_raw.columns = cols_new"
   ]
  },
  {
   "cell_type": "markdown",
   "id": "c0b48132",
   "metadata": {
    "ExecuteTime": {
     "end_time": "2022-11-26T15:36:24.335012Z",
     "start_time": "2022-11-26T15:36:24.325943Z"
    },
    "heading_collapsed": true
   },
   "source": [
    "## 2.4. DF Dimensions"
   ]
  },
  {
   "cell_type": "code",
   "execution_count": 4,
   "id": "95d47098",
   "metadata": {
    "ExecuteTime": {
     "end_time": "2022-11-27T12:52:43.820679Z",
     "start_time": "2022-11-27T12:52:43.706624Z"
    },
    "hidden": true
   },
   "outputs": [
    {
     "name": "stdout",
     "output_type": "stream",
     "text": [
      "Number of rows: 541909\n",
      "Number of columns: 8\n"
     ]
    }
   ],
   "source": [
    "print('Number of rows: {}'.format(df_raw.shape[0]))\n",
    "print('Number of columns: {}'.format(df_raw.shape[1]))"
   ]
  },
  {
   "cell_type": "markdown",
   "id": "3af529c8",
   "metadata": {
    "ExecuteTime": {
     "end_time": "2022-11-26T15:36:24.335012Z",
     "start_time": "2022-11-26T15:36:24.325943Z"
    },
    "heading_collapsed": true
   },
   "source": [
    "## 2.5. Check NA and Duplicates"
   ]
  },
  {
   "cell_type": "code",
   "execution_count": 5,
   "id": "d76db806",
   "metadata": {
    "ExecuteTime": {
     "end_time": "2022-11-27T12:52:44.571221Z",
     "start_time": "2022-11-27T12:52:43.824439Z"
    },
    "hidden": true
   },
   "outputs": [
    {
     "name": "stdout",
     "output_type": "stream",
     "text": [
      "Number of NAs:\n",
      "invoice_no           0\n",
      "stock_code           0\n",
      "description       1454\n",
      "quantity             0\n",
      "invoice_date         0\n",
      "unit_price           0\n",
      "customer_id     135080\n",
      "country              0\n",
      "dtype: int64\n",
      "\n",
      "Number of Duplicated:\n",
      "5269\n"
     ]
    }
   ],
   "source": [
    "# check NA\n",
    "print('Number of NAs:')\n",
    "print(df_raw.isna().sum())\n",
    "\n",
    "# check duplicates\n",
    "print('\\nNumber of Duplicated:')\n",
    "print(df_raw.duplicated().sum())"
   ]
  },
  {
   "cell_type": "code",
   "execution_count": 6,
   "id": "6e318ea7",
   "metadata": {
    "ExecuteTime": {
     "end_time": "2022-11-27T12:52:44.579886Z",
     "start_time": "2022-11-27T12:52:44.574055Z"
    },
    "hidden": true
   },
   "outputs": [],
   "source": [
    "# df_raw[df_raw.duplicated(keep=False)].sort_values(by=['customer_id','invoice_no', 'stock_code']).tail(15)\n",
    "# # after investigating duplicated rows, it was decided to consider them as authentic transactions"
   ]
  },
  {
   "cell_type": "markdown",
   "id": "806580ff",
   "metadata": {
    "hidden": true
   },
   "source": [
    "### 2.5.1. Replace NA"
   ]
  },
  {
   "cell_type": "code",
   "execution_count": 7,
   "id": "48aff948",
   "metadata": {
    "ExecuteTime": {
     "end_time": "2022-11-27T12:52:44.782574Z",
     "start_time": "2022-11-27T12:52:44.582641Z"
    },
    "hidden": true
   },
   "outputs": [
    {
     "name": "stdout",
     "output_type": "stream",
     "text": [
      "Removed data: 24.93%\n"
     ]
    }
   ],
   "source": [
    "# first cycle, remove all NA without further analysis\n",
    "# make a new dataframe\n",
    "df_raw_1 = df_raw.dropna(subset=['description', 'customer_id'])\n",
    "print('Removed data: {:.2f}%'.format((1-(df_raw_1.shape[0]/df_raw.shape[0]))*100))\n",
    "\n",
    "# # check NA\n",
    "# print('Number of NAs:')\n",
    "# print(df_raw_1.isna().sum())"
   ]
  },
  {
   "cell_type": "markdown",
   "id": "a711103c",
   "metadata": {
    "ExecuteTime": {
     "end_time": "2022-11-26T15:36:24.335012Z",
     "start_time": "2022-11-26T15:36:24.325943Z"
    },
    "heading_collapsed": true
   },
   "source": [
    "## 2.6. Check DTypes"
   ]
  },
  {
   "cell_type": "code",
   "execution_count": 8,
   "id": "65138fd3",
   "metadata": {
    "ExecuteTime": {
     "end_time": "2022-11-27T12:52:44.833630Z",
     "start_time": "2022-11-27T12:52:44.788289Z"
    },
    "hidden": true
   },
   "outputs": [
    {
     "data": {
      "text/plain": [
       "invoice_no       object\n",
       "stock_code       object\n",
       "description      object\n",
       "quantity          int64\n",
       "invoice_date     object\n",
       "unit_price      float64\n",
       "customer_id     float64\n",
       "country          object\n",
       "dtype: object"
      ]
     },
     "execution_count": 8,
     "metadata": {},
     "output_type": "execute_result"
    }
   ],
   "source": [
    "df_raw_1.dtypes"
   ]
  },
  {
   "cell_type": "markdown",
   "id": "e22a145b",
   "metadata": {
    "heading_collapsed": true,
    "hidden": true
   },
   "source": [
    "### 2.6.1 Change DTypes"
   ]
  },
  {
   "cell_type": "code",
   "execution_count": 11,
   "id": "23aa6d65",
   "metadata": {
    "ExecuteTime": {
     "end_time": "2022-11-27T12:56:34.427018Z",
     "start_time": "2022-11-27T12:56:34.349210Z"
    },
    "hidden": true
   },
   "outputs": [],
   "source": [
    "df_raw_1 = df_raw_1.astype({'customer_id': 'int64'})\n",
    "df_raw_1['invoice_date'] = pd.to_datetime(df_raw_1['invoice_date'], format='%d-%b-%y')"
   ]
  },
  {
   "cell_type": "code",
   "execution_count": 17,
   "id": "d01a3725",
   "metadata": {
    "ExecuteTime": {
     "end_time": "2022-11-27T13:00:39.151266Z",
     "start_time": "2022-11-27T13:00:39.137226Z"
    },
    "hidden": true
   },
   "outputs": [
    {
     "data": {
      "text/plain": [
       "invoice_no              object\n",
       "stock_code              object\n",
       "description             object\n",
       "quantity                 int64\n",
       "invoice_date    datetime64[ns]\n",
       "unit_price             float64\n",
       "customer_id              int64\n",
       "country                 object\n",
       "dtype: object"
      ]
     },
     "execution_count": 17,
     "metadata": {},
     "output_type": "execute_result"
    }
   ],
   "source": [
    "df_raw_1.dtypes"
   ]
  },
  {
   "cell_type": "markdown",
   "id": "85cdf19f",
   "metadata": {
    "heading_collapsed": true
   },
   "source": [
    "## 2.7. Descriptive Analysis"
   ]
  },
  {
   "cell_type": "markdown",
   "id": "245b1ff6",
   "metadata": {},
   "source": [
    "# 3.0. FEATURE ENGINEERING"
   ]
  },
  {
   "cell_type": "code",
   "execution_count": 120,
   "id": "99d16673",
   "metadata": {
    "ExecuteTime": {
     "end_time": "2022-11-27T14:20:34.144154Z",
     "start_time": "2022-11-27T14:20:34.058756Z"
    }
   },
   "outputs": [],
   "source": [
    "df_raw_3 = df_raw_1.copy()"
   ]
  },
  {
   "cell_type": "markdown",
   "id": "c58a84d9",
   "metadata": {
    "ExecuteTime": {
     "end_time": "2022-11-27T13:07:34.086030Z",
     "start_time": "2022-11-27T13:07:34.083374Z"
    }
   },
   "source": [
    "## 3.1. Features Creation"
   ]
  },
  {
   "cell_type": "code",
   "execution_count": 121,
   "id": "7f10b0c0",
   "metadata": {
    "ExecuteTime": {
     "end_time": "2022-11-27T14:20:35.136162Z",
     "start_time": "2022-11-27T14:20:35.124111Z"
    }
   },
   "outputs": [],
   "source": [
    "# separate unique customers\n",
    "df_ref = df_raw_3.drop(['invoice_no', 'stock_code', 'description', 'quantity', 'invoice_date',\n",
    "       'unit_price', 'country'], axis=1).drop_duplicates(ignore_index=True)"
   ]
  },
  {
   "cell_type": "markdown",
   "id": "8244fe9d",
   "metadata": {
    "heading_collapsed": true
   },
   "source": [
    "### 3.1.1. Gross Revenue - total money spent by customer"
   ]
  },
  {
   "cell_type": "code",
   "execution_count": 122,
   "id": "c6aa99ac",
   "metadata": {
    "ExecuteTime": {
     "end_time": "2022-11-27T14:20:37.557357Z",
     "start_time": "2022-11-27T14:20:37.507777Z"
    },
    "hidden": true
   },
   "outputs": [],
   "source": [
    "df_raw_3['gross_revenue'] = df_raw_3['quantity']*df_raw_3['unit_price']\n",
    "df_gross_revenue = df_raw_3[['customer_id', 'gross_revenue']].groupby('customer_id').sum().reset_index()\n",
    "df_ref = pd.merge(df_ref, df_gross_revenue, on='customer_id', how='left')"
   ]
  },
  {
   "cell_type": "markdown",
   "id": "454d1227",
   "metadata": {
    "heading_collapsed": true
   },
   "source": [
    "### 3.1.2. Recency - number of days since last purchase"
   ]
  },
  {
   "cell_type": "code",
   "execution_count": 123,
   "id": "bffb0241",
   "metadata": {
    "ExecuteTime": {
     "end_time": "2022-11-27T14:20:42.033785Z",
     "start_time": "2022-11-27T14:20:41.958587Z"
    },
    "hidden": true
   },
   "outputs": [],
   "source": [
    "# recency - last day of purchase\n",
    "df_raw_3['recency'] = (df_raw_3['invoice_date'].max()-df_raw_3['invoice_date']).dt.days+1\n",
    "df_recency = df_raw_3[['customer_id', 'recency']].groupby('customer_id').min().reset_index()\n",
    "df_ref = pd.merge(df_ref, df_recency, on='customer_id', how='left')"
   ]
  },
  {
   "cell_type": "markdown",
   "id": "1788cbea",
   "metadata": {
    "heading_collapsed": true
   },
   "source": [
    "### 3.1.3. Frequency - number of purchases in last 365 days"
   ]
  },
  {
   "cell_type": "code",
   "execution_count": 124,
   "id": "879f0af1",
   "metadata": {
    "ExecuteTime": {
     "end_time": "2022-11-27T14:20:43.432179Z",
     "start_time": "2022-11-27T14:20:43.276277Z"
    },
    "hidden": true
   },
   "outputs": [],
   "source": [
    "# frequency - number of purchases in last 365 days\n",
    "dd = datetime.timedelta(days=365)\n",
    "df_frequency = df_raw_3[df_raw_3['invoice_date']>=(df_raw_3['invoice_date'].max() - dd)][['invoice_no', 'customer_id']].groupby('customer_id').count().reset_index().rename(columns={'invoice_no':'frequency'})\n",
    "df_ref = pd.merge(df_ref, df_frequency, on='customer_id', how='left')"
   ]
  },
  {
   "cell_type": "markdown",
   "id": "6b068725",
   "metadata": {
    "ExecuteTime": {
     "end_time": "2022-11-27T14:20:44.464040Z",
     "start_time": "2022-11-27T14:20:44.452536Z"
    },
    "heading_collapsed": true
   },
   "source": [
    "## 3.2. Check NA and DTypes after Feature Creation"
   ]
  },
  {
   "cell_type": "code",
   "execution_count": 137,
   "id": "caf1f356",
   "metadata": {
    "ExecuteTime": {
     "end_time": "2022-11-27T14:37:04.768011Z",
     "start_time": "2022-11-27T14:37:04.754759Z"
    },
    "hidden": true
   },
   "outputs": [
    {
     "data": {
      "text/plain": [
       "customer_id      0\n",
       "gross_revenue    0\n",
       "recency          0\n",
       "frequency        0\n",
       "dtype: int64"
      ]
     },
     "execution_count": 137,
     "metadata": {},
     "output_type": "execute_result"
    }
   ],
   "source": [
    "# NANs\n",
    "df_ref.isna().sum()"
   ]
  },
  {
   "cell_type": "code",
   "execution_count": 141,
   "id": "2f33e935",
   "metadata": {
    "ExecuteTime": {
     "end_time": "2022-11-27T14:39:07.090093Z",
     "start_time": "2022-11-27T14:39:07.078898Z"
    },
    "hidden": true
   },
   "outputs": [
    {
     "data": {
      "text/plain": [
       "customer_id        int64\n",
       "gross_revenue    float64\n",
       "recency            int64\n",
       "frequency          int64\n",
       "dtype: object"
      ]
     },
     "execution_count": 141,
     "metadata": {},
     "output_type": "execute_result"
    }
   ],
   "source": [
    "# DTypes\n",
    "df_ref.dtypes"
   ]
  },
  {
   "cell_type": "markdown",
   "id": "7f4b851e",
   "metadata": {
    "heading_collapsed": true,
    "hidden": true
   },
   "source": [
    "### 3.2.1. Replace NA in df_ref"
   ]
  },
  {
   "cell_type": "code",
   "execution_count": 136,
   "id": "ce8dd618",
   "metadata": {
    "ExecuteTime": {
     "end_time": "2022-11-27T14:37:02.196266Z",
     "start_time": "2022-11-27T14:37:02.190163Z"
    },
    "hidden": true
   },
   "outputs": [],
   "source": [
    "# nan values were assigned to customes with 0 purchases in the last 365 days\n",
    "df_ref['frequency'] = df_ref['frequency'].fillna(0)"
   ]
  },
  {
   "cell_type": "markdown",
   "id": "ac5c43b6",
   "metadata": {
    "heading_collapsed": true,
    "hidden": true
   },
   "source": [
    "### 3.2.2. Change DTypes of df_ref"
   ]
  },
  {
   "cell_type": "code",
   "execution_count": 140,
   "id": "eaa7271b",
   "metadata": {
    "ExecuteTime": {
     "end_time": "2022-11-27T14:39:03.023134Z",
     "start_time": "2022-11-27T14:39:03.005295Z"
    },
    "hidden": true
   },
   "outputs": [],
   "source": [
    "df_ref = df_ref.astype({'frequency': 'int64'})"
   ]
  },
  {
   "cell_type": "markdown",
   "id": "69ebec19",
   "metadata": {},
   "source": [
    "# 4.0. DATA FILTERING"
   ]
  },
  {
   "cell_type": "markdown",
   "id": "6c77ad8a",
   "metadata": {},
   "source": [
    "# 5.0. EDA (EXPLORATORY DATA ANALYSIS)"
   ]
  },
  {
   "cell_type": "markdown",
   "id": "e7d28bb8",
   "metadata": {},
   "source": [
    "# 6.0. DATA PREPARATION"
   ]
  },
  {
   "cell_type": "markdown",
   "id": "4263e249",
   "metadata": {},
   "source": [
    "# 7.0. HYPER-PARAMETER FINE TUNING"
   ]
  }
 ],
 "metadata": {
  "kernelspec": {
   "display_name": "insiders_env",
   "language": "python",
   "name": "insiders_env"
  },
  "language_info": {
   "codemirror_mode": {
    "name": "ipython",
    "version": 3
   },
   "file_extension": ".py",
   "mimetype": "text/x-python",
   "name": "python",
   "nbconvert_exporter": "python",
   "pygments_lexer": "ipython3",
   "version": "3.9.12"
  }
 },
 "nbformat": 4,
 "nbformat_minor": 5
}
