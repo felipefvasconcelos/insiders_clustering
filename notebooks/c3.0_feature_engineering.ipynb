{
 "cells": [
  {
   "cell_type": "markdown",
   "id": "9654caec",
   "metadata": {
    "heading_collapsed": true
   },
   "source": [
    "# 0.0. BUSINESS PROBLEM"
   ]
  },
  {
   "cell_type": "markdown",
   "id": "df13cdca",
   "metadata": {
    "heading_collapsed": true,
    "hidden": true
   },
   "source": [
    "## 0.1. Challenge"
   ]
  },
  {
   "cell_type": "markdown",
   "id": "4b888b4d",
   "metadata": {
    "hidden": true
   },
   "source": [
    "Find who are most valuable customers to be part of \"Insiders\" group program. "
   ]
  },
  {
   "cell_type": "markdown",
   "id": "5bbe2f4d",
   "metadata": {
    "heading_collapsed": true,
    "hidden": true
   },
   "source": [
    "## 0.2. Business Questions"
   ]
  },
  {
   "cell_type": "markdown",
   "id": "bc111ac7",
   "metadata": {
    "hidden": true
   },
   "source": [
    "1. Who are the customers elegible to participate of Insiders group?\n",
    "2. How many customers will be part of the group?\n",
    "3. What are main characteristics of these customers?\n",
    "4. What is the revenue participation percentaga from Insiders group?\n",
    "5. What is the expected revenue for the next few months from Insiders group?\n",
    "6. What conditions a customer must meet to be an Insider?\n",
    "7. What condisions a customer must meet to be excluded from Insiders group?\n",
    "8. How to ensure that Insiders group is better than the rest of the customer base?\n",
    "9. What can Marketing do to increase revenue?"
   ]
  },
  {
   "cell_type": "markdown",
   "id": "ef8e9756",
   "metadata": {},
   "source": [
    "# 1.0. FUNCTIONS & LIBS"
   ]
  },
  {
   "cell_type": "markdown",
   "id": "b5cd36bd",
   "metadata": {
    "ExecuteTime": {
     "end_time": "2022-11-26T14:37:10.773420Z",
     "start_time": "2022-11-26T14:37:10.770093Z"
    }
   },
   "source": [
    "## 1.1. Imports"
   ]
  },
  {
   "cell_type": "code",
   "execution_count": 1,
   "id": "82cfda53",
   "metadata": {
    "ExecuteTime": {
     "end_time": "2022-11-29T14:37:53.126401Z",
     "start_time": "2022-11-29T14:37:27.914343Z"
    }
   },
   "outputs": [],
   "source": [
    "import re\n",
    "import datetime\n",
    "\n",
    "import numpy  as np\n",
    "import pandas as pd\n",
    "\n",
    "from pandas_profiling    import ProfileReport\n",
    "from yellowbrick.cluster import KElbowVisualizer\n",
    "\n",
    "from plotly  import express as px\n",
    "from sklearn import cluster as C\n",
    "from sklearn import metrics as M"
   ]
  },
  {
   "cell_type": "markdown",
   "id": "469effbe",
   "metadata": {
    "ExecuteTime": {
     "end_time": "2022-11-26T14:37:31.621642Z",
     "start_time": "2022-11-26T14:37:31.609190Z"
    }
   },
   "source": [
    "## 1.2. Helper Functions"
   ]
  },
  {
   "cell_type": "code",
   "execution_count": 59,
   "id": "a02b7219",
   "metadata": {
    "ExecuteTime": {
     "end_time": "2022-11-29T14:51:13.047801Z",
     "start_time": "2022-11-29T14:51:13.040175Z"
    }
   },
   "outputs": [],
   "source": [
    "pd.options.mode.chained_assignment = None"
   ]
  },
  {
   "cell_type": "markdown",
   "id": "baeda693",
   "metadata": {
    "heading_collapsed": true
   },
   "source": [
    "# 2.0. DATA DESCRIPTION"
   ]
  },
  {
   "cell_type": "markdown",
   "id": "28b7298c",
   "metadata": {
    "ExecuteTime": {
     "end_time": "2022-11-26T15:20:23.702196Z",
     "start_time": "2022-11-26T15:20:23.699200Z"
    },
    "heading_collapsed": true,
    "hidden": true
   },
   "source": [
    "## 2.1. Variables"
   ]
  },
  {
   "cell_type": "markdown",
   "id": "761673c8",
   "metadata": {
    "hidden": true
   },
   "source": [
    "**Invoice Number** - unique identifier of each transaction\n",
    "\n",
    "**Stock Code Product** - item code\n",
    "\n",
    "**Description Product** - item name\n",
    "\n",
    "**Quantity** - quantity of each item from a transaction\n",
    "\n",
    "**Invoice Date** - transaction day\n",
    "\n",
    "**Unit Price** - item price\n",
    "\n",
    "**Customer ID** - unque customer identifier\n",
    "\n",
    "**Country** - country where customer lives"
   ]
  },
  {
   "cell_type": "markdown",
   "id": "a594e9d3",
   "metadata": {
    "heading_collapsed": true,
    "hidden": true
   },
   "source": [
    "## 2.2. Load Data"
   ]
  },
  {
   "cell_type": "code",
   "execution_count": 2,
   "id": "9253fdda",
   "metadata": {
    "ExecuteTime": {
     "end_time": "2022-11-29T14:37:54.442392Z",
     "start_time": "2022-11-29T14:37:53.136557Z"
    },
    "hidden": true
   },
   "outputs": [],
   "source": [
    "df_raw = pd.read_csv('../data/raw/Ecommerce.csv', encoding='iso-8859-1')\n",
    "df_raw = df_raw.drop(columns = 'Unnamed: 8')"
   ]
  },
  {
   "cell_type": "markdown",
   "id": "459f53e8",
   "metadata": {
    "ExecuteTime": {
     "end_time": "2022-11-26T15:36:24.335012Z",
     "start_time": "2022-11-26T15:36:24.325943Z"
    },
    "heading_collapsed": true,
    "hidden": true
   },
   "source": [
    "## 2.3. Rename Columns"
   ]
  },
  {
   "cell_type": "code",
   "execution_count": 3,
   "id": "ff3bff2b",
   "metadata": {
    "ExecuteTime": {
     "end_time": "2022-11-29T14:37:54.448886Z",
     "start_time": "2022-11-29T14:37:54.444716Z"
    },
    "hidden": true
   },
   "outputs": [],
   "source": [
    "cols_new = ['invoice_no', 'stock_code', 'description', 'quantity', 'invoice_date', 'unit_price', 'customer_id', 'country']\n",
    "df_raw.columns = cols_new"
   ]
  },
  {
   "cell_type": "markdown",
   "id": "c0b48132",
   "metadata": {
    "ExecuteTime": {
     "end_time": "2022-11-26T15:36:24.335012Z",
     "start_time": "2022-11-26T15:36:24.325943Z"
    },
    "heading_collapsed": true,
    "hidden": true
   },
   "source": [
    "## 2.4. DF Dimensions"
   ]
  },
  {
   "cell_type": "code",
   "execution_count": 4,
   "id": "95d47098",
   "metadata": {
    "ExecuteTime": {
     "end_time": "2022-11-29T14:37:54.574150Z",
     "start_time": "2022-11-29T14:37:54.452861Z"
    },
    "hidden": true
   },
   "outputs": [
    {
     "name": "stdout",
     "output_type": "stream",
     "text": [
      "Number of rows: 541909\n",
      "Number of columns: 8\n"
     ]
    }
   ],
   "source": [
    "print('Number of rows: {}'.format(df_raw.shape[0]))\n",
    "print('Number of columns: {}'.format(df_raw.shape[1]))"
   ]
  },
  {
   "cell_type": "markdown",
   "id": "3af529c8",
   "metadata": {
    "ExecuteTime": {
     "end_time": "2022-11-26T15:36:24.335012Z",
     "start_time": "2022-11-26T15:36:24.325943Z"
    },
    "heading_collapsed": true,
    "hidden": true
   },
   "source": [
    "## 2.5. Check NA and Duplicates"
   ]
  },
  {
   "cell_type": "code",
   "execution_count": 5,
   "id": "d76db806",
   "metadata": {
    "ExecuteTime": {
     "end_time": "2022-11-29T14:37:55.487658Z",
     "start_time": "2022-11-29T14:37:54.579734Z"
    },
    "hidden": true
   },
   "outputs": [
    {
     "name": "stdout",
     "output_type": "stream",
     "text": [
      "Number of NAs:\n",
      "invoice_no           0\n",
      "stock_code           0\n",
      "description       1454\n",
      "quantity             0\n",
      "invoice_date         0\n",
      "unit_price           0\n",
      "customer_id     135080\n",
      "country              0\n",
      "dtype: int64\n",
      "\n",
      "Number of Duplicated:\n",
      "5269\n"
     ]
    }
   ],
   "source": [
    "# check NA\n",
    "print('Number of NAs:')\n",
    "print(df_raw.isna().sum())\n",
    "\n",
    "# check duplicates\n",
    "print('\\nNumber of Duplicated:')\n",
    "print(df_raw.duplicated().sum())"
   ]
  },
  {
   "cell_type": "code",
   "execution_count": 6,
   "id": "6e318ea7",
   "metadata": {
    "ExecuteTime": {
     "end_time": "2022-11-29T14:37:55.495375Z",
     "start_time": "2022-11-29T14:37:55.490986Z"
    },
    "hidden": true
   },
   "outputs": [],
   "source": [
    "# df_raw[df_raw.duplicated(keep=False)].sort_values(by=['customer_id','invoice_no', 'stock_code']).tail(15)\n",
    "# # after investigating duplicated rows, it was decided to consider them as authentic transactions"
   ]
  },
  {
   "cell_type": "markdown",
   "id": "806580ff",
   "metadata": {
    "hidden": true
   },
   "source": [
    "### 2.5.1. Replace NA"
   ]
  },
  {
   "cell_type": "code",
   "execution_count": 7,
   "id": "48aff948",
   "metadata": {
    "ExecuteTime": {
     "end_time": "2022-11-29T14:37:55.830690Z",
     "start_time": "2022-11-29T14:37:55.499635Z"
    },
    "hidden": true
   },
   "outputs": [
    {
     "name": "stdout",
     "output_type": "stream",
     "text": [
      "Removed data: 24.93%\n"
     ]
    }
   ],
   "source": [
    "# first cycle, remove all NA without further analysis\n",
    "# make a new dataframe\n",
    "df_raw_1 = df_raw.dropna(subset=['description', 'customer_id'])\n",
    "print('Removed data: {:.2f}%'.format((1-(df_raw_1.shape[0]/df_raw.shape[0]))*100))\n",
    "\n",
    "# # check NA\n",
    "# print('Number of NAs:')\n",
    "# print(df_raw_1.isna().sum())"
   ]
  },
  {
   "cell_type": "markdown",
   "id": "a711103c",
   "metadata": {
    "ExecuteTime": {
     "end_time": "2022-11-26T15:36:24.335012Z",
     "start_time": "2022-11-26T15:36:24.325943Z"
    },
    "heading_collapsed": true,
    "hidden": true
   },
   "source": [
    "## 2.6. Check DTypes"
   ]
  },
  {
   "cell_type": "code",
   "execution_count": 8,
   "id": "65138fd3",
   "metadata": {
    "ExecuteTime": {
     "end_time": "2022-11-29T14:37:55.851158Z",
     "start_time": "2022-11-29T14:37:55.833895Z"
    },
    "hidden": true
   },
   "outputs": [
    {
     "data": {
      "text/plain": [
       "invoice_no       object\n",
       "stock_code       object\n",
       "description      object\n",
       "quantity          int64\n",
       "invoice_date     object\n",
       "unit_price      float64\n",
       "customer_id     float64\n",
       "country          object\n",
       "dtype: object"
      ]
     },
     "execution_count": 8,
     "metadata": {},
     "output_type": "execute_result"
    }
   ],
   "source": [
    "df_raw_1.dtypes"
   ]
  },
  {
   "cell_type": "markdown",
   "id": "e22a145b",
   "metadata": {
    "hidden": true
   },
   "source": [
    "### 2.6.1 Change DTypes"
   ]
  },
  {
   "cell_type": "code",
   "execution_count": 9,
   "id": "23aa6d65",
   "metadata": {
    "ExecuteTime": {
     "end_time": "2022-11-29T14:37:56.049646Z",
     "start_time": "2022-11-29T14:37:55.853653Z"
    },
    "hidden": true
   },
   "outputs": [],
   "source": [
    "df_raw_1 = df_raw_1.astype({'customer_id': 'int64'})\n",
    "df_raw_1['invoice_date'] = pd.to_datetime(df_raw_1['invoice_date'], format='%d-%b-%y')"
   ]
  },
  {
   "cell_type": "code",
   "execution_count": 10,
   "id": "d01a3725",
   "metadata": {
    "ExecuteTime": {
     "end_time": "2022-11-29T14:37:56.083592Z",
     "start_time": "2022-11-29T14:37:56.056454Z"
    },
    "hidden": true
   },
   "outputs": [
    {
     "data": {
      "text/plain": [
       "invoice_no              object\n",
       "stock_code              object\n",
       "description             object\n",
       "quantity                 int64\n",
       "invoice_date    datetime64[ns]\n",
       "unit_price             float64\n",
       "customer_id              int64\n",
       "country                 object\n",
       "dtype: object"
      ]
     },
     "execution_count": 10,
     "metadata": {},
     "output_type": "execute_result"
    }
   ],
   "source": [
    "df_raw_1.dtypes"
   ]
  },
  {
   "cell_type": "markdown",
   "id": "85cdf19f",
   "metadata": {
    "heading_collapsed": true,
    "hidden": true
   },
   "source": [
    "## 2.7. Descriptive Analysis"
   ]
  },
  {
   "cell_type": "code",
   "execution_count": 11,
   "id": "c4e8a8fc",
   "metadata": {
    "ExecuteTime": {
     "end_time": "2022-11-29T14:37:56.277961Z",
     "start_time": "2022-11-29T14:37:56.086360Z"
    },
    "hidden": true
   },
   "outputs": [],
   "source": [
    "num_attributes = df_raw_1.select_dtypes(include=['int64', 'float64'])\n",
    "cat_attributes = df_raw_1.select_dtypes(exclude=['int64', 'float64', 'datetime64[ns]'])"
   ]
  },
  {
   "cell_type": "markdown",
   "id": "8f6e7a38",
   "metadata": {
    "hidden": true
   },
   "source": [
    "### 2.7.1. Numerical Attributes"
   ]
  },
  {
   "cell_type": "code",
   "execution_count": 12,
   "id": "ffb87f2f",
   "metadata": {
    "ExecuteTime": {
     "end_time": "2022-11-29T14:37:56.402069Z",
     "start_time": "2022-11-29T14:37:56.281451Z"
    },
    "hidden": true
   },
   "outputs": [],
   "source": [
    "# central tendency - mean, median\n",
    "ct1 = pd.DataFrame(num_attributes.apply(np.mean)).T\n",
    "ct2 = pd.DataFrame(num_attributes.apply(np.median)).T\n",
    "\n",
    "# dispersion - std deviation, min, max, range, skew, kurtosis\n",
    "d1 = pd.DataFrame(num_attributes.apply(np.std)).T\n",
    "d2 = pd.DataFrame(num_attributes.apply(np.min)).T\n",
    "d3 = pd.DataFrame(num_attributes.apply(np.max)).T\n",
    "d4 = pd.DataFrame(num_attributes.apply(lambda x: x.max() - x.min())).T\n",
    "d5 = pd.DataFrame(num_attributes.apply(lambda x: x.skew())).T\n",
    "d6 = pd.DataFrame(num_attributes.apply(lambda x: x.kurtosis())).T\n",
    "\n",
    "# concatenate results\n",
    "df_num_att = pd.concat([d2, d3, d4, ct1, ct2, d1, d5, d6]).T. reset_index()\n",
    "df_num_att.columns = ['attributes', 'min', 'max', 'range', 'mean', 'median', 'std', 'skew', 'kurtosis']"
   ]
  },
  {
   "cell_type": "code",
   "execution_count": 13,
   "id": "75e87d1d",
   "metadata": {
    "ExecuteTime": {
     "end_time": "2022-11-29T14:37:56.510503Z",
     "start_time": "2022-11-29T14:37:56.404874Z"
    },
    "hidden": true
   },
   "outputs": [
    {
     "data": {
      "text/html": [
       "<div>\n",
       "<style scoped>\n",
       "    .dataframe tbody tr th:only-of-type {\n",
       "        vertical-align: middle;\n",
       "    }\n",
       "\n",
       "    .dataframe tbody tr th {\n",
       "        vertical-align: top;\n",
       "    }\n",
       "\n",
       "    .dataframe thead th {\n",
       "        text-align: right;\n",
       "    }\n",
       "</style>\n",
       "<table border=\"1\" class=\"dataframe\">\n",
       "  <thead>\n",
       "    <tr style=\"text-align: right;\">\n",
       "      <th></th>\n",
       "      <th>attributes</th>\n",
       "      <th>min</th>\n",
       "      <th>max</th>\n",
       "      <th>range</th>\n",
       "      <th>mean</th>\n",
       "      <th>median</th>\n",
       "      <th>std</th>\n",
       "      <th>skew</th>\n",
       "      <th>kurtosis</th>\n",
       "    </tr>\n",
       "  </thead>\n",
       "  <tbody>\n",
       "    <tr>\n",
       "      <th>0</th>\n",
       "      <td>quantity</td>\n",
       "      <td>-80995.0</td>\n",
       "      <td>80995.0</td>\n",
       "      <td>161990.0</td>\n",
       "      <td>12.061303</td>\n",
       "      <td>5.00</td>\n",
       "      <td>248.693064</td>\n",
       "      <td>0.182663</td>\n",
       "      <td>94317.563673</td>\n",
       "    </tr>\n",
       "    <tr>\n",
       "      <th>1</th>\n",
       "      <td>unit_price</td>\n",
       "      <td>0.0</td>\n",
       "      <td>38970.0</td>\n",
       "      <td>38970.0</td>\n",
       "      <td>3.460471</td>\n",
       "      <td>1.95</td>\n",
       "      <td>69.315077</td>\n",
       "      <td>452.219019</td>\n",
       "      <td>246924.542988</td>\n",
       "    </tr>\n",
       "    <tr>\n",
       "      <th>2</th>\n",
       "      <td>customer_id</td>\n",
       "      <td>12346.0</td>\n",
       "      <td>18287.0</td>\n",
       "      <td>5941.0</td>\n",
       "      <td>15287.690570</td>\n",
       "      <td>15152.00</td>\n",
       "      <td>1713.598197</td>\n",
       "      <td>0.029835</td>\n",
       "      <td>-1.179982</td>\n",
       "    </tr>\n",
       "  </tbody>\n",
       "</table>\n",
       "</div>"
      ],
      "text/plain": [
       "    attributes      min      max     range          mean    median  \\\n",
       "0     quantity -80995.0  80995.0  161990.0     12.061303      5.00   \n",
       "1   unit_price      0.0  38970.0   38970.0      3.460471      1.95   \n",
       "2  customer_id  12346.0  18287.0    5941.0  15287.690570  15152.00   \n",
       "\n",
       "           std        skew       kurtosis  \n",
       "0   248.693064    0.182663   94317.563673  \n",
       "1    69.315077  452.219019  246924.542988  \n",
       "2  1713.598197    0.029835      -1.179982  "
      ]
     },
     "execution_count": 13,
     "metadata": {},
     "output_type": "execute_result"
    }
   ],
   "source": [
    "df_num_att"
   ]
  },
  {
   "cell_type": "code",
   "execution_count": 14,
   "id": "6022fc19",
   "metadata": {
    "ExecuteTime": {
     "end_time": "2022-11-29T14:37:56.604368Z",
     "start_time": "2022-11-29T14:37:56.513850Z"
    },
    "hidden": true
   },
   "outputs": [],
   "source": [
    "# need further investigations: unit_price = 0, and quantity < 0"
   ]
  },
  {
   "cell_type": "markdown",
   "id": "2fa72b68",
   "metadata": {
    "hidden": true
   },
   "source": [
    "### 2.7.2. Pandas Profiling"
   ]
  },
  {
   "cell_type": "code",
   "execution_count": 15,
   "id": "5c72a934",
   "metadata": {
    "ExecuteTime": {
     "end_time": "2022-11-29T14:37:56.693449Z",
     "start_time": "2022-11-29T14:37:56.611442Z"
    },
    "hidden": true
   },
   "outputs": [],
   "source": [
    "# pd_profile = ProfileReport(df_raw_1)\n",
    "# pd_profile.to_file('output_df_raw_1.html')"
   ]
  },
  {
   "cell_type": "markdown",
   "id": "6853e542",
   "metadata": {
    "heading_collapsed": true
   },
   "source": [
    "# 3.0. DATA FILTERING"
   ]
  },
  {
   "cell_type": "code",
   "execution_count": 16,
   "id": "c8d58aeb",
   "metadata": {
    "ExecuteTime": {
     "end_time": "2022-11-29T14:37:56.880989Z",
     "start_time": "2022-11-29T14:37:56.700643Z"
    },
    "hidden": true
   },
   "outputs": [],
   "source": [
    "df_raw_3 = df_raw_1.copy()"
   ]
  },
  {
   "cell_type": "markdown",
   "id": "27ef96af",
   "metadata": {
    "ExecuteTime": {
     "end_time": "2022-11-28T19:33:08.046231Z",
     "start_time": "2022-11-28T19:33:08.035935Z"
    },
    "heading_collapsed": true,
    "hidden": true
   },
   "source": [
    "## 3.1. Data Filtering Analysis"
   ]
  },
  {
   "cell_type": "markdown",
   "id": "0b8645eb",
   "metadata": {
    "ExecuteTime": {
     "end_time": "2022-11-28T18:47:25.203809Z",
     "start_time": "2022-11-28T18:47:25.199899Z"
    },
    "heading_collapsed": true,
    "hidden": true
   },
   "source": [
    "### 3.1.1. unit_price\n",
    "filter prices lower than 0.01"
   ]
  },
  {
   "cell_type": "code",
   "execution_count": 17,
   "id": "0d3b0dc2",
   "metadata": {
    "ExecuteTime": {
     "end_time": "2022-11-29T14:37:56.921843Z",
     "start_time": "2022-11-29T14:37:56.884962Z"
    },
    "hidden": true
   },
   "outputs": [
    {
     "data": {
      "text/html": [
       "<div>\n",
       "<style scoped>\n",
       "    .dataframe tbody tr th:only-of-type {\n",
       "        vertical-align: middle;\n",
       "    }\n",
       "\n",
       "    .dataframe tbody tr th {\n",
       "        vertical-align: top;\n",
       "    }\n",
       "\n",
       "    .dataframe thead th {\n",
       "        text-align: right;\n",
       "    }\n",
       "</style>\n",
       "<table border=\"1\" class=\"dataframe\">\n",
       "  <thead>\n",
       "    <tr style=\"text-align: right;\">\n",
       "      <th></th>\n",
       "      <th>invoice_no</th>\n",
       "      <th>stock_code</th>\n",
       "      <th>description</th>\n",
       "      <th>quantity</th>\n",
       "      <th>invoice_date</th>\n",
       "      <th>unit_price</th>\n",
       "      <th>customer_id</th>\n",
       "      <th>country</th>\n",
       "    </tr>\n",
       "  </thead>\n",
       "  <tbody>\n",
       "    <tr>\n",
       "      <th>56674</th>\n",
       "      <td>541109</td>\n",
       "      <td>22168</td>\n",
       "      <td>ORGANISER WOOD ANTIQUE WHITE</td>\n",
       "      <td>1</td>\n",
       "      <td>2017-01-11</td>\n",
       "      <td>0.0</td>\n",
       "      <td>15107</td>\n",
       "      <td>United Kingdom</td>\n",
       "    </tr>\n",
       "    <tr>\n",
       "      <th>47070</th>\n",
       "      <td>540372</td>\n",
       "      <td>22553</td>\n",
       "      <td>PLASTERS IN TIN SKULLS</td>\n",
       "      <td>24</td>\n",
       "      <td>2017-01-04</td>\n",
       "      <td>0.0</td>\n",
       "      <td>13081</td>\n",
       "      <td>United Kingdom</td>\n",
       "    </tr>\n",
       "    <tr>\n",
       "      <th>361825</th>\n",
       "      <td>568384</td>\n",
       "      <td>M</td>\n",
       "      <td>Manual</td>\n",
       "      <td>1</td>\n",
       "      <td>2017-09-25</td>\n",
       "      <td>0.0</td>\n",
       "      <td>12748</td>\n",
       "      <td>United Kingdom</td>\n",
       "    </tr>\n",
       "    <tr>\n",
       "      <th>198383</th>\n",
       "      <td>554037</td>\n",
       "      <td>22619</td>\n",
       "      <td>SET OF 6 SOLDIER SKITTLES</td>\n",
       "      <td>80</td>\n",
       "      <td>2017-05-18</td>\n",
       "      <td>0.0</td>\n",
       "      <td>12415</td>\n",
       "      <td>Australia</td>\n",
       "    </tr>\n",
       "    <tr>\n",
       "      <th>479079</th>\n",
       "      <td>577129</td>\n",
       "      <td>22464</td>\n",
       "      <td>HANGING METAL HEART LANTERN</td>\n",
       "      <td>4</td>\n",
       "      <td>2017-11-15</td>\n",
       "      <td>0.0</td>\n",
       "      <td>15602</td>\n",
       "      <td>United Kingdom</td>\n",
       "    </tr>\n",
       "  </tbody>\n",
       "</table>\n",
       "</div>"
      ],
      "text/plain": [
       "       invoice_no stock_code                    description  quantity  \\\n",
       "56674      541109      22168  ORGANISER WOOD ANTIQUE WHITE          1   \n",
       "47070      540372      22553         PLASTERS IN TIN SKULLS        24   \n",
       "361825     568384          M                         Manual         1   \n",
       "198383     554037      22619      SET OF 6 SOLDIER SKITTLES        80   \n",
       "479079     577129      22464    HANGING METAL HEART LANTERN         4   \n",
       "\n",
       "       invoice_date  unit_price  customer_id         country  \n",
       "56674    2017-01-11         0.0        15107  United Kingdom  \n",
       "47070    2017-01-04         0.0        13081  United Kingdom  \n",
       "361825   2017-09-25         0.0        12748  United Kingdom  \n",
       "198383   2017-05-18         0.0        12415       Australia  \n",
       "479079   2017-11-15         0.0        15602  United Kingdom  "
      ]
     },
     "execution_count": 17,
     "metadata": {},
     "output_type": "execute_result"
    }
   ],
   "source": [
    "# investigating prices = 0\n",
    "df_raw_3[df_raw_3['unit_price']==0].sample(5)"
   ]
  },
  {
   "cell_type": "code",
   "execution_count": 18,
   "id": "84d85d25",
   "metadata": {
    "ExecuteTime": {
     "end_time": "2022-11-29T14:37:57.095874Z",
     "start_time": "2022-11-29T14:37:56.925150Z"
    },
    "hidden": true
   },
   "outputs": [
    {
     "data": {
      "text/html": [
       "<div>\n",
       "<style scoped>\n",
       "    .dataframe tbody tr th:only-of-type {\n",
       "        vertical-align: middle;\n",
       "    }\n",
       "\n",
       "    .dataframe tbody tr th {\n",
       "        vertical-align: top;\n",
       "    }\n",
       "\n",
       "    .dataframe thead th {\n",
       "        text-align: right;\n",
       "    }\n",
       "</style>\n",
       "<table border=\"1\" class=\"dataframe\">\n",
       "  <thead>\n",
       "    <tr style=\"text-align: right;\">\n",
       "      <th></th>\n",
       "      <th>invoice_no</th>\n",
       "      <th>stock_code</th>\n",
       "      <th>description</th>\n",
       "      <th>quantity</th>\n",
       "      <th>invoice_date</th>\n",
       "      <th>unit_price</th>\n",
       "      <th>customer_id</th>\n",
       "      <th>country</th>\n",
       "    </tr>\n",
       "  </thead>\n",
       "  <tbody>\n",
       "    <tr>\n",
       "      <th>217060</th>\n",
       "      <td>555876</td>\n",
       "      <td>16045</td>\n",
       "      <td>POPART WOODEN PENCILS ASST</td>\n",
       "      <td>100</td>\n",
       "      <td>2017-06-05</td>\n",
       "      <td>0.04</td>\n",
       "      <td>15799</td>\n",
       "      <td>United Kingdom</td>\n",
       "    </tr>\n",
       "    <tr>\n",
       "      <th>221726</th>\n",
       "      <td>556267</td>\n",
       "      <td>16045</td>\n",
       "      <td>POPART WOODEN PENCILS ASST</td>\n",
       "      <td>500</td>\n",
       "      <td>2017-06-07</td>\n",
       "      <td>0.04</td>\n",
       "      <td>13694</td>\n",
       "      <td>United Kingdom</td>\n",
       "    </tr>\n",
       "    <tr>\n",
       "      <th>228959</th>\n",
       "      <td>557006</td>\n",
       "      <td>16045</td>\n",
       "      <td>POPART WOODEN PENCILS ASST</td>\n",
       "      <td>100</td>\n",
       "      <td>2017-06-14</td>\n",
       "      <td>0.04</td>\n",
       "      <td>14282</td>\n",
       "      <td>United Kingdom</td>\n",
       "    </tr>\n",
       "    <tr>\n",
       "      <th>229052</th>\n",
       "      <td>557009</td>\n",
       "      <td>16045</td>\n",
       "      <td>POPART WOODEN PENCILS ASST</td>\n",
       "      <td>100</td>\n",
       "      <td>2017-06-14</td>\n",
       "      <td>0.04</td>\n",
       "      <td>14321</td>\n",
       "      <td>United Kingdom</td>\n",
       "    </tr>\n",
       "    <tr>\n",
       "      <th>229499</th>\n",
       "      <td>557057</td>\n",
       "      <td>16045</td>\n",
       "      <td>POPART WOODEN PENCILS ASST</td>\n",
       "      <td>100</td>\n",
       "      <td>2017-06-14</td>\n",
       "      <td>0.04</td>\n",
       "      <td>16843</td>\n",
       "      <td>United Kingdom</td>\n",
       "    </tr>\n",
       "    <tr>\n",
       "      <th>...</th>\n",
       "      <td>...</td>\n",
       "      <td>...</td>\n",
       "      <td>...</td>\n",
       "      <td>...</td>\n",
       "      <td>...</td>\n",
       "      <td>...</td>\n",
       "      <td>...</td>\n",
       "      <td>...</td>\n",
       "    </tr>\n",
       "    <tr>\n",
       "      <th>492556</th>\n",
       "      <td>578126</td>\n",
       "      <td>16045</td>\n",
       "      <td>POPART WOODEN PENCILS ASST</td>\n",
       "      <td>100</td>\n",
       "      <td>2017-11-21</td>\n",
       "      <td>0.04</td>\n",
       "      <td>16900</td>\n",
       "      <td>United Kingdom</td>\n",
       "    </tr>\n",
       "    <tr>\n",
       "      <th>506043</th>\n",
       "      <td>579124</td>\n",
       "      <td>16045</td>\n",
       "      <td>POPART WOODEN PENCILS ASST</td>\n",
       "      <td>100</td>\n",
       "      <td>2017-11-26</td>\n",
       "      <td>0.04</td>\n",
       "      <td>15721</td>\n",
       "      <td>United Kingdom</td>\n",
       "    </tr>\n",
       "    <tr>\n",
       "      <th>506918</th>\n",
       "      <td>579161</td>\n",
       "      <td>16045</td>\n",
       "      <td>POPART WOODEN PENCILS ASST</td>\n",
       "      <td>100</td>\n",
       "      <td>2017-11-26</td>\n",
       "      <td>0.04</td>\n",
       "      <td>17379</td>\n",
       "      <td>United Kingdom</td>\n",
       "    </tr>\n",
       "    <tr>\n",
       "      <th>523461</th>\n",
       "      <td>580513</td>\n",
       "      <td>16045</td>\n",
       "      <td>POPART WOODEN PENCILS ASST</td>\n",
       "      <td>100</td>\n",
       "      <td>2017-12-02</td>\n",
       "      <td>0.04</td>\n",
       "      <td>14456</td>\n",
       "      <td>United Kingdom</td>\n",
       "    </tr>\n",
       "    <tr>\n",
       "      <th>525404</th>\n",
       "      <td>580619</td>\n",
       "      <td>16045</td>\n",
       "      <td>POPART WOODEN PENCILS ASST</td>\n",
       "      <td>100</td>\n",
       "      <td>2017-12-03</td>\n",
       "      <td>0.04</td>\n",
       "      <td>15053</td>\n",
       "      <td>United Kingdom</td>\n",
       "    </tr>\n",
       "  </tbody>\n",
       "</table>\n",
       "<p>66 rows × 8 columns</p>\n",
       "</div>"
      ],
      "text/plain": [
       "       invoice_no stock_code                 description  quantity  \\\n",
       "217060     555876      16045  POPART WOODEN PENCILS ASST       100   \n",
       "221726     556267      16045  POPART WOODEN PENCILS ASST       500   \n",
       "228959     557006      16045  POPART WOODEN PENCILS ASST       100   \n",
       "229052     557009      16045  POPART WOODEN PENCILS ASST       100   \n",
       "229499     557057      16045  POPART WOODEN PENCILS ASST       100   \n",
       "...           ...        ...                         ...       ...   \n",
       "492556     578126      16045  POPART WOODEN PENCILS ASST       100   \n",
       "506043     579124      16045  POPART WOODEN PENCILS ASST       100   \n",
       "506918     579161      16045  POPART WOODEN PENCILS ASST       100   \n",
       "523461     580513      16045  POPART WOODEN PENCILS ASST       100   \n",
       "525404     580619      16045  POPART WOODEN PENCILS ASST       100   \n",
       "\n",
       "       invoice_date  unit_price  customer_id         country  \n",
       "217060   2017-06-05        0.04        15799  United Kingdom  \n",
       "221726   2017-06-07        0.04        13694  United Kingdom  \n",
       "228959   2017-06-14        0.04        14282  United Kingdom  \n",
       "229052   2017-06-14        0.04        14321  United Kingdom  \n",
       "229499   2017-06-14        0.04        16843  United Kingdom  \n",
       "...             ...         ...          ...             ...  \n",
       "492556   2017-11-21        0.04        16900  United Kingdom  \n",
       "506043   2017-11-26        0.04        15721  United Kingdom  \n",
       "506918   2017-11-26        0.04        17379  United Kingdom  \n",
       "523461   2017-12-02        0.04        14456  United Kingdom  \n",
       "525404   2017-12-03        0.04        15053  United Kingdom  \n",
       "\n",
       "[66 rows x 8 columns]"
      ]
     },
     "execution_count": 18,
     "metadata": {},
     "output_type": "execute_result"
    }
   ],
   "source": [
    "# investiating prices = 0.001\n",
    "df_raw_3[df_raw_3['unit_price']==0.04]"
   ]
  },
  {
   "cell_type": "code",
   "execution_count": 19,
   "id": "7f7e0e31",
   "metadata": {
    "ExecuteTime": {
     "end_time": "2022-11-29T14:37:57.153037Z",
     "start_time": "2022-11-29T14:37:57.102360Z"
    },
    "hidden": true
   },
   "outputs": [
    {
     "data": {
      "text/html": [
       "<div>\n",
       "<style scoped>\n",
       "    .dataframe tbody tr th:only-of-type {\n",
       "        vertical-align: middle;\n",
       "    }\n",
       "\n",
       "    .dataframe tbody tr th {\n",
       "        vertical-align: top;\n",
       "    }\n",
       "\n",
       "    .dataframe thead th {\n",
       "        text-align: right;\n",
       "    }\n",
       "</style>\n",
       "<table border=\"1\" class=\"dataframe\">\n",
       "  <thead>\n",
       "    <tr style=\"text-align: right;\">\n",
       "      <th></th>\n",
       "      <th>invoice_no</th>\n",
       "      <th>stock_code</th>\n",
       "      <th>description</th>\n",
       "      <th>quantity</th>\n",
       "      <th>invoice_date</th>\n",
       "      <th>unit_price</th>\n",
       "      <th>customer_id</th>\n",
       "      <th>country</th>\n",
       "    </tr>\n",
       "  </thead>\n",
       "  <tbody>\n",
       "    <tr>\n",
       "      <th>406404</th>\n",
       "      <td>C571750</td>\n",
       "      <td>M</td>\n",
       "      <td>Manual</td>\n",
       "      <td>-1</td>\n",
       "      <td>2017-10-17</td>\n",
       "      <td>3949.32</td>\n",
       "      <td>12744</td>\n",
       "      <td>Singapore</td>\n",
       "    </tr>\n",
       "    <tr>\n",
       "      <th>222681</th>\n",
       "      <td>C556445</td>\n",
       "      <td>M</td>\n",
       "      <td>Manual</td>\n",
       "      <td>-1</td>\n",
       "      <td>2017-06-08</td>\n",
       "      <td>38970.00</td>\n",
       "      <td>15098</td>\n",
       "      <td>United Kingdom</td>\n",
       "    </tr>\n",
       "    <tr>\n",
       "      <th>200745</th>\n",
       "      <td>554155</td>\n",
       "      <td>M</td>\n",
       "      <td>Manual</td>\n",
       "      <td>1</td>\n",
       "      <td>2017-05-21</td>\n",
       "      <td>1241.98</td>\n",
       "      <td>12757</td>\n",
       "      <td>Portugal</td>\n",
       "    </tr>\n",
       "    <tr>\n",
       "      <th>387526</th>\n",
       "      <td>C570301</td>\n",
       "      <td>M</td>\n",
       "      <td>Manual</td>\n",
       "      <td>-1</td>\n",
       "      <td>2017-10-08</td>\n",
       "      <td>682.05</td>\n",
       "      <td>16900</td>\n",
       "      <td>United Kingdom</td>\n",
       "    </tr>\n",
       "    <tr>\n",
       "      <th>268027</th>\n",
       "      <td>C560372</td>\n",
       "      <td>M</td>\n",
       "      <td>Manual</td>\n",
       "      <td>-1</td>\n",
       "      <td>2017-07-16</td>\n",
       "      <td>4287.63</td>\n",
       "      <td>17448</td>\n",
       "      <td>United Kingdom</td>\n",
       "    </tr>\n",
       "    <tr>\n",
       "      <th>73446</th>\n",
       "      <td>C542348</td>\n",
       "      <td>M</td>\n",
       "      <td>Manual</td>\n",
       "      <td>-1</td>\n",
       "      <td>2017-01-25</td>\n",
       "      <td>1715.85</td>\n",
       "      <td>12539</td>\n",
       "      <td>Spain</td>\n",
       "    </tr>\n",
       "    <tr>\n",
       "      <th>269177</th>\n",
       "      <td>C560436</td>\n",
       "      <td>M</td>\n",
       "      <td>Manual</td>\n",
       "      <td>-1</td>\n",
       "      <td>2017-07-16</td>\n",
       "      <td>705.45</td>\n",
       "      <td>17603</td>\n",
       "      <td>United Kingdom</td>\n",
       "    </tr>\n",
       "    <tr>\n",
       "      <th>455261</th>\n",
       "      <td>575607</td>\n",
       "      <td>DOT</td>\n",
       "      <td>DOTCOM POSTAGE</td>\n",
       "      <td>1</td>\n",
       "      <td>2017-11-08</td>\n",
       "      <td>908.16</td>\n",
       "      <td>14096</td>\n",
       "      <td>United Kingdom</td>\n",
       "    </tr>\n",
       "    <tr>\n",
       "      <th>406405</th>\n",
       "      <td>C571750</td>\n",
       "      <td>M</td>\n",
       "      <td>Manual</td>\n",
       "      <td>-1</td>\n",
       "      <td>2017-10-17</td>\n",
       "      <td>2118.74</td>\n",
       "      <td>12744</td>\n",
       "      <td>Singapore</td>\n",
       "    </tr>\n",
       "    <tr>\n",
       "      <th>406406</th>\n",
       "      <td>571751</td>\n",
       "      <td>M</td>\n",
       "      <td>Manual</td>\n",
       "      <td>1</td>\n",
       "      <td>2017-10-17</td>\n",
       "      <td>3949.32</td>\n",
       "      <td>12744</td>\n",
       "      <td>Singapore</td>\n",
       "    </tr>\n",
       "  </tbody>\n",
       "</table>\n",
       "</div>"
      ],
      "text/plain": [
       "       invoice_no stock_code     description  quantity invoice_date  \\\n",
       "406404    C571750          M          Manual        -1   2017-10-17   \n",
       "222681    C556445          M          Manual        -1   2017-06-08   \n",
       "200745     554155          M          Manual         1   2017-05-21   \n",
       "387526    C570301          M          Manual        -1   2017-10-08   \n",
       "268027    C560372          M          Manual        -1   2017-07-16   \n",
       "73446     C542348          M          Manual        -1   2017-01-25   \n",
       "269177    C560436          M          Manual        -1   2017-07-16   \n",
       "455261     575607        DOT  DOTCOM POSTAGE         1   2017-11-08   \n",
       "406405    C571750          M          Manual        -1   2017-10-17   \n",
       "406406     571751          M          Manual         1   2017-10-17   \n",
       "\n",
       "        unit_price  customer_id         country  \n",
       "406404     3949.32        12744       Singapore  \n",
       "222681    38970.00        15098  United Kingdom  \n",
       "200745     1241.98        12757        Portugal  \n",
       "387526      682.05        16900  United Kingdom  \n",
       "268027     4287.63        17448  United Kingdom  \n",
       "73446      1715.85        12539           Spain  \n",
       "269177      705.45        17603  United Kingdom  \n",
       "455261      908.16        14096  United Kingdom  \n",
       "406405     2118.74        12744       Singapore  \n",
       "406406     3949.32        12744       Singapore  "
      ]
     },
     "execution_count": 19,
     "metadata": {},
     "output_type": "execute_result"
    }
   ],
   "source": [
    "# investigating prices too high\n",
    "df_raw_3[df_raw_3['unit_price']>500].sample(10)"
   ]
  },
  {
   "cell_type": "markdown",
   "id": "2672a9c7",
   "metadata": {
    "heading_collapsed": true,
    "hidden": true
   },
   "source": [
    "### 3.1.2. quantity\n",
    "- All invoices with string in the description have negative quantity. It will be considered as returns\n",
    "- There some high suspect high quantities, however doesn't seem to be errors"
   ]
  },
  {
   "cell_type": "code",
   "execution_count": 20,
   "id": "bb1ea5c9",
   "metadata": {
    "ExecuteTime": {
     "end_time": "2022-11-29T14:37:57.259416Z",
     "start_time": "2022-11-29T14:37:57.155143Z"
    },
    "hidden": true
   },
   "outputs": [
    {
     "data": {
      "text/html": [
       "<div>\n",
       "<style scoped>\n",
       "    .dataframe tbody tr th:only-of-type {\n",
       "        vertical-align: middle;\n",
       "    }\n",
       "\n",
       "    .dataframe tbody tr th {\n",
       "        vertical-align: top;\n",
       "    }\n",
       "\n",
       "    .dataframe thead th {\n",
       "        text-align: right;\n",
       "    }\n",
       "</style>\n",
       "<table border=\"1\" class=\"dataframe\">\n",
       "  <thead>\n",
       "    <tr style=\"text-align: right;\">\n",
       "      <th></th>\n",
       "      <th>invoice_no</th>\n",
       "      <th>stock_code</th>\n",
       "      <th>description</th>\n",
       "      <th>quantity</th>\n",
       "      <th>invoice_date</th>\n",
       "      <th>unit_price</th>\n",
       "      <th>customer_id</th>\n",
       "      <th>country</th>\n",
       "    </tr>\n",
       "  </thead>\n",
       "  <tbody>\n",
       "    <tr>\n",
       "      <th>341273</th>\n",
       "      <td>C566741</td>\n",
       "      <td>23404</td>\n",
       "      <td>HOME SWEET HOME BLACKBOARD</td>\n",
       "      <td>-1</td>\n",
       "      <td>2017-09-12</td>\n",
       "      <td>4.95</td>\n",
       "      <td>15618</td>\n",
       "      <td>United Kingdom</td>\n",
       "    </tr>\n",
       "    <tr>\n",
       "      <th>398893</th>\n",
       "      <td>C571264</td>\n",
       "      <td>22605</td>\n",
       "      <td>WOODEN CROQUET GARDEN SET</td>\n",
       "      <td>-1</td>\n",
       "      <td>2017-10-14</td>\n",
       "      <td>14.95</td>\n",
       "      <td>17769</td>\n",
       "      <td>United Kingdom</td>\n",
       "    </tr>\n",
       "    <tr>\n",
       "      <th>7439</th>\n",
       "      <td>C537039</td>\n",
       "      <td>85175</td>\n",
       "      <td>CACTI T-LIGHT CANDLES</td>\n",
       "      <td>-1</td>\n",
       "      <td>2016-12-03</td>\n",
       "      <td>0.42</td>\n",
       "      <td>15708</td>\n",
       "      <td>United Kingdom</td>\n",
       "    </tr>\n",
       "    <tr>\n",
       "      <th>65940</th>\n",
       "      <td>C541701</td>\n",
       "      <td>22359</td>\n",
       "      <td>GLASS JAR KINGS CHOICE</td>\n",
       "      <td>-2</td>\n",
       "      <td>2017-01-19</td>\n",
       "      <td>2.95</td>\n",
       "      <td>14895</td>\n",
       "      <td>United Kingdom</td>\n",
       "    </tr>\n",
       "    <tr>\n",
       "      <th>72728</th>\n",
       "      <td>C542256</td>\n",
       "      <td>22471</td>\n",
       "      <td>TV DINNER TRAY AIR HOSTESS</td>\n",
       "      <td>-1</td>\n",
       "      <td>2017-01-24</td>\n",
       "      <td>1.95</td>\n",
       "      <td>17722</td>\n",
       "      <td>United Kingdom</td>\n",
       "    </tr>\n",
       "  </tbody>\n",
       "</table>\n",
       "</div>"
      ],
      "text/plain": [
       "       invoice_no stock_code                  description  quantity  \\\n",
       "341273    C566741      23404   HOME SWEET HOME BLACKBOARD        -1   \n",
       "398893    C571264      22605    WOODEN CROQUET GARDEN SET        -1   \n",
       "7439      C537039      85175        CACTI T-LIGHT CANDLES        -1   \n",
       "65940     C541701      22359       GLASS JAR KINGS CHOICE        -2   \n",
       "72728     C542256      22471  TV DINNER TRAY AIR HOSTESS         -1   \n",
       "\n",
       "       invoice_date  unit_price  customer_id         country  \n",
       "341273   2017-09-12        4.95        15618  United Kingdom  \n",
       "398893   2017-10-14       14.95        17769  United Kingdom  \n",
       "7439     2016-12-03        0.42        15708  United Kingdom  \n",
       "65940    2017-01-19        2.95        14895  United Kingdom  \n",
       "72728    2017-01-24        1.95        17722  United Kingdom  "
      ]
     },
     "execution_count": 20,
     "metadata": {},
     "output_type": "execute_result"
    }
   ],
   "source": [
    "# check samples\n",
    "df_raw_3[df_raw_3['quantity']<0].sample(5)"
   ]
  },
  {
   "cell_type": "code",
   "execution_count": 21,
   "id": "1f04b126",
   "metadata": {
    "ExecuteTime": {
     "end_time": "2022-11-29T14:37:57.888564Z",
     "start_time": "2022-11-29T14:37:57.264414Z"
    },
    "hidden": true
   },
   "outputs": [],
   "source": [
    "# investiganting if invoice_no has any relation with negative values\n",
    "df_invoice_str = df_raw_3.loc[df_raw_3['invoice_no'].apply(lambda x: bool(re.search('[^0-9]+', x))),:]\n",
    "\n",
    "# df_invoice_str[df_invoice_str['quantity']>=0]\n",
    "# df_aux = df_raw_3[df_raw_3['quantity']>0]\n",
    "# df_aux = df_aux.astype({'invoice_no':'int64'})"
   ]
  },
  {
   "cell_type": "code",
   "execution_count": 22,
   "id": "7698a386",
   "metadata": {
    "ExecuteTime": {
     "end_time": "2022-11-29T14:37:57.899243Z",
     "start_time": "2022-11-29T14:37:57.892208Z"
    },
    "hidden": true
   },
   "outputs": [],
   "source": [
    "# # investigating extreme values\n",
    "# df_raw_3[df_raw_3['quantity']==12540]"
   ]
  },
  {
   "cell_type": "code",
   "execution_count": 23,
   "id": "d43cab5d",
   "metadata": {
    "ExecuteTime": {
     "end_time": "2022-11-29T14:37:58.055569Z",
     "start_time": "2022-11-29T14:37:57.902156Z"
    },
    "hidden": true
   },
   "outputs": [],
   "source": [
    "# df_raw_3[(df_raw_3['customer_id']==13256)].sort_values('quantity')"
   ]
  },
  {
   "cell_type": "markdown",
   "id": "4f72f301",
   "metadata": {
    "heading_collapsed": true,
    "hidden": true
   },
   "source": [
    "### 3.1.3. stock_code\n",
    "Exclude stock_codes = ['POST', 'D', 'M', 'PADS', 'DOT', 'CRUK', 'BANK CHARGES'] (do not seem to be relevant to the model"
   ]
  },
  {
   "cell_type": "code",
   "execution_count": 24,
   "id": "29a33848",
   "metadata": {
    "ExecuteTime": {
     "end_time": "2022-11-29T14:37:58.669757Z",
     "start_time": "2022-11-29T14:37:58.059264Z"
    },
    "hidden": true
   },
   "outputs": [],
   "source": [
    "df_raw_3.loc[df_raw_3['stock_code'].apply( lambda x: bool( re.search( '^[a-zA-Z]+$', x ) ) ), 'stock_code'].unique()\n",
    "# POST - seems to be cost of exportation to another coutry\n",
    "# D - discount\n",
    "# M - seems to be some kind of manual adjustment\n",
    "# PADS - seems to be some kind of protection that goes in the package\n",
    "# DOTCOM - ??\n",
    "# CRUK - ??\n",
    "\n",
    "# list created using libreoffice calc\n",
    "exclude_stock_codes = [\n",
    "'AMAZONFEE',\n",
    "'B',\n",
    "'BANK CHARGES',\n",
    "'C2',\n",
    "'CRUK',\n",
    "'D',\n",
    "'DCGS0003',\n",
    "'DCGS0004',\n",
    "'DCGS0055',\n",
    "'DCGS0057',\n",
    "'DCGS0066P',\n",
    "'DCGS0067',\n",
    "'DCGS0068',\n",
    "'DCGS0069',\n",
    "'DCGS0070',\n",
    "'DCGS0071',\n",
    "'DCGS0072',\n",
    "'DCGS0073',\n",
    "'DCGS0074',\n",
    "'DCGS0076',\n",
    "'DCGSSBOY',\n",
    "'DCGSSGIRL',\n",
    "'DOT',\n",
    "'gift_0001_10',\n",
    "'gift_0001_20',\n",
    "'gift_0001_30',\n",
    "'gift_0001_40',\n",
    "'gift_0001_50',\n",
    "'M',\n",
    "'m',\n",
    "'PADS',\n",
    "'POST',\n",
    "'S']"
   ]
  },
  {
   "cell_type": "markdown",
   "id": "cf1897ca",
   "metadata": {
    "ExecuteTime": {
     "end_time": "2022-11-28T19:36:58.791879Z",
     "start_time": "2022-11-28T19:36:58.781278Z"
    },
    "heading_collapsed": true,
    "hidden": true
   },
   "source": [
    "### 3.1.4. country\n",
    "Do not remove yet"
   ]
  },
  {
   "cell_type": "code",
   "execution_count": 25,
   "id": "e95dfa19",
   "metadata": {
    "ExecuteTime": {
     "end_time": "2022-11-29T14:37:58.701883Z",
     "start_time": "2022-11-29T14:37:58.673456Z"
    },
    "hidden": true
   },
   "outputs": [
    {
     "data": {
      "text/plain": [
       "array(['United Kingdom', 'France', 'Australia', 'Netherlands', 'Germany',\n",
       "       'Norway', 'EIRE', 'Switzerland', 'Spain', 'Poland', 'Portugal',\n",
       "       'Italy', 'Belgium', 'Lithuania', 'Japan', 'Iceland',\n",
       "       'Channel Islands', 'Denmark', 'Cyprus', 'Sweden', 'Austria',\n",
       "       'Israel', 'Finland', 'Greece', 'Singapore', 'Lebanon',\n",
       "       'United Arab Emirates', 'Saudi Arabia', 'Czech Republic', 'Canada',\n",
       "       'Unspecified', 'Brazil', 'USA', 'European Community', 'Bahrain',\n",
       "       'Malta', 'RSA'], dtype=object)"
      ]
     },
     "execution_count": 25,
     "metadata": {},
     "output_type": "execute_result"
    }
   ],
   "source": [
    "df_raw_3['country'].unique()"
   ]
  },
  {
   "cell_type": "code",
   "execution_count": 26,
   "id": "425f79bc",
   "metadata": {
    "ExecuteTime": {
     "end_time": "2022-11-29T14:37:58.851768Z",
     "start_time": "2022-11-29T14:37:58.705146Z"
    },
    "hidden": true
   },
   "outputs": [
    {
     "data": {
      "text/plain": [
       "United Kingdom    0.889509\n",
       "Germany           0.023339\n",
       "France            0.020871\n",
       "EIRE              0.018398\n",
       "Spain             0.006226\n",
       "Name: country, dtype: float64"
      ]
     },
     "execution_count": 26,
     "metadata": {},
     "output_type": "execute_result"
    }
   ],
   "source": [
    "df_raw_3['country'].value_counts(normalize=True).head()"
   ]
  },
  {
   "cell_type": "code",
   "execution_count": 27,
   "id": "da8f84ee",
   "metadata": {
    "ExecuteTime": {
     "end_time": "2022-11-29T14:37:58.992495Z",
     "start_time": "2022-11-29T14:37:58.855048Z"
    },
    "hidden": true
   },
   "outputs": [
    {
     "data": {
      "text/html": [
       "<div>\n",
       "<style scoped>\n",
       "    .dataframe tbody tr th:only-of-type {\n",
       "        vertical-align: middle;\n",
       "    }\n",
       "\n",
       "    .dataframe tbody tr th {\n",
       "        vertical-align: top;\n",
       "    }\n",
       "\n",
       "    .dataframe thead th {\n",
       "        text-align: right;\n",
       "    }\n",
       "</style>\n",
       "<table border=\"1\" class=\"dataframe\">\n",
       "  <thead>\n",
       "    <tr style=\"text-align: right;\">\n",
       "      <th></th>\n",
       "      <th>invoice_no</th>\n",
       "      <th>stock_code</th>\n",
       "      <th>description</th>\n",
       "      <th>quantity</th>\n",
       "      <th>invoice_date</th>\n",
       "      <th>unit_price</th>\n",
       "      <th>customer_id</th>\n",
       "      <th>country</th>\n",
       "    </tr>\n",
       "  </thead>\n",
       "  <tbody>\n",
       "    <tr>\n",
       "      <th>168149</th>\n",
       "      <td>551013</td>\n",
       "      <td>22839</td>\n",
       "      <td>3 TIER CAKE TIN GREEN AND CREAM</td>\n",
       "      <td>1</td>\n",
       "      <td>2017-04-24</td>\n",
       "      <td>14.95</td>\n",
       "      <td>15108</td>\n",
       "      <td>European Community</td>\n",
       "    </tr>\n",
       "    <tr>\n",
       "      <th>168150</th>\n",
       "      <td>551013</td>\n",
       "      <td>22840</td>\n",
       "      <td>ROUND CAKE TIN VINTAGE RED</td>\n",
       "      <td>2</td>\n",
       "      <td>2017-04-24</td>\n",
       "      <td>7.95</td>\n",
       "      <td>15108</td>\n",
       "      <td>European Community</td>\n",
       "    </tr>\n",
       "    <tr>\n",
       "      <th>168151</th>\n",
       "      <td>551013</td>\n",
       "      <td>22841</td>\n",
       "      <td>ROUND CAKE TIN VINTAGE GREEN</td>\n",
       "      <td>2</td>\n",
       "      <td>2017-04-24</td>\n",
       "      <td>7.95</td>\n",
       "      <td>15108</td>\n",
       "      <td>European Community</td>\n",
       "    </tr>\n",
       "    <tr>\n",
       "      <th>168152</th>\n",
       "      <td>551013</td>\n",
       "      <td>22457</td>\n",
       "      <td>NATURAL SLATE HEART CHALKBOARD</td>\n",
       "      <td>6</td>\n",
       "      <td>2017-04-24</td>\n",
       "      <td>2.95</td>\n",
       "      <td>15108</td>\n",
       "      <td>European Community</td>\n",
       "    </tr>\n",
       "    <tr>\n",
       "      <th>168153</th>\n",
       "      <td>551013</td>\n",
       "      <td>22314</td>\n",
       "      <td>OFFICE MUG WARMER CHOC+BLUE</td>\n",
       "      <td>6</td>\n",
       "      <td>2017-04-24</td>\n",
       "      <td>2.95</td>\n",
       "      <td>15108</td>\n",
       "      <td>European Community</td>\n",
       "    </tr>\n",
       "    <tr>\n",
       "      <th>...</th>\n",
       "      <td>...</td>\n",
       "      <td>...</td>\n",
       "      <td>...</td>\n",
       "      <td>...</td>\n",
       "      <td>...</td>\n",
       "      <td>...</td>\n",
       "      <td>...</td>\n",
       "      <td>...</td>\n",
       "    </tr>\n",
       "    <tr>\n",
       "      <th>273232</th>\n",
       "      <td>560783</td>\n",
       "      <td>21098</td>\n",
       "      <td>CHRISTMAS TOILET ROLL</td>\n",
       "      <td>12</td>\n",
       "      <td>2017-07-19</td>\n",
       "      <td>1.25</td>\n",
       "      <td>15108</td>\n",
       "      <td>European Community</td>\n",
       "    </tr>\n",
       "    <tr>\n",
       "      <th>273233</th>\n",
       "      <td>560783</td>\n",
       "      <td>72807C</td>\n",
       "      <td>SET/3 VANILLA SCENTED CANDLE IN BOX</td>\n",
       "      <td>12</td>\n",
       "      <td>2017-07-19</td>\n",
       "      <td>4.25</td>\n",
       "      <td>15108</td>\n",
       "      <td>European Community</td>\n",
       "    </tr>\n",
       "    <tr>\n",
       "      <th>273234</th>\n",
       "      <td>560783</td>\n",
       "      <td>85036B</td>\n",
       "      <td>CHOCOLATE 1 WICK MORRIS BOX CANDLE</td>\n",
       "      <td>12</td>\n",
       "      <td>2017-07-19</td>\n",
       "      <td>4.25</td>\n",
       "      <td>15108</td>\n",
       "      <td>European Community</td>\n",
       "    </tr>\n",
       "    <tr>\n",
       "      <th>273235</th>\n",
       "      <td>560783</td>\n",
       "      <td>85035C</td>\n",
       "      <td>ROSE 3 WICK MORRIS BOX CANDLE</td>\n",
       "      <td>8</td>\n",
       "      <td>2017-07-19</td>\n",
       "      <td>4.25</td>\n",
       "      <td>15108</td>\n",
       "      <td>European Community</td>\n",
       "    </tr>\n",
       "    <tr>\n",
       "      <th>273236</th>\n",
       "      <td>560783</td>\n",
       "      <td>POST</td>\n",
       "      <td>POSTAGE</td>\n",
       "      <td>4</td>\n",
       "      <td>2017-07-19</td>\n",
       "      <td>15.00</td>\n",
       "      <td>15108</td>\n",
       "      <td>European Community</td>\n",
       "    </tr>\n",
       "  </tbody>\n",
       "</table>\n",
       "<p>61 rows × 8 columns</p>\n",
       "</div>"
      ],
      "text/plain": [
       "       invoice_no stock_code                          description  quantity  \\\n",
       "168149     551013      22839      3 TIER CAKE TIN GREEN AND CREAM         1   \n",
       "168150     551013      22840           ROUND CAKE TIN VINTAGE RED         2   \n",
       "168151     551013      22841         ROUND CAKE TIN VINTAGE GREEN         2   \n",
       "168152     551013      22457      NATURAL SLATE HEART CHALKBOARD          6   \n",
       "168153     551013      22314          OFFICE MUG WARMER CHOC+BLUE         6   \n",
       "...           ...        ...                                  ...       ...   \n",
       "273232     560783      21098                CHRISTMAS TOILET ROLL        12   \n",
       "273233     560783     72807C  SET/3 VANILLA SCENTED CANDLE IN BOX        12   \n",
       "273234     560783     85036B   CHOCOLATE 1 WICK MORRIS BOX CANDLE        12   \n",
       "273235     560783     85035C        ROSE 3 WICK MORRIS BOX CANDLE         8   \n",
       "273236     560783       POST                              POSTAGE         4   \n",
       "\n",
       "       invoice_date  unit_price  customer_id             country  \n",
       "168149   2017-04-24       14.95        15108  European Community  \n",
       "168150   2017-04-24        7.95        15108  European Community  \n",
       "168151   2017-04-24        7.95        15108  European Community  \n",
       "168152   2017-04-24        2.95        15108  European Community  \n",
       "168153   2017-04-24        2.95        15108  European Community  \n",
       "...             ...         ...          ...                 ...  \n",
       "273232   2017-07-19        1.25        15108  European Community  \n",
       "273233   2017-07-19        4.25        15108  European Community  \n",
       "273234   2017-07-19        4.25        15108  European Community  \n",
       "273235   2017-07-19        4.25        15108  European Community  \n",
       "273236   2017-07-19       15.00        15108  European Community  \n",
       "\n",
       "[61 rows x 8 columns]"
      ]
     },
     "execution_count": 27,
     "metadata": {},
     "output_type": "execute_result"
    }
   ],
   "source": [
    "df_raw_3[df_raw_3['country']=='European Community']"
   ]
  },
  {
   "cell_type": "markdown",
   "id": "92287680",
   "metadata": {
    "heading_collapsed": true,
    "hidden": true
   },
   "source": [
    "## 3.2. Data Filtering"
   ]
  },
  {
   "cell_type": "code",
   "execution_count": 28,
   "id": "65ba6124",
   "metadata": {
    "ExecuteTime": {
     "end_time": "2022-11-29T14:37:59.183926Z",
     "start_time": "2022-11-29T14:37:59.005366Z"
    },
    "hidden": true
   },
   "outputs": [],
   "source": [
    "# unit price\n",
    "df_raw_3 = df_raw_3.loc[df_raw_3['unit_price']>0.01,:]\n",
    "\n",
    "# stock code\n",
    "df_raw_3 = df_raw_3[~df_raw_3['stock_code'].isin(exclude_stock_codes)]\n",
    "\n",
    "# quantity\n",
    "df_raw_returns = df_raw_3.loc[df_raw_3['quantity']<0, :]\n",
    "df_raw_purchases = df_raw_3.loc[df_raw_3['quantity']>=0, :]"
   ]
  },
  {
   "cell_type": "markdown",
   "id": "245b1ff6",
   "metadata": {},
   "source": [
    "# 4.0. FEATURE ENGINEERING"
   ]
  },
  {
   "cell_type": "code",
   "execution_count": 94,
   "id": "99d16673",
   "metadata": {
    "ExecuteTime": {
     "end_time": "2022-11-29T15:12:29.078374Z",
     "start_time": "2022-11-29T15:12:29.039087Z"
    }
   },
   "outputs": [],
   "source": [
    "df_raw_4 = df_raw_3.copy()"
   ]
  },
  {
   "cell_type": "markdown",
   "id": "c58a84d9",
   "metadata": {
    "ExecuteTime": {
     "end_time": "2022-11-27T13:07:34.086030Z",
     "start_time": "2022-11-27T13:07:34.083374Z"
    }
   },
   "source": [
    "## 4.1. Features Creation"
   ]
  },
  {
   "cell_type": "code",
   "execution_count": 95,
   "id": "7f10b0c0",
   "metadata": {
    "ExecuteTime": {
     "end_time": "2022-11-29T15:12:30.493173Z",
     "start_time": "2022-11-29T15:12:30.454544Z"
    }
   },
   "outputs": [],
   "source": [
    "# separate unique customers\n",
    "df_ref = df_raw_4.drop(['invoice_no', 'stock_code', 'description', 'quantity', 'invoice_date',\n",
    "       'unit_price', 'country'], axis=1).drop_duplicates(ignore_index=True)"
   ]
  },
  {
   "cell_type": "markdown",
   "id": "8244fe9d",
   "metadata": {},
   "source": [
    "### 4.1.1. Gross Revenue - total money spent by customer"
   ]
  },
  {
   "cell_type": "code",
   "execution_count": 96,
   "id": "c6aa99ac",
   "metadata": {
    "ExecuteTime": {
     "end_time": "2022-11-29T15:12:33.652101Z",
     "start_time": "2022-11-29T15:12:33.615172Z"
    }
   },
   "outputs": [
    {
     "data": {
      "text/plain": [
       "customer_id      0\n",
       "gross_revenue    0\n",
       "dtype: int64"
      ]
     },
     "execution_count": 96,
     "metadata": {},
     "output_type": "execute_result"
    }
   ],
   "source": [
    "# calculated from total invoices (returns are subtracted from gross revenue)\n",
    "df_raw_4['gross_revenue'] = df_raw_4['quantity']*df_raw_4['unit_price']\n",
    "df_gross_revenue = df_raw_4[['customer_id', 'gross_revenue']].groupby('customer_id').sum().reset_index()\n",
    "df_ref = pd.merge(df_ref, df_gross_revenue, on='customer_id', how='left')\n",
    "df_ref.isna().sum()"
   ]
  },
  {
   "cell_type": "markdown",
   "id": "454d1227",
   "metadata": {},
   "source": [
    "### 4.1.2. Recency - number of days since last purchase"
   ]
  },
  {
   "cell_type": "code",
   "execution_count": 97,
   "id": "bffb0241",
   "metadata": {
    "ExecuteTime": {
     "end_time": "2022-11-29T15:12:34.558411Z",
     "start_time": "2022-11-29T15:12:34.516123Z"
    }
   },
   "outputs": [
    {
     "data": {
      "text/plain": [
       "customer_id       0\n",
       "gross_revenue     0\n",
       "recency          28\n",
       "dtype: int64"
      ]
     },
     "execution_count": 97,
     "metadata": {},
     "output_type": "execute_result"
    }
   ],
   "source": [
    "# recency - last day of purchase\n",
    "# calculated from dataframe with only purchases\n",
    "df_recency = df_raw_purchases.loc[:, ['customer_id', 'invoice_date']].groupby( 'customer_id' ).max().reset_index()\n",
    "df_recency['recency'] = (df_raw_4['invoice_date'].max()-df_recency['invoice_date']).dt.days+1\n",
    "df_recency = df_recency[['customer_id', 'recency']]\n",
    "df_ref = pd.merge(df_ref, df_recency, on='customer_id', how='left')\n",
    "df_ref.isna().sum()"
   ]
  },
  {
   "cell_type": "markdown",
   "id": "1788cbea",
   "metadata": {},
   "source": [
    "### 4.1.3. Frequency - number of purchases in last 365 days"
   ]
  },
  {
   "cell_type": "code",
   "execution_count": 98,
   "id": "879f0af1",
   "metadata": {
    "ExecuteTime": {
     "end_time": "2022-11-29T15:12:36.125920Z",
     "start_time": "2022-11-29T15:12:36.016385Z"
    }
   },
   "outputs": [
    {
     "data": {
      "text/plain": [
       "customer_id       0\n",
       "gross_revenue     0\n",
       "recency          28\n",
       "frequency        91\n",
       "dtype: int64"
      ]
     },
     "execution_count": 98,
     "metadata": {},
     "output_type": "execute_result"
    }
   ],
   "source": [
    "# frequency - number of purchases in last 365 days\n",
    "dd = datetime.timedelta(days=365)\n",
    "df_frequency = df_raw_purchases[df_raw_purchases['invoice_date']>=(df_raw_purchases['invoice_date'].max() - dd)][['invoice_no', 'customer_id']].drop_duplicates().groupby('customer_id').count().reset_index().rename(columns={'invoice_no':'frequency'})\n",
    "df_ref = pd.merge(df_ref, df_frequency, on='customer_id', how='left')\n",
    "df_ref.isna().sum()"
   ]
  },
  {
   "cell_type": "markdown",
   "id": "936eee75",
   "metadata": {},
   "source": [
    "### 4.1.4. Quantity of Returns - number of invoices with negative quantity"
   ]
  },
  {
   "cell_type": "code",
   "execution_count": 99,
   "id": "ddbf14ef",
   "metadata": {
    "ExecuteTime": {
     "end_time": "2022-11-29T15:12:36.498112Z",
     "start_time": "2022-11-29T15:12:36.479108Z"
    }
   },
   "outputs": [
    {
     "data": {
      "text/plain": [
       "customer_id         0\n",
       "gross_revenue       0\n",
       "recency            28\n",
       "frequency          91\n",
       "qty_returns      2828\n",
       "dtype: int64"
      ]
     },
     "execution_count": 99,
     "metadata": {},
     "output_type": "execute_result"
    }
   ],
   "source": [
    "df_returns = (df_raw_returns[['customer_id', 'invoice_no']].drop_duplicates()\n",
    "                                                           .groupby('customer_id')\n",
    "                                                           .count()\n",
    "                                                           .reset_index()\n",
    "                                                           .rename(columns={'invoice_no':'qty_returns'}))\n",
    "df_ref = pd.merge(df_ref, df_returns, on='customer_id', how='left')\n",
    "df_ref.isna().sum()"
   ]
  },
  {
   "cell_type": "markdown",
   "id": "4530b7ce",
   "metadata": {},
   "source": [
    "### 4.1.5. Quantity of Products"
   ]
  },
  {
   "cell_type": "code",
   "execution_count": 100,
   "id": "e1df96a5",
   "metadata": {
    "ExecuteTime": {
     "end_time": "2022-11-29T15:12:38.362074Z",
     "start_time": "2022-11-29T15:12:38.314322Z"
    }
   },
   "outputs": [
    {
     "data": {
      "text/plain": [
       "customer_id         0\n",
       "gross_revenue       0\n",
       "recency            28\n",
       "frequency          91\n",
       "qty_returns      2828\n",
       "qty_items          28\n",
       "dtype: int64"
      ]
     },
     "execution_count": 100,
     "metadata": {},
     "output_type": "execute_result"
    }
   ],
   "source": [
    "df_quantity = (df_raw_purchases[['customer_id','quantity']].groupby('customer_id')\n",
    "                                                           .sum()\n",
    "                                                           .reset_index()\n",
    "                                                           .rename(columns={'quantity': 'qty_items'}))\n",
    "df_ref = pd.merge(df_ref, df_quantity, on='customer_id', how='left')\n",
    "df_ref.isna().sum()"
   ]
  },
  {
   "cell_type": "markdown",
   "id": "02b92008",
   "metadata": {},
   "source": [
    "### 4.1.6. Average Basket Size - quantity of products / total of invoices"
   ]
  },
  {
   "cell_type": "code",
   "execution_count": 101,
   "id": "3c1d4d36",
   "metadata": {
    "ExecuteTime": {
     "end_time": "2022-11-29T15:12:39.804024Z",
     "start_time": "2022-11-29T15:12:39.689117Z"
    }
   },
   "outputs": [
    {
     "data": {
      "text/plain": [
       "customer_id           0\n",
       "gross_revenue         0\n",
       "recency              28\n",
       "frequency            91\n",
       "qty_returns        2828\n",
       "qty_items            28\n",
       "avg_basket_size      28\n",
       "dtype: int64"
      ]
     },
     "execution_count": 101,
     "metadata": {},
     "output_type": "execute_result"
    }
   ],
   "source": [
    "df_avg_bs = (df_raw_purchases[['customer_id', 'invoice_no', 'quantity']].groupby('customer_id')\n",
    "                                                                        .agg(n_purchases=('invoice_no', 'nunique'),\n",
    "                                                                             n_products=('quantity', 'sum'))\n",
    "                                                                        .reset_index())\n",
    "df_avg_bs['avg_basket_size'] = df_avg_bs['n_products']/df_avg_bs['n_purchases']\n",
    "df_ref = pd.merge(df_ref, df_avg_bs[['customer_id', 'avg_basket_size']], on='customer_id', how='left')\n",
    "df_ref.isna().sum()"
   ]
  },
  {
   "cell_type": "markdown",
   "id": "ceffd10a",
   "metadata": {},
   "source": [
    "### 4.1.7. Assortment- quantity of distinct items purchased"
   ]
  },
  {
   "cell_type": "code",
   "execution_count": 102,
   "id": "bd0c8fde",
   "metadata": {
    "ExecuteTime": {
     "end_time": "2022-11-29T15:12:41.129263Z",
     "start_time": "2022-11-29T15:12:41.001091Z"
    }
   },
   "outputs": [
    {
     "data": {
      "text/plain": [
       "customer_id           0\n",
       "gross_revenue         0\n",
       "recency              28\n",
       "frequency            91\n",
       "qty_returns        2828\n",
       "qty_items            28\n",
       "avg_basket_size      28\n",
       "assortment           28\n",
       "dtype: int64"
      ]
     },
     "execution_count": 102,
     "metadata": {},
     "output_type": "execute_result"
    }
   ],
   "source": [
    "df_assortment = (df_raw_purchases[['customer_id', 'stock_code']].drop_duplicates()\n",
    "                                                                .groupby('customer_id')\n",
    "                                                                .count()\n",
    "                                                                .reset_index()\n",
    "                                                                .rename(columns={'stock_code': 'assortment'}))\n",
    "df_ref = pd.merge(df_ref, df_assortment, on='customer_id', how='left')\n",
    "df_ref.isna().sum()"
   ]
  },
  {
   "cell_type": "markdown",
   "id": "23ef3150",
   "metadata": {},
   "source": [
    "### 4.1.8. Average Ticket Value - average amount of money spent by customer on each transaction"
   ]
  },
  {
   "cell_type": "code",
   "execution_count": 103,
   "id": "cb853e5f",
   "metadata": {
    "ExecuteTime": {
     "end_time": "2022-11-29T15:12:43.068413Z",
     "start_time": "2022-11-29T15:12:42.986226Z"
    }
   },
   "outputs": [
    {
     "data": {
      "text/plain": [
       "customer_id           0\n",
       "gross_revenue         0\n",
       "recency              28\n",
       "frequency            91\n",
       "qty_returns        2828\n",
       "qty_items            28\n",
       "avg_basket_size      28\n",
       "assortment           28\n",
       "avg_ticket            0\n",
       "dtype: int64"
      ]
     },
     "execution_count": 103,
     "metadata": {},
     "output_type": "execute_result"
    }
   ],
   "source": [
    "df_avg_ticket = (df_raw_4[['customer_id', 'invoice_no', 'gross_revenue']].groupby('customer_id')\n",
    "                                                                         .agg(n_invoices=('invoice_no', 'nunique'),\n",
    "                                                                              sum_revenue=('gross_revenue', 'sum'))\n",
    "                                                                         .reset_index())\n",
    "df_avg_ticket['avg_ticket'] = df_avg_ticket['sum_revenue']/df_avg_ticket['n_invoices']\n",
    "df_ref = pd.merge(df_ref, df_avg_ticket[['customer_id', 'avg_ticket']], on='customer_id', how='left')\n",
    "df_ref.isna().sum()"
   ]
  },
  {
   "cell_type": "markdown",
   "id": "7822e97b",
   "metadata": {},
   "source": [
    "### 4.1.9. Amount Returned"
   ]
  },
  {
   "cell_type": "code",
   "execution_count": 104,
   "id": "2d5c8630",
   "metadata": {
    "ExecuteTime": {
     "end_time": "2022-11-29T15:12:45.162892Z",
     "start_time": "2022-11-29T15:12:45.146645Z"
    }
   },
   "outputs": [
    {
     "data": {
      "text/plain": [
       "customer_id           0\n",
       "gross_revenue         0\n",
       "recency              28\n",
       "frequency            91\n",
       "qty_returns        2828\n",
       "qty_items            28\n",
       "avg_basket_size      28\n",
       "assortment           28\n",
       "avg_ticket            0\n",
       "amount_returned    2828\n",
       "dtype: int64"
      ]
     },
     "execution_count": 104,
     "metadata": {},
     "output_type": "execute_result"
    }
   ],
   "source": [
    "df_raw_returns['amount_returned'] = df_raw_returns['quantity']*df_raw_returns['unit_price']*-1\n",
    "df_amount_returned = df_raw_returns[['customer_id', 'amount_returned']].groupby('customer_id').sum().reset_index()\n",
    "df_ref = pd.merge(df_ref, df_amount_returned, on='customer_id', how='left')\n",
    "df_ref.isna().sum()"
   ]
  },
  {
   "cell_type": "markdown",
   "id": "6b068725",
   "metadata": {
    "ExecuteTime": {
     "end_time": "2022-11-27T14:20:44.464040Z",
     "start_time": "2022-11-27T14:20:44.452536Z"
    }
   },
   "source": [
    "## 4.2. Check NA and DTypes after Feature Creation"
   ]
  },
  {
   "cell_type": "code",
   "execution_count": 108,
   "id": "caf1f356",
   "metadata": {
    "ExecuteTime": {
     "end_time": "2022-11-29T15:13:31.824613Z",
     "start_time": "2022-11-29T15:13:31.801659Z"
    }
   },
   "outputs": [
    {
     "data": {
      "text/plain": [
       "customer_id        0\n",
       "gross_revenue      0\n",
       "recency            0\n",
       "frequency          0\n",
       "qty_returns        0\n",
       "qty_items          0\n",
       "avg_basket_size    0\n",
       "assortment         0\n",
       "avg_ticket         0\n",
       "amount_returned    0\n",
       "dtype: int64"
      ]
     },
     "execution_count": 108,
     "metadata": {},
     "output_type": "execute_result"
    }
   ],
   "source": [
    "# NANs\n",
    "df_ref.isna().sum()"
   ]
  },
  {
   "cell_type": "code",
   "execution_count": 106,
   "id": "2f33e935",
   "metadata": {
    "ExecuteTime": {
     "end_time": "2022-11-29T15:12:58.904902Z",
     "start_time": "2022-11-29T15:12:58.888011Z"
    }
   },
   "outputs": [
    {
     "data": {
      "text/plain": [
       "customer_id          int64\n",
       "gross_revenue      float64\n",
       "recency            float64\n",
       "frequency          float64\n",
       "qty_returns        float64\n",
       "qty_items          float64\n",
       "avg_basket_size    float64\n",
       "assortment         float64\n",
       "avg_ticket         float64\n",
       "amount_returned    float64\n",
       "dtype: object"
      ]
     },
     "execution_count": 106,
     "metadata": {},
     "output_type": "execute_result"
    }
   ],
   "source": [
    "# DTypes\n",
    "df_ref.dtypes"
   ]
  },
  {
   "cell_type": "markdown",
   "id": "7f4b851e",
   "metadata": {},
   "source": [
    "### 4.2.1. Replace NA in df_ref"
   ]
  },
  {
   "cell_type": "code",
   "execution_count": 107,
   "id": "ce8dd618",
   "metadata": {
    "ExecuteTime": {
     "end_time": "2022-11-29T15:13:27.275198Z",
     "start_time": "2022-11-29T15:13:27.240005Z"
    }
   },
   "outputs": [],
   "source": [
    "# nan values were assigned to customers with 0 purchases in the last 365 days\n",
    "df_ref['frequency'] = df_ref['frequency'].fillna(0)\n",
    "\n",
    "# nan values were assigned to customers wih 0 returns\n",
    "df_ref['qty_returns'] = df_ref['qty_returns'].fillna(0)\n",
    "df_ref['amount_returned'] = df_ref['amount_returned'].fillna(0)\n",
    "\n",
    "# drop NA for remaining attributes\n",
    "df_ref = df_ref.dropna()"
   ]
  },
  {
   "cell_type": "code",
   "execution_count": 109,
   "id": "faccfc76",
   "metadata": {
    "ExecuteTime": {
     "end_time": "2022-11-29T15:13:35.520681Z",
     "start_time": "2022-11-29T15:13:35.487185Z"
    }
   },
   "outputs": [
    {
     "data": {
      "text/html": [
       "<div>\n",
       "<style scoped>\n",
       "    .dataframe tbody tr th:only-of-type {\n",
       "        vertical-align: middle;\n",
       "    }\n",
       "\n",
       "    .dataframe tbody tr th {\n",
       "        vertical-align: top;\n",
       "    }\n",
       "\n",
       "    .dataframe thead th {\n",
       "        text-align: right;\n",
       "    }\n",
       "</style>\n",
       "<table border=\"1\" class=\"dataframe\">\n",
       "  <thead>\n",
       "    <tr style=\"text-align: right;\">\n",
       "      <th></th>\n",
       "      <th>customer_id</th>\n",
       "      <th>gross_revenue</th>\n",
       "      <th>recency</th>\n",
       "      <th>frequency</th>\n",
       "      <th>qty_returns</th>\n",
       "      <th>qty_items</th>\n",
       "      <th>avg_basket_size</th>\n",
       "      <th>assortment</th>\n",
       "      <th>avg_ticket</th>\n",
       "      <th>amount_returned</th>\n",
       "    </tr>\n",
       "  </thead>\n",
       "  <tbody>\n",
       "    <tr>\n",
       "      <th>0</th>\n",
       "      <td>17850</td>\n",
       "      <td>5288.63</td>\n",
       "      <td>373.0</td>\n",
       "      <td>0.0</td>\n",
       "      <td>1.0</td>\n",
       "      <td>1733.0</td>\n",
       "      <td>50.970588</td>\n",
       "      <td>21.0</td>\n",
       "      <td>151.103714</td>\n",
       "      <td>102.58</td>\n",
       "    </tr>\n",
       "    <tr>\n",
       "      <th>1</th>\n",
       "      <td>13047</td>\n",
       "      <td>3089.10</td>\n",
       "      <td>57.0</td>\n",
       "      <td>6.0</td>\n",
       "      <td>7.0</td>\n",
       "      <td>1390.0</td>\n",
       "      <td>154.444444</td>\n",
       "      <td>105.0</td>\n",
       "      <td>193.068750</td>\n",
       "      <td>143.49</td>\n",
       "    </tr>\n",
       "    <tr>\n",
       "      <th>2</th>\n",
       "      <td>12583</td>\n",
       "      <td>6629.34</td>\n",
       "      <td>3.0</td>\n",
       "      <td>14.0</td>\n",
       "      <td>2.0</td>\n",
       "      <td>5028.0</td>\n",
       "      <td>335.200000</td>\n",
       "      <td>114.0</td>\n",
       "      <td>389.961176</td>\n",
       "      <td>76.04</td>\n",
       "    </tr>\n",
       "    <tr>\n",
       "      <th>3</th>\n",
       "      <td>13748</td>\n",
       "      <td>948.25</td>\n",
       "      <td>96.0</td>\n",
       "      <td>4.0</td>\n",
       "      <td>0.0</td>\n",
       "      <td>439.0</td>\n",
       "      <td>87.800000</td>\n",
       "      <td>24.0</td>\n",
       "      <td>189.650000</td>\n",
       "      <td>0.00</td>\n",
       "    </tr>\n",
       "    <tr>\n",
       "      <th>4</th>\n",
       "      <td>15100</td>\n",
       "      <td>635.10</td>\n",
       "      <td>334.0</td>\n",
       "      <td>1.0</td>\n",
       "      <td>3.0</td>\n",
       "      <td>80.0</td>\n",
       "      <td>26.666667</td>\n",
       "      <td>1.0</td>\n",
       "      <td>105.850000</td>\n",
       "      <td>240.90</td>\n",
       "    </tr>\n",
       "  </tbody>\n",
       "</table>\n",
       "</div>"
      ],
      "text/plain": [
       "   customer_id  gross_revenue  recency  frequency  qty_returns  qty_items  \\\n",
       "0        17850        5288.63    373.0        0.0          1.0     1733.0   \n",
       "1        13047        3089.10     57.0        6.0          7.0     1390.0   \n",
       "2        12583        6629.34      3.0       14.0          2.0     5028.0   \n",
       "3        13748         948.25     96.0        4.0          0.0      439.0   \n",
       "4        15100         635.10    334.0        1.0          3.0       80.0   \n",
       "\n",
       "   avg_basket_size  assortment  avg_ticket  amount_returned  \n",
       "0        50.970588        21.0  151.103714           102.58  \n",
       "1       154.444444       105.0  193.068750           143.49  \n",
       "2       335.200000       114.0  389.961176            76.04  \n",
       "3        87.800000        24.0  189.650000             0.00  \n",
       "4        26.666667         1.0  105.850000           240.90  "
      ]
     },
     "execution_count": 109,
     "metadata": {},
     "output_type": "execute_result"
    }
   ],
   "source": [
    "df_ref.head()"
   ]
  },
  {
   "cell_type": "markdown",
   "id": "6c77ad8a",
   "metadata": {},
   "source": [
    "# 5.0. EDA (EXPLORATORY DATA ANALYSIS)"
   ]
  },
  {
   "cell_type": "code",
   "execution_count": 110,
   "id": "c3ad4089",
   "metadata": {
    "ExecuteTime": {
     "end_time": "2022-11-29T15:13:49.758897Z",
     "start_time": "2022-11-29T15:13:49.755163Z"
    }
   },
   "outputs": [],
   "source": [
    "df_ref_5 = df_ref.copy()"
   ]
  },
  {
   "cell_type": "markdown",
   "id": "e7d28bb8",
   "metadata": {},
   "source": [
    "# 6.0. DATA PREPARATION"
   ]
  },
  {
   "cell_type": "code",
   "execution_count": 111,
   "id": "6b836462",
   "metadata": {
    "ExecuteTime": {
     "end_time": "2022-11-29T15:13:52.518948Z",
     "start_time": "2022-11-29T15:13:52.513578Z"
    }
   },
   "outputs": [],
   "source": [
    "df_ref_6 = df_ref_5.copy()"
   ]
  },
  {
   "cell_type": "markdown",
   "id": "43871caa",
   "metadata": {},
   "source": [
    "# 7.0. FEATURE SELECTION"
   ]
  },
  {
   "cell_type": "code",
   "execution_count": 112,
   "id": "5c3657c4",
   "metadata": {
    "ExecuteTime": {
     "end_time": "2022-11-29T15:13:55.097542Z",
     "start_time": "2022-11-29T15:13:55.090880Z"
    }
   },
   "outputs": [],
   "source": [
    "df_ref_7 = df_ref_6.copy()"
   ]
  },
  {
   "cell_type": "markdown",
   "id": "4263e249",
   "metadata": {},
   "source": [
    "# 8.0. HYPER-PARAMETER FINE TUNING"
   ]
  },
  {
   "cell_type": "code",
   "execution_count": 113,
   "id": "73e9fb14",
   "metadata": {
    "ExecuteTime": {
     "end_time": "2022-11-29T15:13:56.698669Z",
     "start_time": "2022-11-29T15:13:56.687476Z"
    }
   },
   "outputs": [],
   "source": [
    "df_ref_8 = df_ref_7.copy()"
   ]
  },
  {
   "cell_type": "code",
   "execution_count": 114,
   "id": "c244ca2a",
   "metadata": {
    "ExecuteTime": {
     "end_time": "2022-11-29T15:13:58.961089Z",
     "start_time": "2022-11-29T15:13:58.907373Z"
    }
   },
   "outputs": [
    {
     "data": {
      "text/html": [
       "<div>\n",
       "<style scoped>\n",
       "    .dataframe tbody tr th:only-of-type {\n",
       "        vertical-align: middle;\n",
       "    }\n",
       "\n",
       "    .dataframe tbody tr th {\n",
       "        vertical-align: top;\n",
       "    }\n",
       "\n",
       "    .dataframe thead th {\n",
       "        text-align: right;\n",
       "    }\n",
       "</style>\n",
       "<table border=\"1\" class=\"dataframe\">\n",
       "  <thead>\n",
       "    <tr style=\"text-align: right;\">\n",
       "      <th></th>\n",
       "      <th>customer_id</th>\n",
       "      <th>gross_revenue</th>\n",
       "      <th>recency</th>\n",
       "      <th>frequency</th>\n",
       "      <th>qty_returns</th>\n",
       "      <th>qty_items</th>\n",
       "      <th>avg_basket_size</th>\n",
       "      <th>assortment</th>\n",
       "      <th>avg_ticket</th>\n",
       "      <th>amount_returned</th>\n",
       "    </tr>\n",
       "  </thead>\n",
       "  <tbody>\n",
       "    <tr>\n",
       "      <th>0</th>\n",
       "      <td>17850</td>\n",
       "      <td>5288.63</td>\n",
       "      <td>373.0</td>\n",
       "      <td>0.0</td>\n",
       "      <td>1.0</td>\n",
       "      <td>1733.0</td>\n",
       "      <td>50.970588</td>\n",
       "      <td>21.0</td>\n",
       "      <td>151.103714</td>\n",
       "      <td>102.58</td>\n",
       "    </tr>\n",
       "    <tr>\n",
       "      <th>1</th>\n",
       "      <td>13047</td>\n",
       "      <td>3089.10</td>\n",
       "      <td>57.0</td>\n",
       "      <td>6.0</td>\n",
       "      <td>7.0</td>\n",
       "      <td>1390.0</td>\n",
       "      <td>154.444444</td>\n",
       "      <td>105.0</td>\n",
       "      <td>193.068750</td>\n",
       "      <td>143.49</td>\n",
       "    </tr>\n",
       "    <tr>\n",
       "      <th>2</th>\n",
       "      <td>12583</td>\n",
       "      <td>6629.34</td>\n",
       "      <td>3.0</td>\n",
       "      <td>14.0</td>\n",
       "      <td>2.0</td>\n",
       "      <td>5028.0</td>\n",
       "      <td>335.200000</td>\n",
       "      <td>114.0</td>\n",
       "      <td>389.961176</td>\n",
       "      <td>76.04</td>\n",
       "    </tr>\n",
       "    <tr>\n",
       "      <th>3</th>\n",
       "      <td>13748</td>\n",
       "      <td>948.25</td>\n",
       "      <td>96.0</td>\n",
       "      <td>4.0</td>\n",
       "      <td>0.0</td>\n",
       "      <td>439.0</td>\n",
       "      <td>87.800000</td>\n",
       "      <td>24.0</td>\n",
       "      <td>189.650000</td>\n",
       "      <td>0.00</td>\n",
       "    </tr>\n",
       "    <tr>\n",
       "      <th>4</th>\n",
       "      <td>15100</td>\n",
       "      <td>635.10</td>\n",
       "      <td>334.0</td>\n",
       "      <td>1.0</td>\n",
       "      <td>3.0</td>\n",
       "      <td>80.0</td>\n",
       "      <td>26.666667</td>\n",
       "      <td>1.0</td>\n",
       "      <td>105.850000</td>\n",
       "      <td>240.90</td>\n",
       "    </tr>\n",
       "  </tbody>\n",
       "</table>\n",
       "</div>"
      ],
      "text/plain": [
       "   customer_id  gross_revenue  recency  frequency  qty_returns  qty_items  \\\n",
       "0        17850        5288.63    373.0        0.0          1.0     1733.0   \n",
       "1        13047        3089.10     57.0        6.0          7.0     1390.0   \n",
       "2        12583        6629.34      3.0       14.0          2.0     5028.0   \n",
       "3        13748         948.25     96.0        4.0          0.0      439.0   \n",
       "4        15100         635.10    334.0        1.0          3.0       80.0   \n",
       "\n",
       "   avg_basket_size  assortment  avg_ticket  amount_returned  \n",
       "0        50.970588        21.0  151.103714           102.58  \n",
       "1       154.444444       105.0  193.068750           143.49  \n",
       "2       335.200000       114.0  389.961176            76.04  \n",
       "3        87.800000        24.0  189.650000             0.00  \n",
       "4        26.666667         1.0  105.850000           240.90  "
      ]
     },
     "execution_count": 114,
     "metadata": {},
     "output_type": "execute_result"
    }
   ],
   "source": [
    "df_ref_8.head()"
   ]
  },
  {
   "cell_type": "code",
   "execution_count": 115,
   "id": "507507ad",
   "metadata": {
    "ExecuteTime": {
     "end_time": "2022-11-29T15:14:03.433729Z",
     "start_time": "2022-11-29T15:14:03.421130Z"
    }
   },
   "outputs": [],
   "source": [
    "# drop customer_id to train model\n",
    "x = df_ref_8.drop(columns='customer_id')"
   ]
  },
  {
   "cell_type": "code",
   "execution_count": 116,
   "id": "25641004",
   "metadata": {
    "ExecuteTime": {
     "end_time": "2022-11-29T15:14:10.776688Z",
     "start_time": "2022-11-29T15:14:06.774917Z"
    }
   },
   "outputs": [
    {
     "name": "stderr",
     "output_type": "stream",
     "text": [
      "/home/felipe/repos/insiders_clustering/insiders_env/lib/python3.9/site-packages/yellowbrick/utils/kneed.py:156: YellowbrickWarning:\n",
      "\n",
      "No 'knee' or 'elbow point' detected This could be due to bad clustering, no actual clusters being formed etc.\n",
      "\n",
      "/home/felipe/repos/insiders_clustering/insiders_env/lib/python3.9/site-packages/yellowbrick/cluster/elbow.py:374: YellowbrickWarning:\n",
      "\n",
      "No 'knee' or 'elbow' point detected, pass `locate_elbow=False` to remove the warning\n",
      "\n"
     ]
    },
    {
     "data": {
      "image/png": "[encoded data removed]",
      "text/plain": [
       "<Figure size 800x550 with 1 Axes>"
      ]
     },
     "metadata": {},
     "output_type": "display_data"
    }
   ],
   "source": [
    "# number of cluster to test\n",
    "clusters = [2, 3, 4, 5, 6]\n",
    "\n",
    "# visualize WSS (Within-Cluster Sum of Square) metric \n",
    "kmeans = KElbowVisualizer(C.KMeans(), k=clusters, timings=False)\n",
    "kmeans.fit(x)\n",
    "kmeans.show();"
   ]
  },
  {
   "cell_type": "code",
   "execution_count": 117,
   "id": "933c211a",
   "metadata": {
    "ExecuteTime": {
     "end_time": "2022-11-29T15:14:30.255737Z",
     "start_time": "2022-11-29T15:14:23.737928Z"
    }
   },
   "outputs": [
    {
     "data": {
      "image/png": "[encoded data removed]",
      "text/plain": [
       "<Figure size 800x550 with 1 Axes>"
      ]
     },
     "metadata": {},
     "output_type": "display_data"
    }
   ],
   "source": [
    "# visualize SS (Silhouette Score) metric \n",
    "kmeans = KElbowVisualizer(C.KMeans(), k=clusters, metric='silhouette', timings=False)\n",
    "kmeans.fit(x)\n",
    "kmeans.show();"
   ]
  },
  {
   "cell_type": "markdown",
   "id": "1e3b4b5f",
   "metadata": {},
   "source": [
    "# 9.0. MODEL TRAINING"
   ]
  },
  {
   "cell_type": "markdown",
   "id": "d29237d1",
   "metadata": {},
   "source": [
    "## 9.1. K-Means"
   ]
  },
  {
   "cell_type": "code",
   "execution_count": 118,
   "id": "56fd1a67",
   "metadata": {
    "ExecuteTime": {
     "end_time": "2022-11-29T15:14:39.835470Z",
     "start_time": "2022-11-29T15:14:39.068079Z"
    }
   },
   "outputs": [],
   "source": [
    "# model definition\n",
    "k = 4\n",
    "kmeans = C.KMeans(init='random', n_clusters=k, n_init=100, max_iter=300)\n",
    "\n",
    "# model training\n",
    "kmeans.fit(x)\n",
    "\n",
    "# clustering\n",
    "labels = kmeans.labels_"
   ]
  },
  {
   "cell_type": "markdown",
   "id": "1877f878",
   "metadata": {},
   "source": [
    "### 9.1.2. K-Means cluster validation"
   ]
  },
  {
   "cell_type": "code",
   "execution_count": 119,
   "id": "1d65f978",
   "metadata": {
    "ExecuteTime": {
     "end_time": "2022-11-29T15:14:42.895422Z",
     "start_time": "2022-11-29T15:14:42.518354Z"
    }
   },
   "outputs": [
    {
     "name": "stdout",
     "output_type": "stream",
     "text": [
      "WSS value: 88272848113.95148\n",
      "SS value: 0.9485015326240019\n"
     ]
    }
   ],
   "source": [
    "# WSS (Within-Cluster Sum of Square)\n",
    "print('WSS value: {}'.format(kmeans.inertia_))\n",
    "\n",
    "# SS (Silhouette Score)\n",
    "print('SS value: {}'.format(M.silhouette_score(x, labels, metric='euclidean')))"
   ]
  },
  {
   "cell_type": "markdown",
   "id": "9e86f691",
   "metadata": {},
   "source": [
    "# 10.0. CLUSTER ANALYSIS"
   ]
  },
  {
   "cell_type": "code",
   "execution_count": 120,
   "id": "e4aa9637",
   "metadata": {
    "ExecuteTime": {
     "end_time": "2022-11-29T15:14:46.959578Z",
     "start_time": "2022-11-29T15:14:46.955215Z"
    }
   },
   "outputs": [],
   "source": [
    "df_ref_10 = df_ref_8.copy()\n",
    "df_ref_10['clusters'] = labels"
   ]
  },
  {
   "cell_type": "markdown",
   "id": "7eea4837",
   "metadata": {},
   "source": [
    "## 10.1. Visualization Inspection"
   ]
  },
  {
   "cell_type": "code",
   "execution_count": 123,
   "id": "1ab6eb22",
   "metadata": {
    "ExecuteTime": {
     "end_time": "2022-11-29T15:15:31.903045Z",
     "start_time": "2022-11-29T15:15:31.893109Z"
    }
   },
   "outputs": [],
   "source": [
    "# fig = px.scatter_3d(df_ref_10, x='recency', y='frequency', z='gross_revenue', color='clusters')\n",
    "# fig.show()"
   ]
  },
  {
   "cell_type": "markdown",
   "id": "ec346df9",
   "metadata": {},
   "source": [
    "## 10.2. Clusters Profile"
   ]
  },
  {
   "cell_type": "code",
   "execution_count": 121,
   "id": "da654fe1",
   "metadata": {
    "ExecuteTime": {
     "end_time": "2022-11-29T15:15:00.768347Z",
     "start_time": "2022-11-29T15:15:00.713418Z"
    }
   },
   "outputs": [],
   "source": [
    "# number of customer\n",
    "df_cluster = df_ref_10[['customer_id', 'clusters']].groupby('clusters').count().reset_index().rename(columns={'customer_id':'qty_customers'})\n",
    "df_cluster['perc_customer'] = 100*(df_cluster['qty_customers']/df_cluster['qty_customers'].sum())\n",
    "\n",
    "# avg gross revenue\n",
    "df_avg_gr = df_ref_10[['gross_revenue', 'clusters']].groupby('clusters').mean().reset_index().rename(columns={'gross_revenue':'avg_gross_revenue'})\n",
    "df_cluster = pd.merge(df_cluster, df_avg_gr, on='clusters', how='left')\n",
    "\n",
    "# avg recency days\n",
    "df_avg_rd = df_ref_10[['recency', 'clusters']].groupby('clusters').mean().reset_index().rename(columns={'recency':'avg_recency'})\n",
    "df_cluster = pd.merge(df_cluster, df_avg_rd, on='clusters', how='left')\n",
    "\n",
    "# avg frequency\n",
    "df_avg_fr = df_ref_10[['frequency', 'clusters']].groupby('clusters').mean().reset_index().rename(columns={'frequency':'avg_frequency'})\n",
    "df_cluster = pd.merge(df_cluster, df_avg_fr, on='clusters', how='left')\n"
   ]
  },
  {
   "cell_type": "code",
   "execution_count": 122,
   "id": "c5aa4900",
   "metadata": {
    "ExecuteTime": {
     "end_time": "2022-11-29T15:15:04.278734Z",
     "start_time": "2022-11-29T15:15:04.247561Z"
    }
   },
   "outputs": [
    {
     "data": {
      "text/html": [
       "<div>\n",
       "<style scoped>\n",
       "    .dataframe tbody tr th:only-of-type {\n",
       "        vertical-align: middle;\n",
       "    }\n",
       "\n",
       "    .dataframe tbody tr th {\n",
       "        vertical-align: top;\n",
       "    }\n",
       "\n",
       "    .dataframe thead th {\n",
       "        text-align: right;\n",
       "    }\n",
       "</style>\n",
       "<table border=\"1\" class=\"dataframe\">\n",
       "  <thead>\n",
       "    <tr style=\"text-align: right;\">\n",
       "      <th></th>\n",
       "      <th>clusters</th>\n",
       "      <th>qty_customers</th>\n",
       "      <th>perc_customer</th>\n",
       "      <th>avg_gross_revenue</th>\n",
       "      <th>avg_recency</th>\n",
       "      <th>avg_frequency</th>\n",
       "    </tr>\n",
       "  </thead>\n",
       "  <tbody>\n",
       "    <tr>\n",
       "      <th>0</th>\n",
       "      <td>0</td>\n",
       "      <td>2</td>\n",
       "      <td>0.046147</td>\n",
       "      <td>1.450000</td>\n",
       "      <td>163.500000</td>\n",
       "      <td>1.500000</td>\n",
       "    </tr>\n",
       "    <tr>\n",
       "      <th>1</th>\n",
       "      <td>1</td>\n",
       "      <td>32</td>\n",
       "      <td>0.738348</td>\n",
       "      <td>40497.189063</td>\n",
       "      <td>20.437500</td>\n",
       "      <td>41.062500</td>\n",
       "    </tr>\n",
       "    <tr>\n",
       "      <th>2</th>\n",
       "      <td>2</td>\n",
       "      <td>6</td>\n",
       "      <td>0.138440</td>\n",
       "      <td>182424.413333</td>\n",
       "      <td>8.166667</td>\n",
       "      <td>72.833333</td>\n",
       "    </tr>\n",
       "    <tr>\n",
       "      <th>3</th>\n",
       "      <td>3</td>\n",
       "      <td>4294</td>\n",
       "      <td>99.077065</td>\n",
       "      <td>1374.039793</td>\n",
       "      <td>93.855147</td>\n",
       "      <td>3.719376</td>\n",
       "    </tr>\n",
       "  </tbody>\n",
       "</table>\n",
       "</div>"
      ],
      "text/plain": [
       "   clusters  qty_customers  perc_customer  avg_gross_revenue  avg_recency  \\\n",
       "0         0              2       0.046147           1.450000   163.500000   \n",
       "1         1             32       0.738348       40497.189063    20.437500   \n",
       "2         2              6       0.138440      182424.413333     8.166667   \n",
       "3         3           4294      99.077065        1374.039793    93.855147   \n",
       "\n",
       "   avg_frequency  \n",
       "0       1.500000  \n",
       "1      41.062500  \n",
       "2      72.833333  \n",
       "3       3.719376  "
      ]
     },
     "execution_count": 122,
     "metadata": {},
     "output_type": "execute_result"
    }
   ],
   "source": [
    "df_cluster.head()"
   ]
  },
  {
   "cell_type": "markdown",
   "id": "d67a6f79",
   "metadata": {
    "ExecuteTime": {
     "end_time": "2022-11-28T14:10:03.942906Z",
     "start_time": "2022-11-28T14:10:03.930661Z"
    }
   },
   "source": [
    "### 10.2.1. Cluster Insiders"
   ]
  },
  {
   "cell_type": "markdown",
   "id": "fa136577",
   "metadata": {},
   "source": [
    "- Cluster: 1\n",
    "- Number of customers: 6 (0.14% of customer base)\n",
    "- Average recency (days since last purchase): 8 days\n",
    "- Average frequency (purchases in last 365 days): 1803 purchases\n",
    "- Average gross revenue: $ 180,182.00"
   ]
  },
  {
   "cell_type": "markdown",
   "id": "17d3658e",
   "metadata": {},
   "source": [
    "# 11.0. DEPLOY"
   ]
  }
 ],
 "metadata": {
  "kernelspec": {
   "display_name": "insiders_env",
   "language": "python",
   "name": "insiders_env"
  },
  "language_info": {
   "codemirror_mode": {
    "name": "ipython",
    "version": 3
   },
   "file_extension": ".py",
   "mimetype": "text/x-python",
   "name": "python",
   "nbconvert_exporter": "python",
   "pygments_lexer": "ipython3",
   "version": "3.9.12"
  }
 },
 "nbformat": 4,
 "nbformat_minor": 5
}
